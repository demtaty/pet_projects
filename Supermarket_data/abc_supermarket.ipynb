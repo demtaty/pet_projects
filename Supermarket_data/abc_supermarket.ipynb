{
 "cells": [
  {
   "cell_type": "code",
   "execution_count": 1,
   "id": "abca1091-dc20-4d15-9f2e-452c18759cea",
   "metadata": {},
   "outputs": [],
   "source": [
    "import pandas as pd\n",
    "import numpy as np\n",
    "from datetime import datetime, timedelta\n",
    "import seaborn as sns\n",
    "import matplotlib.pyplot as plt"
   ]
  },
  {
   "cell_type": "code",
   "execution_count": 2,
   "id": "734b4901-eb64-4d7f-89cf-9b317f890c0e",
   "metadata": {},
   "outputs": [],
   "source": [
    "df = pd.read_csv('superstoredata.csv', sep=',')"
   ]
  },
  {
   "cell_type": "code",
   "execution_count": 3,
   "id": "e86945fe-fd92-452f-9dfa-dec966295328",
   "metadata": {},
   "outputs": [
    {
     "data": {
      "text/html": [
       "<div>\n",
       "<style scoped>\n",
       "    .dataframe tbody tr th:only-of-type {\n",
       "        vertical-align: middle;\n",
       "    }\n",
       "\n",
       "    .dataframe tbody tr th {\n",
       "        vertical-align: top;\n",
       "    }\n",
       "\n",
       "    .dataframe thead th {\n",
       "        text-align: right;\n",
       "    }\n",
       "</style>\n",
       "<table border=\"1\" class=\"dataframe\">\n",
       "  <thead>\n",
       "    <tr style=\"text-align: right;\">\n",
       "      <th></th>\n",
       "      <th>InvoiceNo</th>\n",
       "      <th>StockCode</th>\n",
       "      <th>Description</th>\n",
       "      <th>Quantity</th>\n",
       "      <th>InvoiceDate</th>\n",
       "      <th>UnitPrice</th>\n",
       "      <th>CustomerID</th>\n",
       "      <th>Country</th>\n",
       "      <th>Sales</th>\n",
       "    </tr>\n",
       "  </thead>\n",
       "  <tbody>\n",
       "    <tr>\n",
       "      <th>0</th>\n",
       "      <td>536365</td>\n",
       "      <td>85123A</td>\n",
       "      <td>WHITE HANGING HEART T-LIGHT HOLDER</td>\n",
       "      <td>6</td>\n",
       "      <td>12/1/2010 8:26</td>\n",
       "      <td>2.55</td>\n",
       "      <td>17850.0</td>\n",
       "      <td>United Kingdom</td>\n",
       "      <td>15.30</td>\n",
       "    </tr>\n",
       "    <tr>\n",
       "      <th>1</th>\n",
       "      <td>536365</td>\n",
       "      <td>71053</td>\n",
       "      <td>WHITE METAL LANTERN</td>\n",
       "      <td>6</td>\n",
       "      <td>12/1/2010 8:26</td>\n",
       "      <td>3.39</td>\n",
       "      <td>17850.0</td>\n",
       "      <td>United Kingdom</td>\n",
       "      <td>20.34</td>\n",
       "    </tr>\n",
       "    <tr>\n",
       "      <th>2</th>\n",
       "      <td>536365</td>\n",
       "      <td>84406B</td>\n",
       "      <td>CREAM CUPID HEARTS COAT HANGER</td>\n",
       "      <td>8</td>\n",
       "      <td>12/1/2010 8:26</td>\n",
       "      <td>2.75</td>\n",
       "      <td>17850.0</td>\n",
       "      <td>United Kingdom</td>\n",
       "      <td>22.00</td>\n",
       "    </tr>\n",
       "    <tr>\n",
       "      <th>3</th>\n",
       "      <td>536365</td>\n",
       "      <td>84029G</td>\n",
       "      <td>KNITTED UNION FLAG HOT WATER BOTTLE</td>\n",
       "      <td>6</td>\n",
       "      <td>12/1/2010 8:26</td>\n",
       "      <td>3.39</td>\n",
       "      <td>17850.0</td>\n",
       "      <td>United Kingdom</td>\n",
       "      <td>20.34</td>\n",
       "    </tr>\n",
       "    <tr>\n",
       "      <th>4</th>\n",
       "      <td>536365</td>\n",
       "      <td>84029E</td>\n",
       "      <td>RED WOOLLY HOTTIE WHITE HEART.</td>\n",
       "      <td>6</td>\n",
       "      <td>12/1/2010 8:26</td>\n",
       "      <td>3.39</td>\n",
       "      <td>17850.0</td>\n",
       "      <td>United Kingdom</td>\n",
       "      <td>20.34</td>\n",
       "    </tr>\n",
       "  </tbody>\n",
       "</table>\n",
       "</div>"
      ],
      "text/plain": [
       "  InvoiceNo StockCode                          Description  Quantity  \\\n",
       "0    536365    85123A   WHITE HANGING HEART T-LIGHT HOLDER         6   \n",
       "1    536365     71053                  WHITE METAL LANTERN         6   \n",
       "2    536365    84406B       CREAM CUPID HEARTS COAT HANGER         8   \n",
       "3    536365    84029G  KNITTED UNION FLAG HOT WATER BOTTLE         6   \n",
       "4    536365    84029E       RED WOOLLY HOTTIE WHITE HEART.         6   \n",
       "\n",
       "      InvoiceDate  UnitPrice  CustomerID         Country  Sales  \n",
       "0  12/1/2010 8:26       2.55     17850.0  United Kingdom  15.30  \n",
       "1  12/1/2010 8:26       3.39     17850.0  United Kingdom  20.34  \n",
       "2  12/1/2010 8:26       2.75     17850.0  United Kingdom  22.00  \n",
       "3  12/1/2010 8:26       3.39     17850.0  United Kingdom  20.34  \n",
       "4  12/1/2010 8:26       3.39     17850.0  United Kingdom  20.34  "
      ]
     },
     "execution_count": 3,
     "metadata": {},
     "output_type": "execute_result"
    }
   ],
   "source": [
    "df.head()"
   ]
  },
  {
   "cell_type": "code",
   "execution_count": 4,
   "id": "4b5470d7-c29e-47eb-9b0d-29d10a28a729",
   "metadata": {},
   "outputs": [
    {
     "data": {
      "text/plain": [
       "(541909, 9)"
      ]
     },
     "execution_count": 4,
     "metadata": {},
     "output_type": "execute_result"
    }
   ],
   "source": [
    "df.shape"
   ]
  },
  {
   "cell_type": "code",
   "execution_count": 5,
   "id": "0c317734-2339-47e2-875d-aac21e3fc862",
   "metadata": {},
   "outputs": [
    {
     "data": {
      "text/plain": [
       "InvoiceNo           0\n",
       "StockCode           0\n",
       "Description      1454\n",
       "Quantity            0\n",
       "InvoiceDate         0\n",
       "UnitPrice           0\n",
       "CustomerID     135080\n",
       "Country             0\n",
       "Sales               0\n",
       "dtype: int64"
      ]
     },
     "execution_count": 5,
     "metadata": {},
     "output_type": "execute_result"
    }
   ],
   "source": [
    "# Проверяем наличие пустых значений\n",
    "df.isna().sum()"
   ]
  },
  {
   "cell_type": "code",
   "execution_count": 6,
   "id": "46df93fd-bff7-48d1-a4b0-698f92799ece",
   "metadata": {},
   "outputs": [
    {
     "data": {
      "text/html": [
       "<div>\n",
       "<style scoped>\n",
       "    .dataframe tbody tr th:only-of-type {\n",
       "        vertical-align: middle;\n",
       "    }\n",
       "\n",
       "    .dataframe tbody tr th {\n",
       "        vertical-align: top;\n",
       "    }\n",
       "\n",
       "    .dataframe thead th {\n",
       "        text-align: right;\n",
       "    }\n",
       "</style>\n",
       "<table border=\"1\" class=\"dataframe\">\n",
       "  <thead>\n",
       "    <tr style=\"text-align: right;\">\n",
       "      <th></th>\n",
       "      <th>InvoiceNo</th>\n",
       "      <th>StockCode</th>\n",
       "      <th>Description</th>\n",
       "      <th>Quantity</th>\n",
       "      <th>InvoiceDate</th>\n",
       "      <th>UnitPrice</th>\n",
       "      <th>CustomerID</th>\n",
       "      <th>Country</th>\n",
       "      <th>Sales</th>\n",
       "    </tr>\n",
       "  </thead>\n",
       "  <tbody>\n",
       "    <tr>\n",
       "      <th>524602</th>\n",
       "      <td>C580605</td>\n",
       "      <td>AMAZONFEE</td>\n",
       "      <td>AMAZON FEE</td>\n",
       "      <td>-1</td>\n",
       "      <td>12/5/2011 11:36</td>\n",
       "      <td>17836.46</td>\n",
       "      <td>NaN</td>\n",
       "      <td>United Kingdom</td>\n",
       "      <td>-17836.46</td>\n",
       "    </tr>\n",
       "    <tr>\n",
       "      <th>43702</th>\n",
       "      <td>C540117</td>\n",
       "      <td>AMAZONFEE</td>\n",
       "      <td>AMAZON FEE</td>\n",
       "      <td>-1</td>\n",
       "      <td>1/5/2011 9:55</td>\n",
       "      <td>16888.02</td>\n",
       "      <td>NaN</td>\n",
       "      <td>United Kingdom</td>\n",
       "      <td>-16888.02</td>\n",
       "    </tr>\n",
       "    <tr>\n",
       "      <th>43703</th>\n",
       "      <td>C540118</td>\n",
       "      <td>AMAZONFEE</td>\n",
       "      <td>AMAZON FEE</td>\n",
       "      <td>-1</td>\n",
       "      <td>1/5/2011 9:57</td>\n",
       "      <td>16453.71</td>\n",
       "      <td>NaN</td>\n",
       "      <td>United Kingdom</td>\n",
       "      <td>-16453.71</td>\n",
       "    </tr>\n",
       "    <tr>\n",
       "      <th>15016</th>\n",
       "      <td>C537630</td>\n",
       "      <td>AMAZONFEE</td>\n",
       "      <td>AMAZON FEE</td>\n",
       "      <td>-1</td>\n",
       "      <td>12/7/2010 15:04</td>\n",
       "      <td>13541.33</td>\n",
       "      <td>NaN</td>\n",
       "      <td>United Kingdom</td>\n",
       "      <td>-13541.33</td>\n",
       "    </tr>\n",
       "    <tr>\n",
       "      <th>16356</th>\n",
       "      <td>C537651</td>\n",
       "      <td>AMAZONFEE</td>\n",
       "      <td>AMAZON FEE</td>\n",
       "      <td>-1</td>\n",
       "      <td>12/7/2010 15:49</td>\n",
       "      <td>13541.33</td>\n",
       "      <td>NaN</td>\n",
       "      <td>United Kingdom</td>\n",
       "      <td>-13541.33</td>\n",
       "    </tr>\n",
       "    <tr>\n",
       "      <th>...</th>\n",
       "      <td>...</td>\n",
       "      <td>...</td>\n",
       "      <td>...</td>\n",
       "      <td>...</td>\n",
       "      <td>...</td>\n",
       "      <td>...</td>\n",
       "      <td>...</td>\n",
       "      <td>...</td>\n",
       "      <td>...</td>\n",
       "    </tr>\n",
       "    <tr>\n",
       "      <th>268028</th>\n",
       "      <td>560373</td>\n",
       "      <td>M</td>\n",
       "      <td>Manual</td>\n",
       "      <td>1</td>\n",
       "      <td>7/18/2011 12:30</td>\n",
       "      <td>4287.63</td>\n",
       "      <td>NaN</td>\n",
       "      <td>United Kingdom</td>\n",
       "      <td>4287.63</td>\n",
       "    </tr>\n",
       "    <tr>\n",
       "      <th>297723</th>\n",
       "      <td>562955</td>\n",
       "      <td>DOT</td>\n",
       "      <td>DOTCOM POSTAGE</td>\n",
       "      <td>1</td>\n",
       "      <td>8/11/2011 10:14</td>\n",
       "      <td>4505.17</td>\n",
       "      <td>NaN</td>\n",
       "      <td>United Kingdom</td>\n",
       "      <td>4505.17</td>\n",
       "    </tr>\n",
       "    <tr>\n",
       "      <th>467804</th>\n",
       "      <td>576365</td>\n",
       "      <td>22086</td>\n",
       "      <td>PAPER CHAIN KIT 50'S CHRISTMAS</td>\n",
       "      <td>688</td>\n",
       "      <td>11/14/2011 17:55</td>\n",
       "      <td>6.95</td>\n",
       "      <td>NaN</td>\n",
       "      <td>United Kingdom</td>\n",
       "      <td>4781.60</td>\n",
       "    </tr>\n",
       "    <tr>\n",
       "      <th>299982</th>\n",
       "      <td>A563185</td>\n",
       "      <td>B</td>\n",
       "      <td>Adjust bad debt</td>\n",
       "      <td>1</td>\n",
       "      <td>8/12/2011 14:50</td>\n",
       "      <td>11062.06</td>\n",
       "      <td>NaN</td>\n",
       "      <td>United Kingdom</td>\n",
       "      <td>11062.06</td>\n",
       "    </tr>\n",
       "    <tr>\n",
       "      <th>15017</th>\n",
       "      <td>537632</td>\n",
       "      <td>AMAZONFEE</td>\n",
       "      <td>AMAZON FEE</td>\n",
       "      <td>1</td>\n",
       "      <td>12/7/2010 15:08</td>\n",
       "      <td>13541.33</td>\n",
       "      <td>NaN</td>\n",
       "      <td>United Kingdom</td>\n",
       "      <td>13541.33</td>\n",
       "    </tr>\n",
       "  </tbody>\n",
       "</table>\n",
       "<p>135080 rows × 9 columns</p>\n",
       "</div>"
      ],
      "text/plain": [
       "       InvoiceNo  StockCode                      Description  Quantity  \\\n",
       "524602   C580605  AMAZONFEE                       AMAZON FEE        -1   \n",
       "43702    C540117  AMAZONFEE                       AMAZON FEE        -1   \n",
       "43703    C540118  AMAZONFEE                       AMAZON FEE        -1   \n",
       "15016    C537630  AMAZONFEE                       AMAZON FEE        -1   \n",
       "16356    C537651  AMAZONFEE                       AMAZON FEE        -1   \n",
       "...          ...        ...                              ...       ...   \n",
       "268028    560373          M                           Manual         1   \n",
       "297723    562955        DOT                   DOTCOM POSTAGE         1   \n",
       "467804    576365      22086  PAPER CHAIN KIT 50'S CHRISTMAS        688   \n",
       "299982   A563185          B                  Adjust bad debt         1   \n",
       "15017     537632  AMAZONFEE                       AMAZON FEE         1   \n",
       "\n",
       "             InvoiceDate  UnitPrice  CustomerID         Country     Sales  \n",
       "524602   12/5/2011 11:36   17836.46         NaN  United Kingdom -17836.46  \n",
       "43702      1/5/2011 9:55   16888.02         NaN  United Kingdom -16888.02  \n",
       "43703      1/5/2011 9:57   16453.71         NaN  United Kingdom -16453.71  \n",
       "15016    12/7/2010 15:04   13541.33         NaN  United Kingdom -13541.33  \n",
       "16356    12/7/2010 15:49   13541.33         NaN  United Kingdom -13541.33  \n",
       "...                  ...        ...         ...             ...       ...  \n",
       "268028   7/18/2011 12:30    4287.63         NaN  United Kingdom   4287.63  \n",
       "297723   8/11/2011 10:14    4505.17         NaN  United Kingdom   4505.17  \n",
       "467804  11/14/2011 17:55       6.95         NaN  United Kingdom   4781.60  \n",
       "299982   8/12/2011 14:50   11062.06         NaN  United Kingdom  11062.06  \n",
       "15017    12/7/2010 15:08   13541.33         NaN  United Kingdom  13541.33  \n",
       "\n",
       "[135080 rows x 9 columns]"
      ]
     },
     "execution_count": 6,
     "metadata": {},
     "output_type": "execute_result"
    }
   ],
   "source": [
    "df[df['CustomerID'].isna() == True].sort_values('Sales')"
   ]
  },
  {
   "cell_type": "code",
   "execution_count": 7,
   "id": "bb4e450f-cd04-4b7c-904c-cdbbcbd7e949",
   "metadata": {},
   "outputs": [],
   "source": [
    "# Удаляем пустые значения, так как в данном случае они больше похоже на административные расходы, не привязанные к конкретным клиентам\n",
    "df = df.dropna(subset=['CustomerID'])"
   ]
  },
  {
   "cell_type": "code",
   "execution_count": 8,
   "id": "ff5a5c13-11b4-40a5-bb11-4124fa194ed9",
   "metadata": {},
   "outputs": [],
   "source": [
    "# И дополнительно удалим также ручные корректировки данных (manual)\n",
    "df = df.drop(df[df['Description'] == 'Manual'].index)"
   ]
  },
  {
   "cell_type": "code",
   "execution_count": 9,
   "id": "bf52c0d2-bb3f-4052-a794-78cee241b44a",
   "metadata": {},
   "outputs": [
    {
     "data": {
      "text/plain": [
       "InvoiceNo      0\n",
       "StockCode      0\n",
       "Description    0\n",
       "Quantity       0\n",
       "InvoiceDate    0\n",
       "UnitPrice      0\n",
       "CustomerID     0\n",
       "Country        0\n",
       "Sales          0\n",
       "dtype: int64"
      ]
     },
     "execution_count": 9,
     "metadata": {},
     "output_type": "execute_result"
    }
   ],
   "source": [
    "df.isna().sum()"
   ]
  },
  {
   "cell_type": "code",
   "execution_count": 10,
   "id": "1982ce67-b864-4ba0-8e54-c7613fcdb8ed",
   "metadata": {},
   "outputs": [
    {
     "data": {
      "text/plain": [
       "InvoiceNo      5220\n",
       "StockCode      5220\n",
       "Description    5220\n",
       "Quantity       5220\n",
       "InvoiceDate    5220\n",
       "UnitPrice      5220\n",
       "CustomerID     5220\n",
       "Country        5220\n",
       "Sales          5220\n",
       "dtype: int64"
      ]
     },
     "execution_count": 10,
     "metadata": {},
     "output_type": "execute_result"
    }
   ],
   "source": [
    "# Проверяем наличие дубликатов\n",
    "df[df.duplicated() == True].count()"
   ]
  },
  {
   "cell_type": "code",
   "execution_count": 11,
   "id": "86a638df-ee9c-480b-972e-4009433fe7e4",
   "metadata": {},
   "outputs": [],
   "source": [
    "# Удаляем дубликаты\n",
    "df = df.drop_duplicates()"
   ]
  },
  {
   "cell_type": "code",
   "execution_count": 12,
   "id": "c9f6de92-97bf-4291-a81a-deeb3490acad",
   "metadata": {},
   "outputs": [
    {
     "data": {
      "text/plain": [
       "4363"
      ]
     },
     "execution_count": 12,
     "metadata": {},
     "output_type": "execute_result"
    }
   ],
   "source": [
    "# Смотрим на кол-во уникальных клиентов\n",
    "df.CustomerID.nunique()"
   ]
  },
  {
   "cell_type": "code",
   "execution_count": 13,
   "id": "1b19666f-16c7-4d15-bf1a-d6c091a8bb9f",
   "metadata": {},
   "outputs": [
    {
     "data": {
      "image/png": "[encoded data removed]",
      "text/plain": [
       "<Figure size 1000x500 with 1 Axes>"
      ]
     },
     "metadata": {},
     "output_type": "display_data"
    }
   ],
   "source": [
    "# Посмотрим на топ-50 клиентов по частоте покупок\n",
    "df['CustomerID'] = df['CustomerID'].astype(int)\n",
    "df['CustomerID'].value_counts().head(50).plot(kind='bar', figsize=(10, 5))\n",
    "plt.show()"
   ]
  },
  {
   "cell_type": "code",
   "execution_count": 14,
   "id": "5e8a948e-bd55-4271-9db2-c1ae2b1f7869",
   "metadata": {},
   "outputs": [
    {
     "data": {
      "image/png": "[encoded data removed]",
      "text/plain": [
       "<Figure size 1000x500 with 2 Axes>"
      ]
     },
     "metadata": {},
     "output_type": "display_data"
    }
   ],
   "source": [
    "# Построим гистограммы для основнхы числовых переменных\n",
    "df[['Quantity', 'Sales']].hist(bins=10, figsize=(10, 5))\n",
    "plt.tight_layout()\n",
    "plt.show()"
   ]
  },
  {
   "cell_type": "markdown",
   "id": "81b27ab6-89f0-4b66-9264-b22a9aa0dfa0",
   "metadata": {},
   "source": [
    "Видим, что данные имеют выбросы, также отрицательные значения"
   ]
  },
  {
   "cell_type": "code",
   "execution_count": 15,
   "id": "98316823-f231-4568-b5a2-fde27450a6bb",
   "metadata": {},
   "outputs": [
    {
     "data": {
      "image/png": "[encoded data removed]",
      "text/plain": [
       "<Figure size 1000x500 with 1 Axes>"
      ]
     },
     "metadata": {},
     "output_type": "display_data"
    }
   ],
   "source": [
    "# Построим еще Boxplot для числовых переменных\n",
    "df[['Quantity', 'Sales']].plot(kind='box', figsize=(10, 5))\n",
    "plt.show()"
   ]
  },
  {
   "cell_type": "code",
   "execution_count": 16,
   "id": "719e0518-fb5b-4084-a880-91d2ecade85f",
   "metadata": {},
   "outputs": [
    {
     "data": {
      "text/html": [
       "<div>\n",
       "<style scoped>\n",
       "    .dataframe tbody tr th:only-of-type {\n",
       "        vertical-align: middle;\n",
       "    }\n",
       "\n",
       "    .dataframe tbody tr th {\n",
       "        vertical-align: top;\n",
       "    }\n",
       "\n",
       "    .dataframe thead th {\n",
       "        text-align: right;\n",
       "    }\n",
       "</style>\n",
       "<table border=\"1\" class=\"dataframe\">\n",
       "  <thead>\n",
       "    <tr style=\"text-align: right;\">\n",
       "      <th></th>\n",
       "      <th>Quantity</th>\n",
       "      <th>Sales</th>\n",
       "    </tr>\n",
       "  </thead>\n",
       "  <tbody>\n",
       "    <tr>\n",
       "      <th>count</th>\n",
       "      <td>401144.000000</td>\n",
       "      <td>401144.000000</td>\n",
       "    </tr>\n",
       "    <tr>\n",
       "      <th>mean</th>\n",
       "      <td>12.189904</td>\n",
       "      <td>20.783721</td>\n",
       "    </tr>\n",
       "    <tr>\n",
       "      <th>std</th>\n",
       "      <td>250.385375</td>\n",
       "      <td>425.221326</td>\n",
       "    </tr>\n",
       "    <tr>\n",
       "      <th>min</th>\n",
       "      <td>-80995.000000</td>\n",
       "      <td>-168469.600000</td>\n",
       "    </tr>\n",
       "    <tr>\n",
       "      <th>25%</th>\n",
       "      <td>2.000000</td>\n",
       "      <td>4.250000</td>\n",
       "    </tr>\n",
       "    <tr>\n",
       "      <th>50%</th>\n",
       "      <td>5.000000</td>\n",
       "      <td>11.700000</td>\n",
       "    </tr>\n",
       "    <tr>\n",
       "      <th>75%</th>\n",
       "      <td>12.000000</td>\n",
       "      <td>19.800000</td>\n",
       "    </tr>\n",
       "    <tr>\n",
       "      <th>max</th>\n",
       "      <td>80995.000000</td>\n",
       "      <td>168469.600000</td>\n",
       "    </tr>\n",
       "  </tbody>\n",
       "</table>\n",
       "</div>"
      ],
      "text/plain": [
       "            Quantity          Sales\n",
       "count  401144.000000  401144.000000\n",
       "mean       12.189904      20.783721\n",
       "std       250.385375     425.221326\n",
       "min    -80995.000000 -168469.600000\n",
       "25%         2.000000       4.250000\n",
       "50%         5.000000      11.700000\n",
       "75%        12.000000      19.800000\n",
       "max     80995.000000  168469.600000"
      ]
     },
     "execution_count": 16,
     "metadata": {},
     "output_type": "execute_result"
    }
   ],
   "source": [
    "# И посмотрим на основные статистики распределения\n",
    "df[['Quantity', 'Sales']].describe()"
   ]
  },
  {
   "cell_type": "markdown",
   "id": "b9b0c3ac-6039-4ceb-8698-998f3e72b7b0",
   "metadata": {},
   "source": [
    "Поработаем с выбросами. Из описательных статистик видно, что есть отрицательные значения, причем некоторые такие данные дублируются с положительным значением, а значит, мы, скорее всего, имеем дело с возвратом товаров. Причем опять же судя по стандартному отклонению, медине и мин/макс значениям эти \"покупки\" могли быть произведены случайно (техническая ошибка, человеческий фактор) так как они не тичпичны для всего распределения и аномально большие."
   ]
  },
  {
   "cell_type": "code",
   "execution_count": 17,
   "id": "4fe4b118-5f41-42be-bbf9-e90f334998e8",
   "metadata": {},
   "outputs": [],
   "source": [
    "# Для начала попытаем определить покупки, по которым в последствии был осуществлен возврат\n",
    "df['Quantity_abs'] = df['Quantity'].abs()\n",
    "df_returns = df.groupby(['StockCode', 'UnitPrice', 'CustomerID', 'Quantity_abs']).filter(lambda x: len(x) == 2 and x['Quantity'].sum() == 0)"
   ]
  },
  {
   "cell_type": "code",
   "execution_count": 18,
   "id": "915982fc-41fb-4d52-af13-dee0f650b685",
   "metadata": {},
   "outputs": [
    {
     "data": {
      "text/plain": [
       "(3958, 10)"
      ]
     },
     "execution_count": 18,
     "metadata": {},
     "output_type": "execute_result"
    }
   ],
   "source": [
    "# Определяем кол-во таких транзакцией\n",
    "df_returns.shape"
   ]
  },
  {
   "cell_type": "code",
   "execution_count": 19,
   "id": "76b94a97-9863-4a91-8e8c-91c22177e095",
   "metadata": {},
   "outputs": [],
   "source": [
    "# Исключим получившиеся транзакции из датафрейма\n",
    "merged_df = df.merge(df_returns, on=['StockCode', 'Quantity', 'UnitPrice', 'CustomerID'], how='left', indicator=True)\n",
    "df = merged_df[merged_df['_merge'] == 'left_only'].drop(columns=['_merge', 'Quantity_abs_x', 'InvoiceNo_y', 'Description_y', 'InvoiceDate_y', 'Country_y', 'Sales_y', 'Quantity_abs_y'])\n",
    "df = df.rename(columns={'InvoiceNo_x':'InvoiceNo', 'Description_x':'Description', 'InvoiceDate_x':'InvoiceDate', 'Country_x':'Country', 'Sales_x':'Sales'})"
   ]
  },
  {
   "cell_type": "code",
   "execution_count": 20,
   "id": "2ce539f9-814e-4975-a716-0b1f6f669b08",
   "metadata": {},
   "outputs": [
    {
     "data": {
      "text/plain": [
       "(397186, 9)"
      ]
     },
     "execution_count": 20,
     "metadata": {},
     "output_type": "execute_result"
    }
   ],
   "source": [
    "# Проверяем корректность выполненных выше операцией\n",
    "df.shape"
   ]
  },
  {
   "cell_type": "code",
   "execution_count": 21,
   "id": "4e943157-330a-4cd6-b17f-321126416127",
   "metadata": {},
   "outputs": [
    {
     "data": {
      "image/png": "[encoded data removed]",
      "text/plain": [
       "<Figure size 1000x500 with 1 Axes>"
      ]
     },
     "metadata": {},
     "output_type": "display_data"
    }
   ],
   "source": [
    "# Еще раз смотрим на распределение\n",
    "df[['Quantity', 'Sales']].plot(kind='box', figsize=(10, 5))\n",
    "plt.show()"
   ]
  },
  {
   "cell_type": "code",
   "execution_count": 22,
   "id": "96c05a03-6179-47e3-9ed0-f2ceccd537c6",
   "metadata": {},
   "outputs": [
    {
     "data": {
      "text/html": [
       "<div>\n",
       "<style scoped>\n",
       "    .dataframe tbody tr th:only-of-type {\n",
       "        vertical-align: middle;\n",
       "    }\n",
       "\n",
       "    .dataframe tbody tr th {\n",
       "        vertical-align: top;\n",
       "    }\n",
       "\n",
       "    .dataframe thead th {\n",
       "        text-align: right;\n",
       "    }\n",
       "</style>\n",
       "<table border=\"1\" class=\"dataframe\">\n",
       "  <thead>\n",
       "    <tr style=\"text-align: right;\">\n",
       "      <th></th>\n",
       "      <th>Quantity</th>\n",
       "      <th>Sales</th>\n",
       "    </tr>\n",
       "  </thead>\n",
       "  <tbody>\n",
       "    <tr>\n",
       "      <th>count</th>\n",
       "      <td>397186.000000</td>\n",
       "      <td>397186.000000</td>\n",
       "    </tr>\n",
       "    <tr>\n",
       "      <th>mean</th>\n",
       "      <td>12.311378</td>\n",
       "      <td>20.990833</td>\n",
       "    </tr>\n",
       "    <tr>\n",
       "      <th>std</th>\n",
       "      <td>49.579568</td>\n",
       "      <td>94.221727</td>\n",
       "    </tr>\n",
       "    <tr>\n",
       "      <th>min</th>\n",
       "      <td>-9360.000000</td>\n",
       "      <td>-6539.400000</td>\n",
       "    </tr>\n",
       "    <tr>\n",
       "      <th>25%</th>\n",
       "      <td>2.000000</td>\n",
       "      <td>4.350000</td>\n",
       "    </tr>\n",
       "    <tr>\n",
       "      <th>50%</th>\n",
       "      <td>5.000000</td>\n",
       "      <td>11.700000</td>\n",
       "    </tr>\n",
       "    <tr>\n",
       "      <th>75%</th>\n",
       "      <td>12.000000</td>\n",
       "      <td>19.800000</td>\n",
       "    </tr>\n",
       "    <tr>\n",
       "      <th>max</th>\n",
       "      <td>12540.000000</td>\n",
       "      <td>38970.000000</td>\n",
       "    </tr>\n",
       "  </tbody>\n",
       "</table>\n",
       "</div>"
      ],
      "text/plain": [
       "            Quantity          Sales\n",
       "count  397186.000000  397186.000000\n",
       "mean       12.311378      20.990833\n",
       "std        49.579568      94.221727\n",
       "min     -9360.000000   -6539.400000\n",
       "25%         2.000000       4.350000\n",
       "50%         5.000000      11.700000\n",
       "75%        12.000000      19.800000\n",
       "max     12540.000000   38970.000000"
      ]
     },
     "execution_count": 22,
     "metadata": {},
     "output_type": "execute_result"
    }
   ],
   "source": [
    "df[['Quantity', 'Sales']].describe()"
   ]
  },
  {
   "cell_type": "markdown",
   "id": "cb4ed237-0989-4441-9033-ace78b3e1a38",
   "metadata": {},
   "source": [
    "В целом получше, но все еще недостаточно, выбрасов все равно остается достаточно много. В данном случае для нас это критично, так как они будут искажать все последующие результаты анализа.\n",
    "Для того, чтобы уменьшить влияние выбросов на данные воспользуемся интерквартильным размахом. На мой взгляд, здесь этот метод будет уместнее, чем замена выбросов на медиану или среднее. "
   ]
  },
  {
   "cell_type": "code",
   "execution_count": 23,
   "id": "bbc30c38-fde2-411f-a7b5-4abc9bafbf07",
   "metadata": {},
   "outputs": [],
   "source": [
    "# С помощью функции определим границы выбросов через IQR\n",
    "def define_iqr(df, var, coefficient):\n",
    "    q1 = df[var].quantile(0.25)\n",
    "    q3 = df[var].quantile(0.75)\n",
    "    iqr = q3 - q1\n",
    "    iqr_bottom = round(q1 - coefficient * iqr, 2)\n",
    "    iqr_up = round(q3 + coefficient * iqr, 2)\n",
    "    return iqr_bottom, iqr_up"
   ]
  },
  {
   "cell_type": "code",
   "execution_count": 24,
   "id": "56f2153a-c432-4117-b8ce-ebcd1d6c6437",
   "metadata": {},
   "outputs": [
    {
     "data": {
      "text/html": [
       "<div>\n",
       "<style scoped>\n",
       "    .dataframe tbody tr th:only-of-type {\n",
       "        vertical-align: middle;\n",
       "    }\n",
       "\n",
       "    .dataframe tbody tr th {\n",
       "        vertical-align: top;\n",
       "    }\n",
       "\n",
       "    .dataframe thead th {\n",
       "        text-align: right;\n",
       "    }\n",
       "</style>\n",
       "<table border=\"1\" class=\"dataframe\">\n",
       "  <thead>\n",
       "    <tr style=\"text-align: right;\">\n",
       "      <th></th>\n",
       "      <th>Quantity</th>\n",
       "      <th>Sales</th>\n",
       "    </tr>\n",
       "  </thead>\n",
       "  <tbody>\n",
       "    <tr>\n",
       "      <th>0.1</th>\n",
       "      <td>1.0</td>\n",
       "      <td>1.69</td>\n",
       "    </tr>\n",
       "    <tr>\n",
       "      <th>0.2</th>\n",
       "      <td>2.0</td>\n",
       "      <td>3.40</td>\n",
       "    </tr>\n",
       "    <tr>\n",
       "      <th>0.3</th>\n",
       "      <td>2.0</td>\n",
       "      <td>5.10</td>\n",
       "    </tr>\n",
       "    <tr>\n",
       "      <th>0.4</th>\n",
       "      <td>3.0</td>\n",
       "      <td>8.50</td>\n",
       "    </tr>\n",
       "    <tr>\n",
       "      <th>0.5</th>\n",
       "      <td>5.0</td>\n",
       "      <td>11.70</td>\n",
       "    </tr>\n",
       "    <tr>\n",
       "      <th>0.6</th>\n",
       "      <td>8.0</td>\n",
       "      <td>15.00</td>\n",
       "    </tr>\n",
       "    <tr>\n",
       "      <th>0.7</th>\n",
       "      <td>12.0</td>\n",
       "      <td>17.40</td>\n",
       "    </tr>\n",
       "    <tr>\n",
       "      <th>0.8</th>\n",
       "      <td>12.0</td>\n",
       "      <td>20.80</td>\n",
       "    </tr>\n",
       "    <tr>\n",
       "      <th>0.9</th>\n",
       "      <td>24.0</td>\n",
       "      <td>35.40</td>\n",
       "    </tr>\n",
       "    <tr>\n",
       "      <th>1.0</th>\n",
       "      <td>12540.0</td>\n",
       "      <td>38970.00</td>\n",
       "    </tr>\n",
       "  </tbody>\n",
       "</table>\n",
       "</div>"
      ],
      "text/plain": [
       "     Quantity     Sales\n",
       "0.1       1.0      1.69\n",
       "0.2       2.0      3.40\n",
       "0.3       2.0      5.10\n",
       "0.4       3.0      8.50\n",
       "0.5       5.0     11.70\n",
       "0.6       8.0     15.00\n",
       "0.7      12.0     17.40\n",
       "0.8      12.0     20.80\n",
       "0.9      24.0     35.40\n",
       "1.0   12540.0  38970.00"
      ]
     },
     "execution_count": 24,
     "metadata": {},
     "output_type": "execute_result"
    }
   ],
   "source": [
    "# Для корректного определения коэффициента посмотрим еще на распределение данных с помощью квантилей\n",
    "quantilies = [round(x, 2) for x in np.arange(0.1, 1.1, 0.1)]\n",
    "df[['Quantity', 'Sales']].quantile(quantilies)"
   ]
  },
  {
   "cell_type": "code",
   "execution_count": 25,
   "id": "46005fd9-8138-47ac-ae17-07acfdd96022",
   "metadata": {},
   "outputs": [
    {
     "name": "stdout",
     "output_type": "stream",
     "text": [
      "-18.83 42.98\n"
     ]
    }
   ],
   "source": [
    "bottom, up = define_iqr(df, var='Sales', coefficient=1.5)\n",
    "print(bottom, up)"
   ]
  },
  {
   "cell_type": "code",
   "execution_count": 26,
   "id": "400d7531-b5d3-4bd2-bbbd-4c66cd50969b",
   "metadata": {},
   "outputs": [
    {
     "name": "stdout",
     "output_type": "stream",
     "text": [
      "-42.0 66.15\n"
     ]
    }
   ],
   "source": [
    "bottom_3, up_3 = define_iqr(df, var='Sales', coefficient=3)\n",
    "print(bottom_3, up_3)"
   ]
  },
  {
   "cell_type": "code",
   "execution_count": 27,
   "id": "e9691abd-e0d5-48d8-b5be-f4a9c82946da",
   "metadata": {},
   "outputs": [
    {
     "name": "stdout",
     "output_type": "stream",
     "text": [
      "-13.0 27.0\n"
     ]
    }
   ],
   "source": [
    "bottom_q, up_q = define_iqr(df, var='Quantity', coefficient=1.5)\n",
    "print(bottom_q, up_q)"
   ]
  },
  {
   "cell_type": "markdown",
   "id": "8e3fe19d-1e17-4deb-8300-fdfe0ede4f2a",
   "metadata": {},
   "source": [
    "90% всех значений располагаются ниже отметки в 36 по Sales и ниже 24 по Quantity, следовательно, лучше всего подходит коэффициент 1,5."
   ]
  },
  {
   "cell_type": "code",
   "execution_count": 29,
   "id": "3912b8ec-7321-4a1e-a784-e340f0b5d721",
   "metadata": {},
   "outputs": [
    {
     "data": {
      "text/html": [
       "<div>\n",
       "<style scoped>\n",
       "    .dataframe tbody tr th:only-of-type {\n",
       "        vertical-align: middle;\n",
       "    }\n",
       "\n",
       "    .dataframe tbody tr th {\n",
       "        vertical-align: top;\n",
       "    }\n",
       "\n",
       "    .dataframe thead th {\n",
       "        text-align: right;\n",
       "    }\n",
       "</style>\n",
       "<table border=\"1\" class=\"dataframe\">\n",
       "  <thead>\n",
       "    <tr style=\"text-align: right;\">\n",
       "      <th></th>\n",
       "      <th>Quantity</th>\n",
       "      <th>Sales</th>\n",
       "    </tr>\n",
       "  </thead>\n",
       "  <tbody>\n",
       "    <tr>\n",
       "      <th>count</th>\n",
       "      <td>356584.000000</td>\n",
       "      <td>356584.000000</td>\n",
       "    </tr>\n",
       "    <tr>\n",
       "      <th>mean</th>\n",
       "      <td>6.689321</td>\n",
       "      <td>11.589319</td>\n",
       "    </tr>\n",
       "    <tr>\n",
       "      <th>std</th>\n",
       "      <td>6.557958</td>\n",
       "      <td>9.181777</td>\n",
       "    </tr>\n",
       "    <tr>\n",
       "      <th>min</th>\n",
       "      <td>-12.000000</td>\n",
       "      <td>-18.750000</td>\n",
       "    </tr>\n",
       "    <tr>\n",
       "      <th>25%</th>\n",
       "      <td>2.000000</td>\n",
       "      <td>3.950000</td>\n",
       "    </tr>\n",
       "    <tr>\n",
       "      <th>50%</th>\n",
       "      <td>4.000000</td>\n",
       "      <td>10.145000</td>\n",
       "    </tr>\n",
       "    <tr>\n",
       "      <th>75%</th>\n",
       "      <td>12.000000</td>\n",
       "      <td>17.000000</td>\n",
       "    </tr>\n",
       "    <tr>\n",
       "      <th>max</th>\n",
       "      <td>26.000000</td>\n",
       "      <td>42.960000</td>\n",
       "    </tr>\n",
       "  </tbody>\n",
       "</table>\n",
       "</div>"
      ],
      "text/plain": [
       "            Quantity          Sales\n",
       "count  356584.000000  356584.000000\n",
       "mean        6.689321      11.589319\n",
       "std         6.557958       9.181777\n",
       "min       -12.000000     -18.750000\n",
       "25%         2.000000       3.950000\n",
       "50%         4.000000      10.145000\n",
       "75%        12.000000      17.000000\n",
       "max        26.000000      42.960000"
      ]
     },
     "execution_count": 29,
     "metadata": {},
     "output_type": "execute_result"
    }
   ],
   "source": [
    "df_no_outliers = df[((df.Sales > bottom)&(df.Sales < up)) & ((df.Quantity > bottom_q)&(df.Quantity < up_q))]\n",
    "df_no_outliers[['Quantity', 'Sales']].describe()"
   ]
  },
  {
   "cell_type": "code",
   "execution_count": 30,
   "id": "b507785e-2fcd-4eeb-80cf-4b65d4ab64ce",
   "metadata": {},
   "outputs": [
    {
     "data": {
      "image/png": "[encoded data removed]",
      "text/plain": [
       "<Figure size 1000x500 with 1 Axes>"
      ]
     },
     "metadata": {},
     "output_type": "display_data"
    }
   ],
   "source": [
    "# Финально посмотрим на получившееся распределение\n",
    "df_no_outliers[['Quantity', 'Sales']].plot(kind='box', figsize=(10, 5))\n",
    "plt.show()"
   ]
  },
  {
   "cell_type": "markdown",
   "id": "c3d976c4-313c-4a4f-9cc5-f17454a41ea5",
   "metadata": {},
   "source": [
    "### ABC-анализ"
   ]
  },
  {
   "cell_type": "markdown",
   "id": "5c801dee-e063-43c5-a5d9-cac369916f1c",
   "metadata": {},
   "source": [
    "ABC-анализ — это способ классификации ресурсов по степени их влияния на прибыль компании. Чаще всего применяется к товарному ассортименту для оценки рентабельности товаров и корректировки ассортимерной матрицы.\n",
    "\n",
    "В результате ABC-анализа объекты делят на три группы:\n",
    "\n",
    "- Группа A. Это самые ценные позиции: 20% товаров, приносящих 80% прибыли.\n",
    "- Группа B. Промежуточные позиции — 30% товаров, приносящие 15% прибыли.\n",
    "- Группа C. Наименее ценные позиции. Это 80% товаров, которые приносят 5% прибыли.\n",
    "\n",
    "Наша цель анализа - оценка всего ассортимента для определения наиболее рентабельных товаров."
   ]
  },
  {
   "cell_type": "code",
   "execution_count": 31,
   "id": "58d51862-63db-41fc-9620-1e775dfb8bf8",
   "metadata": {},
   "outputs": [
    {
     "data": {
      "text/html": [
       "<div>\n",
       "<style scoped>\n",
       "    .dataframe tbody tr th:only-of-type {\n",
       "        vertical-align: middle;\n",
       "    }\n",
       "\n",
       "    .dataframe tbody tr th {\n",
       "        vertical-align: top;\n",
       "    }\n",
       "\n",
       "    .dataframe thead th {\n",
       "        text-align: right;\n",
       "    }\n",
       "</style>\n",
       "<table border=\"1\" class=\"dataframe\">\n",
       "  <thead>\n",
       "    <tr style=\"text-align: right;\">\n",
       "      <th></th>\n",
       "      <th>Description</th>\n",
       "      <th>value</th>\n",
       "      <th>share</th>\n",
       "      <th>cum_sum</th>\n",
       "      <th>abc_sum</th>\n",
       "    </tr>\n",
       "  </thead>\n",
       "  <tbody>\n",
       "    <tr>\n",
       "      <th>0</th>\n",
       "      <td>WHITE HANGING HEART T-LIGHT HOLDER</td>\n",
       "      <td>26786.11</td>\n",
       "      <td>0.006482</td>\n",
       "      <td>0.006482</td>\n",
       "      <td>A</td>\n",
       "    </tr>\n",
       "    <tr>\n",
       "      <th>1</th>\n",
       "      <td>JUMBO BAG RED RETROSPOT</td>\n",
       "      <td>24590.60</td>\n",
       "      <td>0.005950</td>\n",
       "      <td>0.012432</td>\n",
       "      <td>A</td>\n",
       "    </tr>\n",
       "    <tr>\n",
       "      <th>2</th>\n",
       "      <td>ASSORTED COLOUR BIRD ORNAMENT</td>\n",
       "      <td>22794.72</td>\n",
       "      <td>0.005516</td>\n",
       "      <td>0.017948</td>\n",
       "      <td>A</td>\n",
       "    </tr>\n",
       "    <tr>\n",
       "      <th>3</th>\n",
       "      <td>PARTY BUNTING</td>\n",
       "      <td>22534.29</td>\n",
       "      <td>0.005453</td>\n",
       "      <td>0.023401</td>\n",
       "      <td>A</td>\n",
       "    </tr>\n",
       "    <tr>\n",
       "      <th>4</th>\n",
       "      <td>REGENCY CAKESTAND 3 TIER</td>\n",
       "      <td>21265.21</td>\n",
       "      <td>0.005146</td>\n",
       "      <td>0.028547</td>\n",
       "      <td>A</td>\n",
       "    </tr>\n",
       "    <tr>\n",
       "      <th>...</th>\n",
       "      <td>...</td>\n",
       "      <td>...</td>\n",
       "      <td>...</td>\n",
       "      <td>...</td>\n",
       "      <td>...</td>\n",
       "    </tr>\n",
       "    <tr>\n",
       "      <th>3831</th>\n",
       "      <td>ANTIQUE LILY FAIRY LIGHTS</td>\n",
       "      <td>-14.85</td>\n",
       "      <td>-0.000004</td>\n",
       "      <td>1.000109</td>\n",
       "      <td>C</td>\n",
       "    </tr>\n",
       "    <tr>\n",
       "      <th>3832</th>\n",
       "      <td>CREAM SWEETHEART MAGAZINE RACK</td>\n",
       "      <td>-16.95</td>\n",
       "      <td>-0.000004</td>\n",
       "      <td>1.000105</td>\n",
       "      <td>C</td>\n",
       "    </tr>\n",
       "    <tr>\n",
       "      <th>3833</th>\n",
       "      <td>BLUE PADDED SOFT MOBILE</td>\n",
       "      <td>-25.50</td>\n",
       "      <td>-0.000006</td>\n",
       "      <td>1.000098</td>\n",
       "      <td>C</td>\n",
       "    </tr>\n",
       "    <tr>\n",
       "      <th>3834</th>\n",
       "      <td>CRUK Commission</td>\n",
       "      <td>-30.57</td>\n",
       "      <td>-0.000007</td>\n",
       "      <td>1.000091</td>\n",
       "      <td>C</td>\n",
       "    </tr>\n",
       "    <tr>\n",
       "      <th>3835</th>\n",
       "      <td>Discount</td>\n",
       "      <td>-375.79</td>\n",
       "      <td>-0.000091</td>\n",
       "      <td>1.000000</td>\n",
       "      <td>C</td>\n",
       "    </tr>\n",
       "  </tbody>\n",
       "</table>\n",
       "<p>3836 rows × 5 columns</p>\n",
       "</div>"
      ],
      "text/plain": [
       "                             Description     value     share   cum_sum abc_sum\n",
       "0     WHITE HANGING HEART T-LIGHT HOLDER  26786.11  0.006482  0.006482       A\n",
       "1                JUMBO BAG RED RETROSPOT  24590.60  0.005950  0.012432       A\n",
       "2          ASSORTED COLOUR BIRD ORNAMENT  22794.72  0.005516  0.017948       A\n",
       "3                          PARTY BUNTING  22534.29  0.005453  0.023401       A\n",
       "4               REGENCY CAKESTAND 3 TIER  21265.21  0.005146  0.028547       A\n",
       "...                                  ...       ...       ...       ...     ...\n",
       "3831           ANTIQUE LILY FAIRY LIGHTS    -14.85 -0.000004  1.000109       C\n",
       "3832      CREAM SWEETHEART MAGAZINE RACK    -16.95 -0.000004  1.000105       C\n",
       "3833             BLUE PADDED SOFT MOBILE    -25.50 -0.000006  1.000098       C\n",
       "3834                     CRUK Commission    -30.57 -0.000007  1.000091       C\n",
       "3835                            Discount   -375.79 -0.000091  1.000000       C\n",
       "\n",
       "[3836 rows x 5 columns]"
      ]
     },
     "execution_count": 31,
     "metadata": {},
     "output_type": "execute_result"
    }
   ],
   "source": [
    "# Разделим товары на группы в зависимости от % прибыли\n",
    "df_sales = df_no_outliers.groupby('Description').agg(value=('Sales','sum'))\n",
    "df_sales['share'] = df_sales.value / df_sales.value.sum()\n",
    "df_sales = df_sales.sort_values('share', ascending=False).reset_index()\n",
    "df_sales['cum_sum'] = df_sales.share.cumsum()\n",
    "df_sales['abc_sum'] = np.where(df_sales.cum_sum < 0.8, 'A', np.where(df_sales.cum_sum < 0.95, 'B', 'C'))\n",
    "df_sales"
   ]
  },
  {
   "cell_type": "code",
   "execution_count": 32,
   "id": "b54288f3-26dc-4534-995b-7d72c622dc9f",
   "metadata": {},
   "outputs": [
    {
     "data": {
      "text/html": [
       "<div>\n",
       "<style scoped>\n",
       "    .dataframe tbody tr th:only-of-type {\n",
       "        vertical-align: middle;\n",
       "    }\n",
       "\n",
       "    .dataframe tbody tr th {\n",
       "        vertical-align: top;\n",
       "    }\n",
       "\n",
       "    .dataframe thead th {\n",
       "        text-align: right;\n",
       "    }\n",
       "</style>\n",
       "<table border=\"1\" class=\"dataframe\">\n",
       "  <thead>\n",
       "    <tr style=\"text-align: right;\">\n",
       "      <th></th>\n",
       "      <th>abc_sum</th>\n",
       "      <th>Description</th>\n",
       "    </tr>\n",
       "  </thead>\n",
       "  <tbody>\n",
       "    <tr>\n",
       "      <th>0</th>\n",
       "      <td>A</td>\n",
       "      <td>995</td>\n",
       "    </tr>\n",
       "    <tr>\n",
       "      <th>1</th>\n",
       "      <td>B</td>\n",
       "      <td>930</td>\n",
       "    </tr>\n",
       "    <tr>\n",
       "      <th>2</th>\n",
       "      <td>C</td>\n",
       "      <td>1911</td>\n",
       "    </tr>\n",
       "  </tbody>\n",
       "</table>\n",
       "</div>"
      ],
      "text/plain": [
       "  abc_sum  Description\n",
       "0       A          995\n",
       "1       B          930\n",
       "2       C         1911"
      ]
     },
     "execution_count": 32,
     "metadata": {},
     "output_type": "execute_result"
    }
   ],
   "source": [
    "# Посчитаем получившиеся группы\n",
    "df_sales.groupby('abc_sum', as_index=False)['Description'].count()"
   ]
  },
  {
   "cell_type": "markdown",
   "id": "91eacc02-5ae4-49d5-836c-a617cca8b1b3",
   "metadata": {},
   "source": [
    "После разбивки товаров на группы видно, что наиболее многичесленной является **группа С**, то есть примерно 50% ассортимертной матрицы приносят лишь 5% прибыли для компании. В качестве рекомендации предлагаю детальнее поработать с этой группой товаров и определить по каким категориям товаром можно уменьшить запасы, а от каких позиций лучше отказаться совсем.\n",
    "\n",
    "Товары **группы А** требуеют дополнительного продвижения, нам выгодно их продавать. Их лучше всего упоминать в рассылках/пуш-уведомлениях/акциях, размещать рекламу с ними.\n",
    "\n",
    "Товарами **группы B** мы будем поддерживать ассортимент."
   ]
  },
  {
   "cell_type": "markdown",
   "id": "ad2c33c9-84ca-4129-b190-d3c368237012",
   "metadata": {},
   "source": [
    "### XYZ-анализ"
   ]
  },
  {
   "cell_type": "markdown",
   "id": "189a5836-631e-4ca0-bb0b-2b7d4481dfde",
   "metadata": {},
   "source": [
    "XYZ-анализ - это метод, с помощью которого можно оценить стабильность спроса на определенные товарные позиции, степень влияения внешних факторов, таких как сезонность, рекмные кампании, тренды.\n",
    "\n",
    "В результате XYZ-анализа объекты также делят тоже на три группы:\n",
    "\n",
    "- Группа X. В неё входят объекты с коэффициентом вариативности 0–10%. Это значит, что спрос не меняется более, чем на 10% в месяц.\n",
    "- Группа Y. В неё входят объекты с коэффициентом вариативности 10–25%.\n",
    "- Группа Z. В неё входят товары с самым непредсказуемым спросом — объекты с коэффициентом вариативности больше 25%.\n",
    "\n",
    "Цель анализа - скорректировать ассортимент продукции."
   ]
  },
  {
   "cell_type": "code",
   "execution_count": 33,
   "id": "720ec77a-71fd-4b8c-b631-47cd33c67029",
   "metadata": {},
   "outputs": [
    {
     "name": "stderr",
     "output_type": "stream",
     "text": [
      "C:\\Users\\dbellkoff\\AppData\\Local\\Temp\\ipykernel_24012\\3764294819.py:1: SettingWithCopyWarning: \n",
      "A value is trying to be set on a copy of a slice from a DataFrame.\n",
      "Try using .loc[row_indexer,col_indexer] = value instead\n",
      "\n",
      "See the caveats in the documentation: https://pandas.pydata.org/pandas-docs/stable/user_guide/indexing.html#returning-a-view-versus-a-copy\n",
      "  df_no_outliers['InvoiceDate'] = pd.to_datetime(df_no_outliers['InvoiceDate']).dt.date\n"
     ]
    }
   ],
   "source": [
    "df_no_outliers['InvoiceDate'] = pd.to_datetime(df_no_outliers['InvoiceDate']).dt.date"
   ]
  },
  {
   "cell_type": "code",
   "execution_count": 34,
   "id": "9d8a671c-27f6-40ea-85a0-6368b1e42a24",
   "metadata": {},
   "outputs": [
    {
     "data": {
      "text/html": [
       "<div>\n",
       "<style scoped>\n",
       "    .dataframe tbody tr th:only-of-type {\n",
       "        vertical-align: middle;\n",
       "    }\n",
       "\n",
       "    .dataframe tbody tr th {\n",
       "        vertical-align: top;\n",
       "    }\n",
       "\n",
       "    .dataframe thead th {\n",
       "        text-align: right;\n",
       "    }\n",
       "</style>\n",
       "<table border=\"1\" class=\"dataframe\">\n",
       "  <thead>\n",
       "    <tr style=\"text-align: right;\">\n",
       "      <th></th>\n",
       "      <th>InvoiceDate</th>\n",
       "      <th>Description</th>\n",
       "      <th>Quantity</th>\n",
       "    </tr>\n",
       "  </thead>\n",
       "  <tbody>\n",
       "    <tr>\n",
       "      <th>0</th>\n",
       "      <td>2010-12-01</td>\n",
       "      <td>4 PURPLE FLOCK DINNER CANDLES</td>\n",
       "      <td>2</td>\n",
       "    </tr>\n",
       "    <tr>\n",
       "      <th>1</th>\n",
       "      <td>2010-12-01</td>\n",
       "      <td>SET 2 TEA TOWELS I LOVE LONDON</td>\n",
       "      <td>15</td>\n",
       "    </tr>\n",
       "    <tr>\n",
       "      <th>2</th>\n",
       "      <td>2010-12-01</td>\n",
       "      <td>10 COLOUR SPACEBOY PEN</td>\n",
       "      <td>48</td>\n",
       "    </tr>\n",
       "    <tr>\n",
       "      <th>3</th>\n",
       "      <td>2010-12-01</td>\n",
       "      <td>12 DAISY PEGS IN WOOD BOX</td>\n",
       "      <td>3</td>\n",
       "    </tr>\n",
       "    <tr>\n",
       "      <th>4</th>\n",
       "      <td>2010-12-01</td>\n",
       "      <td>12 MESSAGE CARDS WITH ENVELOPES</td>\n",
       "      <td>6</td>\n",
       "    </tr>\n",
       "  </tbody>\n",
       "</table>\n",
       "</div>"
      ],
      "text/plain": [
       "  InvoiceDate                       Description  Quantity\n",
       "0  2010-12-01     4 PURPLE FLOCK DINNER CANDLES         2\n",
       "1  2010-12-01   SET 2 TEA TOWELS I LOVE LONDON         15\n",
       "2  2010-12-01            10 COLOUR SPACEBOY PEN        48\n",
       "3  2010-12-01         12 DAISY PEGS IN WOOD BOX         3\n",
       "4  2010-12-01   12 MESSAGE CARDS WITH ENVELOPES         6"
      ]
     },
     "execution_count": 34,
     "metadata": {},
     "output_type": "execute_result"
    }
   ],
   "source": [
    "# Посчитаем количество каждого проданного товара\n",
    "df_quantity = df_no_outliers.groupby(['InvoiceDate', 'Description']).agg({'Quantity':'sum'}).reset_index()\n",
    "df_quantity.head()"
   ]
  },
  {
   "cell_type": "code",
   "execution_count": 35,
   "id": "22f5ee65-dc1d-4c93-b8a9-2dd4e2bec6b5",
   "metadata": {},
   "outputs": [],
   "source": [
    "# Еще раз сгруппируем данные и теперь посчитаем кол-во проданных позиций в каждую из дат\n",
    "df_grouped = df_quantity.groupby('Description', as_index=False).agg({'InvoiceDate':'count'})\n",
    "\n",
    "# Далее выберем только те товары, которые продавались более 1 раза и сохраним их в отдельной список\n",
    "xyz_names = list(df_grouped[df_grouped['InvoiceDate'] > 1]['Description'])"
   ]
  },
  {
   "cell_type": "code",
   "execution_count": 36,
   "id": "a0af6606-0742-41c8-9c78-c6bad566c5b0",
   "metadata": {},
   "outputs": [],
   "source": [
    "# Отфильтруем датафрейм по получившемуся списку\n",
    "df_quantity = df_quantity[df_quantity['Description'].isin(xyz_names)]"
   ]
  },
  {
   "cell_type": "code",
   "execution_count": 37,
   "id": "ef80098e-bf8a-4614-ada3-8e20afb75209",
   "metadata": {},
   "outputs": [
    {
     "name": "stderr",
     "output_type": "stream",
     "text": [
      "C:\\Users\\dbellkoff\\AppData\\Local\\Temp\\ipykernel_24012\\3805821564.py:2: FutureWarning: Dropping of nuisance columns in DataFrame reductions (with 'numeric_only=None') is deprecated; in a future version this will raise TypeError.  Select only valid columns before calling the reduction.\n",
      "  df_quantity = df_quantity.groupby('Description', as_index=False).apply(lambda x: x.std() / x.mean())\n"
     ]
    }
   ],
   "source": [
    "# Посчитаем коэффициент вариации\n",
    "df_quantity = df_quantity.groupby('Description', as_index=False).apply(lambda x: x.std() / x.mean())"
   ]
  },
  {
   "cell_type": "code",
   "execution_count": 38,
   "id": "4e25a31e-d230-408e-ac57-40d970d85f45",
   "metadata": {},
   "outputs": [
    {
     "data": {
      "text/html": [
       "<div>\n",
       "<style scoped>\n",
       "    .dataframe tbody tr th:only-of-type {\n",
       "        vertical-align: middle;\n",
       "    }\n",
       "\n",
       "    .dataframe tbody tr th {\n",
       "        vertical-align: top;\n",
       "    }\n",
       "\n",
       "    .dataframe thead th {\n",
       "        text-align: right;\n",
       "    }\n",
       "</style>\n",
       "<table border=\"1\" class=\"dataframe\">\n",
       "  <thead>\n",
       "    <tr style=\"text-align: right;\">\n",
       "      <th></th>\n",
       "      <th>Description</th>\n",
       "      <th>Quantity</th>\n",
       "      <th>xyz</th>\n",
       "    </tr>\n",
       "  </thead>\n",
       "  <tbody>\n",
       "    <tr>\n",
       "      <th>0</th>\n",
       "      <td>4 PURPLE FLOCK DINNER CANDLES</td>\n",
       "      <td>1.223387</td>\n",
       "      <td>Z</td>\n",
       "    </tr>\n",
       "    <tr>\n",
       "      <th>1</th>\n",
       "      <td>50'S CHRISTMAS GIFT BAG LARGE</td>\n",
       "      <td>0.625702</td>\n",
       "      <td>Z</td>\n",
       "    </tr>\n",
       "    <tr>\n",
       "      <th>2</th>\n",
       "      <td>DOLLY GIRL BEAKER</td>\n",
       "      <td>0.879047</td>\n",
       "      <td>Z</td>\n",
       "    </tr>\n",
       "    <tr>\n",
       "      <th>3</th>\n",
       "      <td>I LOVE LONDON MINI BACKPACK</td>\n",
       "      <td>0.686355</td>\n",
       "      <td>Z</td>\n",
       "    </tr>\n",
       "    <tr>\n",
       "      <th>4</th>\n",
       "      <td>NINE DRAWER OFFICE TIDY</td>\n",
       "      <td>0.394968</td>\n",
       "      <td>Z</td>\n",
       "    </tr>\n",
       "    <tr>\n",
       "      <th>...</th>\n",
       "      <td>...</td>\n",
       "      <td>...</td>\n",
       "      <td>...</td>\n",
       "    </tr>\n",
       "    <tr>\n",
       "      <th>3604</th>\n",
       "      <td>ZINC T-LIGHT HOLDER STARS SMALL</td>\n",
       "      <td>0.655309</td>\n",
       "      <td>Z</td>\n",
       "    </tr>\n",
       "    <tr>\n",
       "      <th>3605</th>\n",
       "      <td>ZINC TOP  2 DOOR WOODEN SHELF</td>\n",
       "      <td>0.314270</td>\n",
       "      <td>Z</td>\n",
       "    </tr>\n",
       "    <tr>\n",
       "      <th>3606</th>\n",
       "      <td>ZINC WILLIE WINKIE  CANDLE STICK</td>\n",
       "      <td>0.709342</td>\n",
       "      <td>Z</td>\n",
       "    </tr>\n",
       "    <tr>\n",
       "      <th>3607</th>\n",
       "      <td>ZINC WIRE KITCHEN ORGANISER</td>\n",
       "      <td>1.002220</td>\n",
       "      <td>Z</td>\n",
       "    </tr>\n",
       "    <tr>\n",
       "      <th>3608</th>\n",
       "      <td>ZINC WIRE SWEETHEART LETTER TRAY</td>\n",
       "      <td>0.964554</td>\n",
       "      <td>Z</td>\n",
       "    </tr>\n",
       "  </tbody>\n",
       "</table>\n",
       "<p>3609 rows × 3 columns</p>\n",
       "</div>"
      ],
      "text/plain": [
       "                           Description  Quantity xyz\n",
       "0        4 PURPLE FLOCK DINNER CANDLES  1.223387   Z\n",
       "1        50'S CHRISTMAS GIFT BAG LARGE  0.625702   Z\n",
       "2                    DOLLY GIRL BEAKER  0.879047   Z\n",
       "3          I LOVE LONDON MINI BACKPACK  0.686355   Z\n",
       "4              NINE DRAWER OFFICE TIDY  0.394968   Z\n",
       "...                                ...       ...  ..\n",
       "3604   ZINC T-LIGHT HOLDER STARS SMALL  0.655309   Z\n",
       "3605    ZINC TOP  2 DOOR WOODEN SHELF   0.314270   Z\n",
       "3606  ZINC WILLIE WINKIE  CANDLE STICK  0.709342   Z\n",
       "3607       ZINC WIRE KITCHEN ORGANISER  1.002220   Z\n",
       "3608  ZINC WIRE SWEETHEART LETTER TRAY  0.964554   Z\n",
       "\n",
       "[3609 rows x 3 columns]"
      ]
     },
     "execution_count": 38,
     "metadata": {},
     "output_type": "execute_result"
    }
   ],
   "source": [
    "# Разобьем товары на группы\n",
    "df_quantity['xyz'] = np.where(df_quantity['Quantity'] < 0.1, 'X', np.where(df_quantity['Quantity'] < 0.25, 'Y', 'Z'))\n",
    "df_quantity"
   ]
  },
  {
   "cell_type": "code",
   "execution_count": 39,
   "id": "58471bda-0c8d-4b83-99de-7ff8d1b90e87",
   "metadata": {},
   "outputs": [
    {
     "data": {
      "text/html": [
       "<div>\n",
       "<style scoped>\n",
       "    .dataframe tbody tr th:only-of-type {\n",
       "        vertical-align: middle;\n",
       "    }\n",
       "\n",
       "    .dataframe tbody tr th {\n",
       "        vertical-align: top;\n",
       "    }\n",
       "\n",
       "    .dataframe thead th {\n",
       "        text-align: right;\n",
       "    }\n",
       "</style>\n",
       "<table border=\"1\" class=\"dataframe\">\n",
       "  <thead>\n",
       "    <tr style=\"text-align: right;\">\n",
       "      <th></th>\n",
       "      <th>xyz</th>\n",
       "      <th>Description</th>\n",
       "    </tr>\n",
       "  </thead>\n",
       "  <tbody>\n",
       "    <tr>\n",
       "      <th>0</th>\n",
       "      <td>X</td>\n",
       "      <td>130</td>\n",
       "    </tr>\n",
       "    <tr>\n",
       "      <th>1</th>\n",
       "      <td>Y</td>\n",
       "      <td>25</td>\n",
       "    </tr>\n",
       "    <tr>\n",
       "      <th>2</th>\n",
       "      <td>Z</td>\n",
       "      <td>3454</td>\n",
       "    </tr>\n",
       "  </tbody>\n",
       "</table>\n",
       "</div>"
      ],
      "text/plain": [
       "  xyz  Description\n",
       "0   X          130\n",
       "1   Y           25\n",
       "2   Z         3454"
      ]
     },
     "execution_count": 39,
     "metadata": {},
     "output_type": "execute_result"
    }
   ],
   "source": [
    "# Посчитаем получившиеся группы\n",
    "df_quantity.groupby('xyz', as_index=False).agg({'Description':'count'})"
   ]
  },
  {
   "cell_type": "markdown",
   "id": "7b6952cb-5cc0-440c-9939-eea8beab028a",
   "metadata": {},
   "source": [
    "Товары **группы X** продаются стабильно хорошо, поэтому они всегда должны быть в наличии на складе. В рамках этой группы можно провести еще один xyz-анализ, чтобы понять есть ли какие-то дополнительные предпочтения у аудитории (например, чаще покупают товары в синем цвете, в деревянной фактурой и пр.).\n",
    "\n",
    "Товары **группы Y** продавались значительно хуже. Создавать для них дополнительные запасы сейчас точно не имеет смысла, важнее понять с чем у них связаны колебания в спросе. Возможно есть какая-то сезонность.\n",
    "\n",
    "Товары **группы Z** оказались наиболее многочисленными. Необходимо провести дополнительный анализ внутри данной группы, чтобы определить какие-то факторы так сильно влияют на спрос."
   ]
  }
 ],
 "metadata": {
  "kernelspec": {
   "display_name": "Python 3 (ipykernel)",
   "language": "python",
   "name": "python3"
  },
  "language_info": {
   "codemirror_mode": {
    "name": "ipython",
    "version": 3
   },
   "file_extension": ".py",
   "mimetype": "text/x-python",
   "name": "python",
   "nbconvert_exporter": "python",
   "pygments_lexer": "ipython3",
   "version": "3.9.13"
  }
 },
 "nbformat": 4,
 "nbformat_minor": 5
}
