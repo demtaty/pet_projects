{
 "cells": [
  {
   "cell_type": "code",
   "execution_count": 135,
   "id": "90905eb7-5a0d-4c6a-9522-28d743de2d4c",
   "metadata": {},
   "outputs": [],
   "source": [
    "import pandas as pd\n",
    "import numpy as np\n",
    "from datetime import datetime, timedelta\n",
    "import seaborn as sns\n",
    "import matplotlib.pyplot as plt\n",
    "from scipy import stats"
   ]
  },
  {
   "cell_type": "code",
   "execution_count": 136,
   "id": "0388b8de-d97f-4b9d-8fa1-c0452e3aae0c",
   "metadata": {},
   "outputs": [],
   "source": [
    "df = pd.read_csv('superstoredata.csv', sep=',')"
   ]
  },
  {
   "cell_type": "code",
   "execution_count": 137,
   "id": "bca1d58b-0c2e-43d5-b27a-f948cb3af3cc",
   "metadata": {},
   "outputs": [
    {
     "data": {
      "text/plain": [
       "(541909, 9)"
      ]
     },
     "execution_count": 137,
     "metadata": {},
     "output_type": "execute_result"
    }
   ],
   "source": [
    "df.shape"
   ]
  },
  {
   "cell_type": "code",
   "execution_count": 138,
   "id": "c231aa4d-a678-44c1-8c5c-0db184db8a2f",
   "metadata": {},
   "outputs": [
    {
     "data": {
      "text/plain": [
       "InvoiceNo       object\n",
       "StockCode       object\n",
       "Description     object\n",
       "Quantity         int64\n",
       "InvoiceDate     object\n",
       "UnitPrice      float64\n",
       "CustomerID     float64\n",
       "Country         object\n",
       "Sales          float64\n",
       "dtype: object"
      ]
     },
     "execution_count": 138,
     "metadata": {},
     "output_type": "execute_result"
    }
   ],
   "source": [
    "df.dtypes"
   ]
  },
  {
   "cell_type": "code",
   "execution_count": 139,
   "id": "d21a361a-d507-4615-aa7c-c6c1e1a9a406",
   "metadata": {},
   "outputs": [],
   "source": [
    "# Приводим столбец с датой к соответствующему типу\n",
    "df['InvoiceDate'] = pd.to_datetime(df['InvoiceDate'])"
   ]
  },
  {
   "cell_type": "code",
   "execution_count": 140,
   "id": "ee7da9ca-8a84-450d-b0b5-30657794bf0e",
   "metadata": {},
   "outputs": [
    {
     "data": {
      "text/plain": [
       "InvoiceNo           0\n",
       "StockCode           0\n",
       "Description      1454\n",
       "Quantity            0\n",
       "InvoiceDate         0\n",
       "UnitPrice           0\n",
       "CustomerID     135080\n",
       "Country             0\n",
       "Sales               0\n",
       "dtype: int64"
      ]
     },
     "execution_count": 140,
     "metadata": {},
     "output_type": "execute_result"
    }
   ],
   "source": [
    "# Проверяем наличие пустых значений\n",
    "df.isna().sum()"
   ]
  },
  {
   "cell_type": "code",
   "execution_count": 141,
   "id": "7c83bbac-4d79-4fe3-82d2-f3ae9c3fa24e",
   "metadata": {},
   "outputs": [
    {
     "data": {
      "text/plain": [
       "array([   0.  ,    2.51,    5.02, ...,  438.24,  270.6 , 1714.17])"
      ]
     },
     "execution_count": 141,
     "metadata": {},
     "output_type": "execute_result"
    }
   ],
   "source": [
    "df[df['CustomerID'].isna() == True]['Sales'].unique()"
   ]
  },
  {
   "cell_type": "code",
   "execution_count": 142,
   "id": "f553a68e-3cd2-4d95-bb25-2d8e5b9a2b25",
   "metadata": {},
   "outputs": [],
   "source": [
    "# Удаляем пустые значения\n",
    "df = df.dropna(subset=['CustomerID'])"
   ]
  },
  {
   "cell_type": "code",
   "execution_count": 143,
   "id": "9de05061-6284-4c74-b822-59825b2a5ac1",
   "metadata": {},
   "outputs": [
    {
     "data": {
      "text/plain": [
       "(406829, 9)"
      ]
     },
     "execution_count": 143,
     "metadata": {},
     "output_type": "execute_result"
    }
   ],
   "source": [
    "df.shape"
   ]
  },
  {
   "cell_type": "code",
   "execution_count": 144,
   "id": "bfbd4486-58ce-4bbf-9c46-0e571bc4f441",
   "metadata": {},
   "outputs": [
    {
     "data": {
      "text/plain": [
       "InvoiceNo      0\n",
       "StockCode      0\n",
       "Description    0\n",
       "Quantity       0\n",
       "InvoiceDate    0\n",
       "UnitPrice      0\n",
       "CustomerID     0\n",
       "Country        0\n",
       "Sales          0\n",
       "dtype: int64"
      ]
     },
     "execution_count": 144,
     "metadata": {},
     "output_type": "execute_result"
    }
   ],
   "source": [
    "df.isna().sum()"
   ]
  },
  {
   "cell_type": "code",
   "execution_count": 145,
   "id": "ab30dd55-fb38-4e82-9f9b-09c9c6edb02a",
   "metadata": {},
   "outputs": [
    {
     "data": {
      "text/plain": [
       "5225"
      ]
     },
     "execution_count": 145,
     "metadata": {},
     "output_type": "execute_result"
    }
   ],
   "source": [
    "# Определяем есть ли дубликаты\n",
    "df.duplicated().sum()"
   ]
  },
  {
   "cell_type": "code",
   "execution_count": 146,
   "id": "d95b33c2-dae1-4bea-95ca-7ebe4ed87f27",
   "metadata": {},
   "outputs": [],
   "source": [
    "# Удаляем дублирующиеся значения\n",
    "df = df.drop_duplicates()"
   ]
  },
  {
   "cell_type": "code",
   "execution_count": 147,
   "id": "d2e78e52-3518-4486-89d2-33510ff49f9a",
   "metadata": {},
   "outputs": [
    {
     "data": {
      "text/html": [
       "<div>\n",
       "<style scoped>\n",
       "    .dataframe tbody tr th:only-of-type {\n",
       "        vertical-align: middle;\n",
       "    }\n",
       "\n",
       "    .dataframe tbody tr th {\n",
       "        vertical-align: top;\n",
       "    }\n",
       "\n",
       "    .dataframe thead th {\n",
       "        text-align: right;\n",
       "    }\n",
       "</style>\n",
       "<table border=\"1\" class=\"dataframe\">\n",
       "  <thead>\n",
       "    <tr style=\"text-align: right;\">\n",
       "      <th></th>\n",
       "      <th>InvoiceNo</th>\n",
       "      <th>StockCode</th>\n",
       "      <th>Description</th>\n",
       "      <th>Quantity</th>\n",
       "      <th>InvoiceDate</th>\n",
       "      <th>UnitPrice</th>\n",
       "      <th>CustomerID</th>\n",
       "      <th>Country</th>\n",
       "      <th>Sales</th>\n",
       "    </tr>\n",
       "  </thead>\n",
       "  <tbody>\n",
       "    <tr>\n",
       "      <th>0</th>\n",
       "      <td>536365</td>\n",
       "      <td>85123A</td>\n",
       "      <td>WHITE HANGING HEART T-LIGHT HOLDER</td>\n",
       "      <td>6</td>\n",
       "      <td>2010-12-01 08:26:00</td>\n",
       "      <td>2.55</td>\n",
       "      <td>17850.0</td>\n",
       "      <td>United Kingdom</td>\n",
       "      <td>15.30</td>\n",
       "    </tr>\n",
       "    <tr>\n",
       "      <th>1</th>\n",
       "      <td>536365</td>\n",
       "      <td>71053</td>\n",
       "      <td>WHITE METAL LANTERN</td>\n",
       "      <td>6</td>\n",
       "      <td>2010-12-01 08:26:00</td>\n",
       "      <td>3.39</td>\n",
       "      <td>17850.0</td>\n",
       "      <td>United Kingdom</td>\n",
       "      <td>20.34</td>\n",
       "    </tr>\n",
       "    <tr>\n",
       "      <th>2</th>\n",
       "      <td>536365</td>\n",
       "      <td>84406B</td>\n",
       "      <td>CREAM CUPID HEARTS COAT HANGER</td>\n",
       "      <td>8</td>\n",
       "      <td>2010-12-01 08:26:00</td>\n",
       "      <td>2.75</td>\n",
       "      <td>17850.0</td>\n",
       "      <td>United Kingdom</td>\n",
       "      <td>22.00</td>\n",
       "    </tr>\n",
       "    <tr>\n",
       "      <th>3</th>\n",
       "      <td>536365</td>\n",
       "      <td>84029G</td>\n",
       "      <td>KNITTED UNION FLAG HOT WATER BOTTLE</td>\n",
       "      <td>6</td>\n",
       "      <td>2010-12-01 08:26:00</td>\n",
       "      <td>3.39</td>\n",
       "      <td>17850.0</td>\n",
       "      <td>United Kingdom</td>\n",
       "      <td>20.34</td>\n",
       "    </tr>\n",
       "    <tr>\n",
       "      <th>4</th>\n",
       "      <td>536365</td>\n",
       "      <td>84029E</td>\n",
       "      <td>RED WOOLLY HOTTIE WHITE HEART.</td>\n",
       "      <td>6</td>\n",
       "      <td>2010-12-01 08:26:00</td>\n",
       "      <td>3.39</td>\n",
       "      <td>17850.0</td>\n",
       "      <td>United Kingdom</td>\n",
       "      <td>20.34</td>\n",
       "    </tr>\n",
       "  </tbody>\n",
       "</table>\n",
       "</div>"
      ],
      "text/plain": [
       "  InvoiceNo StockCode                          Description  Quantity  \\\n",
       "0    536365    85123A   WHITE HANGING HEART T-LIGHT HOLDER         6   \n",
       "1    536365     71053                  WHITE METAL LANTERN         6   \n",
       "2    536365    84406B       CREAM CUPID HEARTS COAT HANGER         8   \n",
       "3    536365    84029G  KNITTED UNION FLAG HOT WATER BOTTLE         6   \n",
       "4    536365    84029E       RED WOOLLY HOTTIE WHITE HEART.         6   \n",
       "\n",
       "          InvoiceDate  UnitPrice  CustomerID         Country  Sales  \n",
       "0 2010-12-01 08:26:00       2.55     17850.0  United Kingdom  15.30  \n",
       "1 2010-12-01 08:26:00       3.39     17850.0  United Kingdom  20.34  \n",
       "2 2010-12-01 08:26:00       2.75     17850.0  United Kingdom  22.00  \n",
       "3 2010-12-01 08:26:00       3.39     17850.0  United Kingdom  20.34  \n",
       "4 2010-12-01 08:26:00       3.39     17850.0  United Kingdom  20.34  "
      ]
     },
     "execution_count": 147,
     "metadata": {},
     "output_type": "execute_result"
    }
   ],
   "source": [
    "df.head()"
   ]
  },
  {
   "cell_type": "code",
   "execution_count": 148,
   "id": "55696300-31db-43b7-be4e-ccd655a9db2e",
   "metadata": {},
   "outputs": [
    {
     "data": {
      "image/png": "[encoded data removed]",
      "text/plain": [
       "<Figure size 640x480 with 1 Axes>"
      ]
     },
     "metadata": {},
     "output_type": "display_data"
    }
   ],
   "source": [
    "# Определим топ-20 товаров по продажам\n",
    "top_20_sales = df.groupby('Description') \\\n",
    "                 .agg({'Sales':'sum'}) \\\n",
    "                 .sort_values(by='Sales', ascending=False) \\\n",
    "                 .reset_index() \\\n",
    "                 .nlargest(n=20, columns='Sales', keep='all')\n",
    "\n",
    "sns.set_style(\"whitegrid\")\n",
    "ax = sns.barplot(data=top_20_sales, y='Description', x='Sales')\n",
    "plt.title('Top-20 products for sales');"
   ]
  },
  {
   "cell_type": "markdown",
   "id": "cb8a93bc-03c8-4b4d-a8d0-88a5a56660db",
   "metadata": {
    "tags": []
   },
   "source": [
    "### RFM - анализ"
   ]
  },
  {
   "cell_type": "code",
   "execution_count": 149,
   "id": "86edbf59-ca22-4371-ac01-03c8c448fcc9",
   "metadata": {},
   "outputs": [
    {
     "data": {
      "image/png": "[encoded data removed]",
      "text/plain": [
       "<Figure size 640x480 with 1 Axes>"
      ]
     },
     "metadata": {},
     "output_type": "display_data"
    }
   ],
   "source": [
    "# Посмотрим на динамику продаж\n",
    "sales_2011 = df[df['InvoiceDate'].dt.year == 2011].groupby(df['InvoiceDate'].dt.month).agg({'Sales':'sum'})\n",
    "\n",
    "sns.barplot(data=sales_2011, y='Sales', x=sales_2011.index, color='salmon')\n",
    "plt.title('Monthly sales in 2011')\n",
    "plt.xlabel('Month')\n",
    "plt.ylabel('Total Sales')\n",
    "plt.xticks(ticks=np.arange(12), labels=['Jan', 'Feb', 'Mar', 'Apr', 'May', 'Jun', 'Jul', 'Aug', 'Sep', 'Oct', 'Nov', 'Dec'])\n",
    "plt.show()"
   ]
  },
  {
   "cell_type": "markdown",
   "id": "86c5b558-a140-472c-9838-31301fdbca2f",
   "metadata": {},
   "source": [
    "Цели анализа:\n",
    "1. Сегментация клиентов. Разделим клиентов на группы в зависимости от их покупательского поведения и степени активности.\n",
    "2. Определение стратегии взаимодействия. Дадим рекомендации по работе с полученными категориями клиентов."
   ]
  },
  {
   "cell_type": "code",
   "execution_count": 150,
   "id": "c6d31a6e-b9ed-4f5a-8afb-374f18abaf73",
   "metadata": {},
   "outputs": [
    {
     "data": {
      "text/html": [
       "<div>\n",
       "<style scoped>\n",
       "    .dataframe tbody tr th:only-of-type {\n",
       "        vertical-align: middle;\n",
       "    }\n",
       "\n",
       "    .dataframe tbody tr th {\n",
       "        vertical-align: top;\n",
       "    }\n",
       "\n",
       "    .dataframe thead th {\n",
       "        text-align: right;\n",
       "    }\n",
       "</style>\n",
       "<table border=\"1\" class=\"dataframe\">\n",
       "  <thead>\n",
       "    <tr style=\"text-align: right;\">\n",
       "      <th></th>\n",
       "      <th>Quantity</th>\n",
       "      <th>UnitPrice</th>\n",
       "      <th>CustomerID</th>\n",
       "      <th>Sales</th>\n",
       "    </tr>\n",
       "  </thead>\n",
       "  <tbody>\n",
       "    <tr>\n",
       "      <th>count</th>\n",
       "      <td>401604.000000</td>\n",
       "      <td>401604.000000</td>\n",
       "      <td>401604.000000</td>\n",
       "      <td>401604.000000</td>\n",
       "    </tr>\n",
       "    <tr>\n",
       "      <th>mean</th>\n",
       "      <td>12.183273</td>\n",
       "      <td>3.474064</td>\n",
       "      <td>15281.160818</td>\n",
       "      <td>20.613638</td>\n",
       "    </tr>\n",
       "    <tr>\n",
       "      <th>std</th>\n",
       "      <td>250.283037</td>\n",
       "      <td>69.764035</td>\n",
       "      <td>1714.006089</td>\n",
       "      <td>430.352218</td>\n",
       "    </tr>\n",
       "    <tr>\n",
       "      <th>min</th>\n",
       "      <td>-80995.000000</td>\n",
       "      <td>0.000000</td>\n",
       "      <td>12346.000000</td>\n",
       "      <td>-168469.600000</td>\n",
       "    </tr>\n",
       "    <tr>\n",
       "      <th>25%</th>\n",
       "      <td>2.000000</td>\n",
       "      <td>1.250000</td>\n",
       "      <td>13939.000000</td>\n",
       "      <td>4.250000</td>\n",
       "    </tr>\n",
       "    <tr>\n",
       "      <th>50%</th>\n",
       "      <td>5.000000</td>\n",
       "      <td>1.950000</td>\n",
       "      <td>15145.000000</td>\n",
       "      <td>11.700000</td>\n",
       "    </tr>\n",
       "    <tr>\n",
       "      <th>75%</th>\n",
       "      <td>12.000000</td>\n",
       "      <td>3.750000</td>\n",
       "      <td>16784.000000</td>\n",
       "      <td>19.800000</td>\n",
       "    </tr>\n",
       "    <tr>\n",
       "      <th>max</th>\n",
       "      <td>80995.000000</td>\n",
       "      <td>38970.000000</td>\n",
       "      <td>18287.000000</td>\n",
       "      <td>168469.600000</td>\n",
       "    </tr>\n",
       "  </tbody>\n",
       "</table>\n",
       "</div>"
      ],
      "text/plain": [
       "            Quantity      UnitPrice     CustomerID          Sales\n",
       "count  401604.000000  401604.000000  401604.000000  401604.000000\n",
       "mean       12.183273       3.474064   15281.160818      20.613638\n",
       "std       250.283037      69.764035    1714.006089     430.352218\n",
       "min    -80995.000000       0.000000   12346.000000 -168469.600000\n",
       "25%         2.000000       1.250000   13939.000000       4.250000\n",
       "50%         5.000000       1.950000   15145.000000      11.700000\n",
       "75%        12.000000       3.750000   16784.000000      19.800000\n",
       "max     80995.000000   38970.000000   18287.000000  168469.600000"
      ]
     },
     "execution_count": 150,
     "metadata": {},
     "output_type": "execute_result"
    }
   ],
   "source": [
    "# Посмотрим на описательные статистики числовых переменных\n",
    "df.describe()"
   ]
  },
  {
   "cell_type": "markdown",
   "id": "db21c6f4-ae27-43b2-82b7-6a2de738e754",
   "metadata": {},
   "source": [
    "Стандартное отклонение по столбцу Sales достаточно высокое (430), что указывает на значительный разброс значений относительно среднего значения, что может говорить о наличии выбросов или различий в объеме продаж.\n",
    "\n",
    "Медиана(11.70) меньше среднего значения, это указывает на то, что распределение продаж, скорее всего, смещено вправо и содержит выбросы с высокими значениями.\n",
    "\n",
    "Минимальное отрицательное значение может говорить о наличии возвратов, при этом оно является взаимоисключающем с максимальным значением.\n",
    "\n",
    "Поэтому в виду специфики данных определим границы в датасете, чтобы исключить аномальные значения"
   ]
  },
  {
   "cell_type": "code",
   "execution_count": 151,
   "id": "0f047b48-5ab9-44c9-a6fc-83a4ed801d48",
   "metadata": {},
   "outputs": [],
   "source": [
    "# С помощью межквартильного размаха определяем границы для исключения выбросов и отрицательных значений продаж\n",
    "q1 = df.Sales.quantile(0.25)\n",
    "q3 = df.Sales.quantile(0.75)\n",
    "iqr = q3 - q1\n",
    "iqr_bottom = q1 - 1.5 * iqr\n",
    "iqr_up = q3 + 1.5 * iqr"
   ]
  },
  {
   "cell_type": "code",
   "execution_count": 152,
   "id": "3467f11a-57df-4f33-b555-6bd5772141ec",
   "metadata": {},
   "outputs": [
    {
     "data": {
      "text/html": [
       "<div>\n",
       "<style scoped>\n",
       "    .dataframe tbody tr th:only-of-type {\n",
       "        vertical-align: middle;\n",
       "    }\n",
       "\n",
       "    .dataframe tbody tr th {\n",
       "        vertical-align: top;\n",
       "    }\n",
       "\n",
       "    .dataframe thead th {\n",
       "        text-align: right;\n",
       "    }\n",
       "</style>\n",
       "<table border=\"1\" class=\"dataframe\">\n",
       "  <thead>\n",
       "    <tr style=\"text-align: right;\">\n",
       "      <th></th>\n",
       "      <th>Quantity</th>\n",
       "      <th>UnitPrice</th>\n",
       "      <th>CustomerID</th>\n",
       "      <th>Sales</th>\n",
       "    </tr>\n",
       "  </thead>\n",
       "  <tbody>\n",
       "    <tr>\n",
       "      <th>count</th>\n",
       "      <td>368666.000000</td>\n",
       "      <td>368666.000000</td>\n",
       "      <td>368666.000000</td>\n",
       "      <td>368666.000000</td>\n",
       "    </tr>\n",
       "    <tr>\n",
       "      <th>mean</th>\n",
       "      <td>7.723207</td>\n",
       "      <td>2.769694</td>\n",
       "      <td>15307.097202</td>\n",
       "      <td>11.754021</td>\n",
       "    </tr>\n",
       "    <tr>\n",
       "      <th>std</th>\n",
       "      <td>23.142696</td>\n",
       "      <td>2.889512</td>\n",
       "      <td>1710.184444</td>\n",
       "      <td>9.438399</td>\n",
       "    </tr>\n",
       "    <tr>\n",
       "      <th>min</th>\n",
       "      <td>-720.000000</td>\n",
       "      <td>0.000000</td>\n",
       "      <td>12347.000000</td>\n",
       "      <td>-19.050000</td>\n",
       "    </tr>\n",
       "    <tr>\n",
       "      <th>25%</th>\n",
       "      <td>2.000000</td>\n",
       "      <td>1.250000</td>\n",
       "      <td>13982.000000</td>\n",
       "      <td>4.150000</td>\n",
       "    </tr>\n",
       "    <tr>\n",
       "      <th>50%</th>\n",
       "      <td>4.000000</td>\n",
       "      <td>1.690000</td>\n",
       "      <td>15189.000000</td>\n",
       "      <td>10.200000</td>\n",
       "    </tr>\n",
       "    <tr>\n",
       "      <th>75%</th>\n",
       "      <td>12.000000</td>\n",
       "      <td>3.750000</td>\n",
       "      <td>16809.000000</td>\n",
       "      <td>17.000000</td>\n",
       "    </tr>\n",
       "    <tr>\n",
       "      <th>max</th>\n",
       "      <td>12540.000000</td>\n",
       "      <td>40.460000</td>\n",
       "      <td>18287.000000</td>\n",
       "      <td>43.000000</td>\n",
       "    </tr>\n",
       "  </tbody>\n",
       "</table>\n",
       "</div>"
      ],
      "text/plain": [
       "            Quantity      UnitPrice     CustomerID          Sales\n",
       "count  368666.000000  368666.000000  368666.000000  368666.000000\n",
       "mean        7.723207       2.769694   15307.097202      11.754021\n",
       "std        23.142696       2.889512    1710.184444       9.438399\n",
       "min      -720.000000       0.000000   12347.000000     -19.050000\n",
       "25%         2.000000       1.250000   13982.000000       4.150000\n",
       "50%         4.000000       1.690000   15189.000000      10.200000\n",
       "75%        12.000000       3.750000   16809.000000      17.000000\n",
       "max     12540.000000      40.460000   18287.000000      43.000000"
      ]
     },
     "execution_count": 152,
     "metadata": {},
     "output_type": "execute_result"
    }
   ],
   "source": [
    "# Отсортируем датафрейм в соответствии с новыми границаи и посмотрим на получившиеся статистики\n",
    "df_no_outliers = df[(df.Sales > iqr_bottom) & (df.Sales < iqr_up) ]\n",
    "df_no_outliers.describe()"
   ]
  },
  {
   "cell_type": "code",
   "execution_count": 153,
   "id": "ec15cbef-9d1f-4114-9f71-5e74dfe4846e",
   "metadata": {},
   "outputs": [],
   "source": [
    "# Для анализа будет использовать данные за период 12 месяцев\n",
    "min_date = max(df_no_outliers.InvoiceDate) - timedelta(days=365)"
   ]
  },
  {
   "cell_type": "code",
   "execution_count": 154,
   "id": "4b8ac399-59d1-46e9-a469-f8d76c0c0c45",
   "metadata": {},
   "outputs": [
    {
     "data": {
      "text/html": [
       "<div>\n",
       "<style scoped>\n",
       "    .dataframe tbody tr th:only-of-type {\n",
       "        vertical-align: middle;\n",
       "    }\n",
       "\n",
       "    .dataframe tbody tr th {\n",
       "        vertical-align: top;\n",
       "    }\n",
       "\n",
       "    .dataframe thead th {\n",
       "        text-align: right;\n",
       "    }\n",
       "</style>\n",
       "<table border=\"1\" class=\"dataframe\">\n",
       "  <thead>\n",
       "    <tr style=\"text-align: right;\">\n",
       "      <th></th>\n",
       "      <th>CustomerID</th>\n",
       "      <th>Quantity</th>\n",
       "      <th>Sales</th>\n",
       "      <th>InvoiceDate</th>\n",
       "      <th>days_since_last_purchase</th>\n",
       "    </tr>\n",
       "  </thead>\n",
       "  <tbody>\n",
       "    <tr>\n",
       "      <th>0</th>\n",
       "      <td>12347.0</td>\n",
       "      <td>140</td>\n",
       "      <td>2632.39</td>\n",
       "      <td>2011-12-07 15:52:00</td>\n",
       "      <td>1</td>\n",
       "    </tr>\n",
       "    <tr>\n",
       "      <th>1</th>\n",
       "      <td>12348.0</td>\n",
       "      <td>19</td>\n",
       "      <td>601.64</td>\n",
       "      <td>2011-09-25 13:13:00</td>\n",
       "      <td>74</td>\n",
       "    </tr>\n",
       "    <tr>\n",
       "      <th>2</th>\n",
       "      <td>12349.0</td>\n",
       "      <td>66</td>\n",
       "      <td>1145.35</td>\n",
       "      <td>2011-11-21 09:51:00</td>\n",
       "      <td>18</td>\n",
       "    </tr>\n",
       "    <tr>\n",
       "      <th>3</th>\n",
       "      <td>12350.0</td>\n",
       "      <td>17</td>\n",
       "      <td>334.40</td>\n",
       "      <td>2011-02-02 16:01:00</td>\n",
       "      <td>309</td>\n",
       "    </tr>\n",
       "    <tr>\n",
       "      <th>4</th>\n",
       "      <td>12352.0</td>\n",
       "      <td>80</td>\n",
       "      <td>1505.74</td>\n",
       "      <td>2011-11-03 14:37:00</td>\n",
       "      <td>35</td>\n",
       "    </tr>\n",
       "    <tr>\n",
       "      <th>...</th>\n",
       "      <td>...</td>\n",
       "      <td>...</td>\n",
       "      <td>...</td>\n",
       "      <td>...</td>\n",
       "      <td>...</td>\n",
       "    </tr>\n",
       "    <tr>\n",
       "      <th>4122</th>\n",
       "      <td>18280.0</td>\n",
       "      <td>10</td>\n",
       "      <td>180.60</td>\n",
       "      <td>2011-03-07 09:52:00</td>\n",
       "      <td>277</td>\n",
       "    </tr>\n",
       "    <tr>\n",
       "      <th>4123</th>\n",
       "      <td>18281.0</td>\n",
       "      <td>7</td>\n",
       "      <td>80.82</td>\n",
       "      <td>2011-06-12 10:53:00</td>\n",
       "      <td>180</td>\n",
       "    </tr>\n",
       "    <tr>\n",
       "      <th>4124</th>\n",
       "      <td>18282.0</td>\n",
       "      <td>12</td>\n",
       "      <td>178.05</td>\n",
       "      <td>2011-12-02 11:43:00</td>\n",
       "      <td>7</td>\n",
       "    </tr>\n",
       "    <tr>\n",
       "      <th>4125</th>\n",
       "      <td>18283.0</td>\n",
       "      <td>721</td>\n",
       "      <td>2045.53</td>\n",
       "      <td>2011-12-06 12:02:00</td>\n",
       "      <td>3</td>\n",
       "    </tr>\n",
       "    <tr>\n",
       "      <th>4126</th>\n",
       "      <td>18287.0</td>\n",
       "      <td>58</td>\n",
       "      <td>1068.74</td>\n",
       "      <td>2011-10-28 09:29:00</td>\n",
       "      <td>42</td>\n",
       "    </tr>\n",
       "  </tbody>\n",
       "</table>\n",
       "<p>4127 rows × 5 columns</p>\n",
       "</div>"
      ],
      "text/plain": [
       "      CustomerID  Quantity    Sales         InvoiceDate  \\\n",
       "0        12347.0       140  2632.39 2011-12-07 15:52:00   \n",
       "1        12348.0        19   601.64 2011-09-25 13:13:00   \n",
       "2        12349.0        66  1145.35 2011-11-21 09:51:00   \n",
       "3        12350.0        17   334.40 2011-02-02 16:01:00   \n",
       "4        12352.0        80  1505.74 2011-11-03 14:37:00   \n",
       "...          ...       ...      ...                 ...   \n",
       "4122     18280.0        10   180.60 2011-03-07 09:52:00   \n",
       "4123     18281.0         7    80.82 2011-06-12 10:53:00   \n",
       "4124     18282.0        12   178.05 2011-12-02 11:43:00   \n",
       "4125     18283.0       721  2045.53 2011-12-06 12:02:00   \n",
       "4126     18287.0        58  1068.74 2011-10-28 09:29:00   \n",
       "\n",
       "      days_since_last_purchase  \n",
       "0                            1  \n",
       "1                           74  \n",
       "2                           18  \n",
       "3                          309  \n",
       "4                           35  \n",
       "...                        ...  \n",
       "4122                       277  \n",
       "4123                       180  \n",
       "4124                         7  \n",
       "4125                         3  \n",
       "4126                        42  \n",
       "\n",
       "[4127 rows x 5 columns]"
      ]
     },
     "execution_count": 154,
     "metadata": {},
     "output_type": "execute_result"
    }
   ],
   "source": [
    "# Сгруппируем данные и посчитаем количество дней, прошедших с даты последней покупки\n",
    "gr_df = df_no_outliers[(df_no_outliers['Sales'] > 0)&(df_no_outliers['InvoiceDate'] >= min_date)] \\\n",
    "                .groupby('CustomerID') \\\n",
    "                .agg({'Quantity':'count', \n",
    "                      'Sales':'sum', \n",
    "                      'InvoiceDate':'last'}) \\\n",
    "                .reset_index()\n",
    "\n",
    "gr_df['days_since_last_purchase'] = (max(df_no_outliers.InvoiceDate) - gr_df.InvoiceDate).dt.days\n",
    "gr_df"
   ]
  },
  {
   "cell_type": "code",
   "execution_count": 155,
   "id": "f93dae61-199c-4c93-8673-d435ddeab33e",
   "metadata": {},
   "outputs": [
    {
     "data": {
      "text/html": [
       "<div>\n",
       "<style scoped>\n",
       "    .dataframe tbody tr th:only-of-type {\n",
       "        vertical-align: middle;\n",
       "    }\n",
       "\n",
       "    .dataframe tbody tr th {\n",
       "        vertical-align: top;\n",
       "    }\n",
       "\n",
       "    .dataframe thead th {\n",
       "        text-align: right;\n",
       "    }\n",
       "</style>\n",
       "<table border=\"1\" class=\"dataframe\">\n",
       "  <thead>\n",
       "    <tr style=\"text-align: right;\">\n",
       "      <th></th>\n",
       "      <th>Quantity</th>\n",
       "      <th>Sales</th>\n",
       "      <th>days_since_last_purchase</th>\n",
       "    </tr>\n",
       "  </thead>\n",
       "  <tbody>\n",
       "    <tr>\n",
       "      <th>0.1</th>\n",
       "      <td>7.0</td>\n",
       "      <td>112.750</td>\n",
       "      <td>4.0</td>\n",
       "    </tr>\n",
       "    <tr>\n",
       "      <th>0.2</th>\n",
       "      <td>13.0</td>\n",
       "      <td>175.648</td>\n",
       "      <td>12.0</td>\n",
       "    </tr>\n",
       "    <tr>\n",
       "      <th>0.3</th>\n",
       "      <td>20.0</td>\n",
       "      <td>264.362</td>\n",
       "      <td>21.0</td>\n",
       "    </tr>\n",
       "    <tr>\n",
       "      <th>0.4</th>\n",
       "      <td>28.0</td>\n",
       "      <td>364.648</td>\n",
       "      <td>31.0</td>\n",
       "    </tr>\n",
       "    <tr>\n",
       "      <th>0.5</th>\n",
       "      <td>39.0</td>\n",
       "      <td>488.760</td>\n",
       "      <td>49.0</td>\n",
       "    </tr>\n",
       "    <tr>\n",
       "      <th>0.6</th>\n",
       "      <td>55.0</td>\n",
       "      <td>678.298</td>\n",
       "      <td>67.0</td>\n",
       "    </tr>\n",
       "    <tr>\n",
       "      <th>0.7</th>\n",
       "      <td>76.0</td>\n",
       "      <td>970.360</td>\n",
       "      <td>102.0</td>\n",
       "    </tr>\n",
       "    <tr>\n",
       "      <th>0.8</th>\n",
       "      <td>111.8</td>\n",
       "      <td>1443.442</td>\n",
       "      <td>170.0</td>\n",
       "    </tr>\n",
       "    <tr>\n",
       "      <th>0.9</th>\n",
       "      <td>190.0</td>\n",
       "      <td>2419.956</td>\n",
       "      <td>248.4</td>\n",
       "    </tr>\n",
       "    <tr>\n",
       "      <th>1.0</th>\n",
       "      <td>7493.0</td>\n",
       "      <td>86421.780</td>\n",
       "      <td>364.0</td>\n",
       "    </tr>\n",
       "  </tbody>\n",
       "</table>\n",
       "</div>"
      ],
      "text/plain": [
       "     Quantity      Sales  days_since_last_purchase\n",
       "0.1       7.0    112.750                       4.0\n",
       "0.2      13.0    175.648                      12.0\n",
       "0.3      20.0    264.362                      21.0\n",
       "0.4      28.0    364.648                      31.0\n",
       "0.5      39.0    488.760                      49.0\n",
       "0.6      55.0    678.298                      67.0\n",
       "0.7      76.0    970.360                     102.0\n",
       "0.8     111.8   1443.442                     170.0\n",
       "0.9     190.0   2419.956                     248.4\n",
       "1.0    7493.0  86421.780                     364.0"
      ]
     },
     "execution_count": 155,
     "metadata": {},
     "output_type": "execute_result"
    }
   ],
   "source": [
    "# Для каждого столбца датафрейма посмотрим глазами на распределение значений по квантилям\n",
    "quantiles = [round(el, 2) for el in np.arange(0.1, 1.1, 0.1)]\n",
    "\n",
    "gr_df[['Quantity', 'Sales', 'days_since_last_purchase']].quantile(quantiles)"
   ]
  },
  {
   "cell_type": "code",
   "execution_count": 156,
   "id": "f633bd13-0564-4c85-af11-07a9f539e14a",
   "metadata": {},
   "outputs": [
    {
     "data": {
      "text/plain": [
       "Quantity                      84.743639\n",
       "Sales                       1028.755506\n",
       "days_since_last_purchase      87.050884\n",
       "dtype: float64"
      ]
     },
     "execution_count": 156,
     "metadata": {},
     "output_type": "execute_result"
    }
   ],
   "source": [
    "gr_df[['Quantity', 'Sales', 'days_since_last_purchase']].mean()"
   ]
  },
  {
   "cell_type": "code",
   "execution_count": 157,
   "id": "29bc6674-0169-4765-863c-73984dd5ad63",
   "metadata": {},
   "outputs": [],
   "source": [
    "# Определяем квантили, по которым будем делить клиентов на группы. В данном случае будем использовать 33% и 66%. \n",
    "# Они позволяют поделить всех клиентов на три равных группы и при этом автоматически определить границы этих групп.\n",
    "quant = [0.33, 0.66]"
   ]
  },
  {
   "cell_type": "markdown",
   "id": "976e310f-2049-4a57-8809-17a6e5c42d8a",
   "metadata": {},
   "source": [
    "- Recency: Из распределения видно, что 30% покупателей совершали покупку 21 и менее дней назад, то есть это постоянные посетители супермаркета, а также новые, которые были совсем недавно, и мы хотим, чтобы они вернулись вновь. Определяем эту группу как 1. В группу 3 попадают покупатели, которые посещали магазин почти 3 месяца назад (<83 дней) - это могут быть, например, случайные посетители, которые территориально оказались впервые в этом месте, или покупатели, ушедшие к конкурентами. Во вторую группы попадают, соответственно, клиенты, не посещавшие магазин от 24 до 84 дней."
   ]
  },
  {
   "cell_type": "markdown",
   "id": "e54e1d57-58af-4def-9033-73c5ed6e9f4b",
   "metadata": {},
   "source": [
    "- Frequency: По даным наблюдается значительное количество клиентов, совершивших разовые покупки - 22 человек в течении 24 дней. Учитывая, что компания продает, преимущественно, товары для дома, а не продукты питания, то это очень хороший показатель. Тем не менее эта все равно наименее активная аудитория, поэтому мы определяем ее к 3 группе. Клиентов, которые посетили супермаркет 66 и более раз за почти 3 месяца, я отношу к 1 группе - они являются постоянными и лояльными к компании. Медианное количество посещений - 39, это средний сегмент, группа 2."
   ]
  },
  {
   "cell_type": "markdown",
   "id": "220cc79e-f540-4741-9a86-c4a321fbaf35",
   "metadata": {},
   "source": [
    "- Monetary: В группу 1 попадают покупатели, совершившую покупку на сумму более 837 денежных единиц. Средний сегмент (или группа 2) определяется в промежутке между 294 и 837 ден. единицами. В группу 3 попадают оставшиеся клиенты, совершившие покупку на сумму менее 294 ден. ед."
   ]
  },
  {
   "cell_type": "markdown",
   "id": "aaf5a565-14fd-45c9-9bc0-1f52c152701b",
   "metadata": {},
   "source": [
    "Таким образом, в результате деления пользователей на 3 группы, мы получили следующие характеристики границ сегментов:\n",
    "- Сегмент 1: Покупка 24 и менее дней назад (Recency), частота покупок (Frequency) 66 и более, сумма (Monetary) 837 и больше\n",
    "- Сегмент 2: Покупка 83 и менее дней назад (Recency), частота покупок (Frequency) 22-66, сумма (Monetary) 294-837\n",
    "- Сегмент 3: Покупка более 83 дней назад (Recency), частота покупок (Frequency) менее 22, сумма (Monetary) менее 294"
   ]
  },
  {
   "cell_type": "code",
   "execution_count": 159,
   "id": "42a67178-a4a5-4389-9067-0fd3eb38caee",
   "metadata": {},
   "outputs": [],
   "source": [
    "# Функция для определения позиции относительно показателей R,F,M и квантилей\n",
    "def set_score(val, var, perc33, perc66):\n",
    "    if val < perc33:\n",
    "        return 3 if var != 'R' else 1\n",
    "    elif val < perc66:\n",
    "        return 2\n",
    "    else:\n",
    "        return 1 if var!= 'R' else 3"
   ]
  },
  {
   "cell_type": "code",
   "execution_count": 160,
   "id": "67157434-5e90-4c46-b258-b8ab66cde624",
   "metadata": {},
   "outputs": [],
   "source": [
    "# Разбиваем данные по группам в соответствии с выбранными персентилями\n",
    "recency_quantiles = gr_df['days_since_last_purchase'].quantile(quant)\n",
    "gr_df['R'] = gr_df['days_since_last_purchase'].apply(set_score, args=('R', recency_quantiles.iloc[0], recency_quantiles.iloc[1]))\n",
    "\n",
    "frequency_quantiles = gr_df['Quantity'].quantile(quant)\n",
    "gr_df['F'] = gr_df['Quantity'].apply(set_score, args=('F', frequency_quantiles.iloc[0], frequency_quantiles.iloc[1]))\n",
    "\n",
    "monetary_quantiles = gr_df['Sales'].quantile(quant)\n",
    "gr_df['M'] = gr_df['Sales'].apply(set_score, args=('M', monetary_quantiles.iloc[0], monetary_quantiles.iloc[1]))"
   ]
  },
  {
   "cell_type": "code",
   "execution_count": 161,
   "id": "f5218095-7acd-49ff-8493-50e5a53793e7",
   "metadata": {},
   "outputs": [],
   "source": [
    "# Сформируем финальные группы\n",
    "gr_df['RFM'] = gr_df.apply(lambda row: f\"{row['R']}{row['F']}{row['M']}\", axis=1)"
   ]
  },
  {
   "cell_type": "code",
   "execution_count": 162,
   "id": "327c6d46-ed4a-4c06-b233-6c231e6315c9",
   "metadata": {},
   "outputs": [],
   "source": [
    "# Определим количество групп и количество клиентов в каждой из них\n",
    "df2 = gr_df.groupby('RFM')['RFM'].agg({'count'}).reset_index()"
   ]
  },
  {
   "cell_type": "code",
   "execution_count": 163,
   "id": "7cff1022-af9d-4440-a891-1817b8553638",
   "metadata": {},
   "outputs": [],
   "source": [
    "# Добавим новый столбец с числовым типом\n",
    "df2['RFM_int'] = df2['RFM'].astype(int)"
   ]
  },
  {
   "cell_type": "code",
   "execution_count": 164,
   "id": "6c998134-d1f2-4ab1-a2eb-efa849cd21ce",
   "metadata": {},
   "outputs": [
    {
     "data": {
      "image/png": "[encoded data removed]",
      "text/plain": [
       "<Figure size 640x480 with 1 Axes>"
      ]
     },
     "metadata": {},
     "output_type": "display_data"
    }
   ],
   "source": [
    "# Построим визуализацию получившихся групп и их значений\n",
    "ax = sns.barplot(data=df2, y='RFM', x='count')\n",
    "ax.set(ylabel='groups')\n",
    "sns.despine()\n",
    "plt.show()"
   ]
  },
  {
   "cell_type": "markdown",
   "id": "14a4b765-88f7-4847-b970-eeba1a301172",
   "metadata": {},
   "source": [
    "Получившиеся группы можем объединить в подгруппы и определить стратегию взаимодействия для каждой из них. Таким образом, получаем следующее распределение:"
   ]
  },
  {
   "cell_type": "code",
   "execution_count": 165,
   "id": "b970e192-5bb2-442c-910a-a38d55af0824",
   "metadata": {},
   "outputs": [],
   "source": [
    "rfm_types = {\n",
    "    111: 'best_clients',\n",
    "    112: 'best_clients',\n",
    "    121: 'pre_best',\n",
    "    113: 'potential_for_best',\n",
    "    122: 'potential_for_best',\n",
    "    123: 'potential_for_best',\n",
    "    212: 'inactive_clients',\n",
    "    213: 'inactive_clients',\n",
    "    221: 'inactive_clients',\n",
    "    222: 'inactive_clients',\n",
    "    223: 'inactive_clients',\n",
    "    232: 'inactive_clients',\n",
    "    233: 'inactive_clients',\n",
    "    132: 'beginners',\n",
    "    133: 'beginners',\n",
    "    211: 'try_to_reactivate',\n",
    "    311: 'try_to_reactivate',\n",
    "    312: 'try_to_reactivate',\n",
    "    313: 'try_to_reactivate',\n",
    "    321: 'try_to_reactivate',\n",
    "    322: 'try_to_reactivate',\n",
    "    323: 'leaving_clients',\n",
    "    332: 'leaving_clients',\n",
    "    333: 'leaving_clients'\n",
    "}\n",
    "\n",
    "df2['type'] = df2['RFM_int'].map(rfm_types).fillna('other')"
   ]
  },
  {
   "cell_type": "code",
   "execution_count": 166,
   "id": "0bed0da2-0a1e-4eeb-aecb-7b44875e741d",
   "metadata": {},
   "outputs": [
    {
     "data": {
      "text/html": [
       "<div>\n",
       "<style scoped>\n",
       "    .dataframe tbody tr th:only-of-type {\n",
       "        vertical-align: middle;\n",
       "    }\n",
       "\n",
       "    .dataframe tbody tr th {\n",
       "        vertical-align: top;\n",
       "    }\n",
       "\n",
       "    .dataframe thead th {\n",
       "        text-align: right;\n",
       "    }\n",
       "</style>\n",
       "<table border=\"1\" class=\"dataframe\">\n",
       "  <thead>\n",
       "    <tr style=\"text-align: right;\">\n",
       "      <th></th>\n",
       "      <th>type</th>\n",
       "      <th>quantity</th>\n",
       "      <th>share</th>\n",
       "    </tr>\n",
       "  </thead>\n",
       "  <tbody>\n",
       "    <tr>\n",
       "      <th>2</th>\n",
       "      <td>inactive_clients</td>\n",
       "      <td>1005</td>\n",
       "      <td>24.35</td>\n",
       "    </tr>\n",
       "    <tr>\n",
       "      <th>6</th>\n",
       "      <td>try_to_reactivate</td>\n",
       "      <td>925</td>\n",
       "      <td>22.41</td>\n",
       "    </tr>\n",
       "    <tr>\n",
       "      <th>3</th>\n",
       "      <td>leaving_clients</td>\n",
       "      <td>849</td>\n",
       "      <td>20.57</td>\n",
       "    </tr>\n",
       "    <tr>\n",
       "      <th>1</th>\n",
       "      <td>best_clients</td>\n",
       "      <td>766</td>\n",
       "      <td>18.56</td>\n",
       "    </tr>\n",
       "    <tr>\n",
       "      <th>4</th>\n",
       "      <td>potential_for_best</td>\n",
       "      <td>279</td>\n",
       "      <td>6.76</td>\n",
       "    </tr>\n",
       "    <tr>\n",
       "      <th>0</th>\n",
       "      <td>beginners</td>\n",
       "      <td>213</td>\n",
       "      <td>5.16</td>\n",
       "    </tr>\n",
       "    <tr>\n",
       "      <th>5</th>\n",
       "      <td>pre_best</td>\n",
       "      <td>90</td>\n",
       "      <td>2.18</td>\n",
       "    </tr>\n",
       "  </tbody>\n",
       "</table>\n",
       "</div>"
      ],
      "text/plain": [
       "                 type  quantity  share\n",
       "2    inactive_clients      1005  24.35\n",
       "6   try_to_reactivate       925  22.41\n",
       "3     leaving_clients       849  20.57\n",
       "1        best_clients       766  18.56\n",
       "4  potential_for_best       279   6.76\n",
       "0           beginners       213   5.16\n",
       "5            pre_best        90   2.18"
      ]
     },
     "execution_count": 166,
     "metadata": {},
     "output_type": "execute_result"
    }
   ],
   "source": [
    "segments = df2.groupby('type', as_index=False) \\\n",
    "              .agg(quantity=('count','sum')) \\\n",
    "              .sort_values('quantity', ascending=False)\n",
    "\n",
    "segments['share'] = round(segments['quantity'] * 100 / sum(segments['quantity']), 2)\n",
    "segments"
   ]
  },
  {
   "cell_type": "markdown",
   "id": "a41a9c66-896c-4470-acf3-ba3605af1fc1",
   "metadata": {},
   "source": [
    "По основе получившихся результатов предлагаю следующие мероприятия для сформированных групп:\n",
    "\n",
    "**1. 'try_to_reactivate'**\n",
    "\n",
    "Эти покупатели - бывшие постоянные клиенты, они покупали регулярно и на хороший чек, но уже давно не появлялись. Необходимо напомнить этим клиентам о себе, а также можно предложить поучаствовать в опросе об удовлетворенности продукцией, сервисом, компанией. Таким образом мы сможем узнать потенциальную причину уменьшения визитов и поработать над ее устранением.\n",
    "\n",
    "**2. 'beginners'**\n",
    "\n",
    "Это категория клиентов-новичков, либо случайных прохожих. Группа небольшая, всего 5% от общего объема покупателей, поэтому если бюджет позволяет, то с ней также можно провести дополнительное взаимодействие. Эта группа пользователей аккуратничает - тратит немного и нечастно. В этом случае можем поближе познакомить их с компанией - рассказать про акцию, предложиь подписаться в соц.сетях.\n",
    "\n",
    "**3. 'inactive_clients'**\n",
    "\n",
    "Это покупатели, которые делали хороший чек, посещали супермаркет умеренно, но стали возвращаются  нерегулярно. Это самая крупная группа клиентов - 24% - которых важно реактивировать. Для них можно сформировать рассылку с актуальными акциями, а также обязательно указать сроки ее действия, чтобы покупатель вернулся как можно скорее, либо можно напомнить об имеющихся бонусах, которые вот-вот сгорят, если их не потратить.\n",
    "\n",
    "**4. 'potential_for_best'**\n",
    "\n",
    "Еще одна небольшая (~7%), но с хорошим потенциалом группа. У них можно поработать над увеличением суммы покупок, например, путем предложения им более дорогих и брендовых товаров.\n",
    "\n",
    "**5. 'leaving_clients'**\n",
    "\n",
    "Если, опять же, позволяет бюджет, то можно попытаться вернуть клиентов из данной категории. Помимо информирования о текущих акциях или предоставления промокода, можно также повыяснять причины ухода, так как эта когорта достаточно крупная - 20%. Возможно компания чем-то отталкивает покупателей, необходимо опровергнуть эту гипотезу.\n",
    "\n",
    "**6. 'best_clients', 'pre_best'**\n",
    "\n",
    "Наши \"звездочки\", к ним лучше всего выходить с какими-то нестандартными предложениями, супер-промокодами либо вопросами из серии \"каких товаров вам еще не хватает\". При взаимодействии делаем акцент на повышении лояльности."
   ]
  }
 ],
 "metadata": {
  "kernelspec": {
   "display_name": "Python 3 (ipykernel)",
   "language": "python",
   "name": "python3"
  },
  "language_info": {
   "codemirror_mode": {
    "name": "ipython",
    "version": 3
   },
   "file_extension": ".py",
   "mimetype": "text/x-python",
   "name": "python",
   "nbconvert_exporter": "python",
   "pygments_lexer": "ipython3",
   "version": "3.9.13"
  }
 },
 "nbformat": 4,
 "nbformat_minor": 5
}
