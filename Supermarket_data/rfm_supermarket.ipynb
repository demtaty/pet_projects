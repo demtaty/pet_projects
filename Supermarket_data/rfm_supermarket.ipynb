{
 "cells": [
  {
   "cell_type": "code",
   "execution_count": 2,
   "id": "90905eb7-5a0d-4c6a-9522-28d743de2d4c",
   "metadata": {},
   "outputs": [],
   "source": [
    "import pandas as pd\n",
    "import numpy as np\n",
    "from datetime import datetime, timedelta\n",
    "import seaborn as sns\n",
    "import matplotlib.pyplot as plt\n",
    "from scipy import stats"
   ]
  },
  {
   "cell_type": "code",
   "execution_count": 3,
   "id": "0388b8de-d97f-4b9d-8fa1-c0452e3aae0c",
   "metadata": {},
   "outputs": [],
   "source": [
    "df = pd.read_csv('superstoredata.csv', sep=',')"
   ]
  },
  {
   "cell_type": "code",
   "execution_count": 4,
   "id": "bca1d58b-0c2e-43d5-b27a-f948cb3af3cc",
   "metadata": {},
   "outputs": [
    {
     "data": {
      "text/plain": [
       "(541909, 9)"
      ]
     },
     "execution_count": 4,
     "metadata": {},
     "output_type": "execute_result"
    }
   ],
   "source": [
    "df.shape"
   ]
  },
  {
   "cell_type": "code",
   "execution_count": 5,
   "id": "c231aa4d-a678-44c1-8c5c-0db184db8a2f",
   "metadata": {},
   "outputs": [
    {
     "data": {
      "text/plain": [
       "InvoiceNo       object\n",
       "StockCode       object\n",
       "Description     object\n",
       "Quantity         int64\n",
       "InvoiceDate     object\n",
       "UnitPrice      float64\n",
       "CustomerID     float64\n",
       "Country         object\n",
       "Sales          float64\n",
       "dtype: object"
      ]
     },
     "execution_count": 5,
     "metadata": {},
     "output_type": "execute_result"
    }
   ],
   "source": [
    "df.dtypes"
   ]
  },
  {
   "cell_type": "code",
   "execution_count": 6,
   "id": "d21a361a-d507-4615-aa7c-c6c1e1a9a406",
   "metadata": {},
   "outputs": [],
   "source": [
    "# Приводим столбец с датой к соответствующему типу\n",
    "df['InvoiceDate'] = pd.to_datetime(df['InvoiceDate'])"
   ]
  },
  {
   "cell_type": "code",
   "execution_count": 7,
   "id": "ee7da9ca-8a84-450d-b0b5-30657794bf0e",
   "metadata": {},
   "outputs": [
    {
     "data": {
      "text/plain": [
       "InvoiceNo           0\n",
       "StockCode           0\n",
       "Description      1454\n",
       "Quantity            0\n",
       "InvoiceDate         0\n",
       "UnitPrice           0\n",
       "CustomerID     135080\n",
       "Country             0\n",
       "Sales               0\n",
       "dtype: int64"
      ]
     },
     "execution_count": 7,
     "metadata": {},
     "output_type": "execute_result"
    }
   ],
   "source": [
    "# Проверяем наличие пустых значений\n",
    "df.isna().sum()"
   ]
  },
  {
   "cell_type": "code",
   "execution_count": 8,
   "id": "7c83bbac-4d79-4fe3-82d2-f3ae9c3fa24e",
   "metadata": {},
   "outputs": [
    {
     "data": {
      "text/plain": [
       "array([   0.  ,    2.51,    5.02, ...,  438.24,  270.6 , 1714.17])"
      ]
     },
     "execution_count": 8,
     "metadata": {},
     "output_type": "execute_result"
    }
   ],
   "source": [
    "df[df['CustomerID'].isna() == True]['Sales'].unique()"
   ]
  },
  {
   "cell_type": "code",
   "execution_count": 9,
   "id": "f553a68e-3cd2-4d95-bb25-2d8e5b9a2b25",
   "metadata": {},
   "outputs": [],
   "source": [
    "# Удаляем пустые значения\n",
    "df = df.dropna(subset=['CustomerID'])"
   ]
  },
  {
   "cell_type": "code",
   "execution_count": 99,
   "id": "9de05061-6284-4c74-b822-59825b2a5ac1",
   "metadata": {},
   "outputs": [
    {
     "data": {
      "text/plain": [
       "(406829, 9)"
      ]
     },
     "execution_count": 99,
     "metadata": {},
     "output_type": "execute_result"
    }
   ],
   "source": [
    "df.shape"
   ]
  },
  {
   "cell_type": "code",
   "execution_count": 10,
   "id": "bfbd4486-58ce-4bbf-9c46-0e571bc4f441",
   "metadata": {},
   "outputs": [
    {
     "data": {
      "text/plain": [
       "InvoiceNo      0\n",
       "StockCode      0\n",
       "Description    0\n",
       "Quantity       0\n",
       "InvoiceDate    0\n",
       "UnitPrice      0\n",
       "CustomerID     0\n",
       "Country        0\n",
       "Sales          0\n",
       "dtype: int64"
      ]
     },
     "execution_count": 10,
     "metadata": {},
     "output_type": "execute_result"
    }
   ],
   "source": [
    "df.isna().sum()"
   ]
  },
  {
   "cell_type": "code",
   "execution_count": 11,
   "id": "d2e78e52-3518-4486-89d2-33510ff49f9a",
   "metadata": {},
   "outputs": [
    {
     "data": {
      "text/html": [
       "<div>\n",
       "<style scoped>\n",
       "    .dataframe tbody tr th:only-of-type {\n",
       "        vertical-align: middle;\n",
       "    }\n",
       "\n",
       "    .dataframe tbody tr th {\n",
       "        vertical-align: top;\n",
       "    }\n",
       "\n",
       "    .dataframe thead th {\n",
       "        text-align: right;\n",
       "    }\n",
       "</style>\n",
       "<table border=\"1\" class=\"dataframe\">\n",
       "  <thead>\n",
       "    <tr style=\"text-align: right;\">\n",
       "      <th></th>\n",
       "      <th>InvoiceNo</th>\n",
       "      <th>StockCode</th>\n",
       "      <th>Description</th>\n",
       "      <th>Quantity</th>\n",
       "      <th>InvoiceDate</th>\n",
       "      <th>UnitPrice</th>\n",
       "      <th>CustomerID</th>\n",
       "      <th>Country</th>\n",
       "      <th>Sales</th>\n",
       "    </tr>\n",
       "  </thead>\n",
       "  <tbody>\n",
       "    <tr>\n",
       "      <th>0</th>\n",
       "      <td>536365</td>\n",
       "      <td>85123A</td>\n",
       "      <td>WHITE HANGING HEART T-LIGHT HOLDER</td>\n",
       "      <td>6</td>\n",
       "      <td>2010-12-01 08:26:00</td>\n",
       "      <td>2.55</td>\n",
       "      <td>17850.0</td>\n",
       "      <td>United Kingdom</td>\n",
       "      <td>15.30</td>\n",
       "    </tr>\n",
       "    <tr>\n",
       "      <th>1</th>\n",
       "      <td>536365</td>\n",
       "      <td>71053</td>\n",
       "      <td>WHITE METAL LANTERN</td>\n",
       "      <td>6</td>\n",
       "      <td>2010-12-01 08:26:00</td>\n",
       "      <td>3.39</td>\n",
       "      <td>17850.0</td>\n",
       "      <td>United Kingdom</td>\n",
       "      <td>20.34</td>\n",
       "    </tr>\n",
       "    <tr>\n",
       "      <th>2</th>\n",
       "      <td>536365</td>\n",
       "      <td>84406B</td>\n",
       "      <td>CREAM CUPID HEARTS COAT HANGER</td>\n",
       "      <td>8</td>\n",
       "      <td>2010-12-01 08:26:00</td>\n",
       "      <td>2.75</td>\n",
       "      <td>17850.0</td>\n",
       "      <td>United Kingdom</td>\n",
       "      <td>22.00</td>\n",
       "    </tr>\n",
       "    <tr>\n",
       "      <th>3</th>\n",
       "      <td>536365</td>\n",
       "      <td>84029G</td>\n",
       "      <td>KNITTED UNION FLAG HOT WATER BOTTLE</td>\n",
       "      <td>6</td>\n",
       "      <td>2010-12-01 08:26:00</td>\n",
       "      <td>3.39</td>\n",
       "      <td>17850.0</td>\n",
       "      <td>United Kingdom</td>\n",
       "      <td>20.34</td>\n",
       "    </tr>\n",
       "    <tr>\n",
       "      <th>4</th>\n",
       "      <td>536365</td>\n",
       "      <td>84029E</td>\n",
       "      <td>RED WOOLLY HOTTIE WHITE HEART.</td>\n",
       "      <td>6</td>\n",
       "      <td>2010-12-01 08:26:00</td>\n",
       "      <td>3.39</td>\n",
       "      <td>17850.0</td>\n",
       "      <td>United Kingdom</td>\n",
       "      <td>20.34</td>\n",
       "    </tr>\n",
       "  </tbody>\n",
       "</table>\n",
       "</div>"
      ],
      "text/plain": [
       "  InvoiceNo StockCode                          Description  Quantity  \\\n",
       "0    536365    85123A   WHITE HANGING HEART T-LIGHT HOLDER         6   \n",
       "1    536365     71053                  WHITE METAL LANTERN         6   \n",
       "2    536365    84406B       CREAM CUPID HEARTS COAT HANGER         8   \n",
       "3    536365    84029G  KNITTED UNION FLAG HOT WATER BOTTLE         6   \n",
       "4    536365    84029E       RED WOOLLY HOTTIE WHITE HEART.         6   \n",
       "\n",
       "          InvoiceDate  UnitPrice  CustomerID         Country  Sales  \n",
       "0 2010-12-01 08:26:00       2.55     17850.0  United Kingdom  15.30  \n",
       "1 2010-12-01 08:26:00       3.39     17850.0  United Kingdom  20.34  \n",
       "2 2010-12-01 08:26:00       2.75     17850.0  United Kingdom  22.00  \n",
       "3 2010-12-01 08:26:00       3.39     17850.0  United Kingdom  20.34  \n",
       "4 2010-12-01 08:26:00       3.39     17850.0  United Kingdom  20.34  "
      ]
     },
     "execution_count": 11,
     "metadata": {},
     "output_type": "execute_result"
    }
   ],
   "source": [
    "df.head()"
   ]
  },
  {
   "cell_type": "code",
   "execution_count": 12,
   "id": "55696300-31db-43b7-be4e-ccd655a9db2e",
   "metadata": {},
   "outputs": [
    {
     "data": {
      "image/png": "[encoded data removed]",
      "text/plain": [
       "<Figure size 640x480 with 1 Axes>"
      ]
     },
     "metadata": {},
     "output_type": "display_data"
    }
   ],
   "source": [
    "# Определим топ-20 товаров по продажам\n",
    "top_20_sales = df.groupby('Description') \\\n",
    "                 .agg({'Sales':'sum'}) \\\n",
    "                 .sort_values(by='Sales', ascending=False) \\\n",
    "                 .reset_index() \\\n",
    "                 .nlargest(n=20, columns='Sales', keep='all')\n",
    "\n",
    "sns.set_style(\"whitegrid\")\n",
    "ax = sns.barplot(data=top_20_sales, y='Description', x='Sales')\n",
    "plt.title('Top-20 products for sales');"
   ]
  },
  {
   "cell_type": "markdown",
   "id": "cb8a93bc-03c8-4b4d-a8d0-88a5a56660db",
   "metadata": {
    "tags": []
   },
   "source": [
    "### RFM - анализ"
   ]
  },
  {
   "cell_type": "code",
   "execution_count": 13,
   "id": "86edbf59-ca22-4371-ac01-03c8c448fcc9",
   "metadata": {},
   "outputs": [
    {
     "data": {
      "image/png": "[encoded data removed]",
      "text/plain": [
       "<Figure size 640x480 with 1 Axes>"
      ]
     },
     "metadata": {},
     "output_type": "display_data"
    }
   ],
   "source": [
    "# Посмотрим на динамику продаж\n",
    "sales_2011 = df[df['InvoiceDate'].dt.year == 2011].groupby(df['InvoiceDate'].dt.month).agg({'Sales':'sum'})\n",
    "\n",
    "sns.barplot(data=sales_2011, y='Sales', x=sales_2011.index, color='salmon')\n",
    "plt.title('Monthly sales in 2011')\n",
    "plt.xlabel('Month')\n",
    "plt.ylabel('Total Sales')\n",
    "plt.xticks(ticks=np.arange(12), labels=['Jan', 'Feb', 'Mar', 'Apr', 'May', 'Jun', 'Jul', 'Aug', 'Sep', 'Oct', 'Nov', 'Dec'])\n",
    "plt.show()"
   ]
  },
  {
   "cell_type": "markdown",
   "id": "86c5b558-a140-472c-9838-31301fdbca2f",
   "metadata": {},
   "source": [
    "Цели анализа:\n",
    "1. Сегментация клиентов. Разделим клиентов на различные сегменты в зависимости от их поведения и степени активности.\n",
    "2. Оптимизация маркетинговых кампаний. Подберем маркетинговые кампании/персональные предложения, направленные на различные сегменты клиентов."
   ]
  },
  {
   "cell_type": "code",
   "execution_count": 14,
   "id": "c6d31a6e-b9ed-4f5a-8afb-374f18abaf73",
   "metadata": {},
   "outputs": [
    {
     "data": {
      "text/html": [
       "<div>\n",
       "<style scoped>\n",
       "    .dataframe tbody tr th:only-of-type {\n",
       "        vertical-align: middle;\n",
       "    }\n",
       "\n",
       "    .dataframe tbody tr th {\n",
       "        vertical-align: top;\n",
       "    }\n",
       "\n",
       "    .dataframe thead th {\n",
       "        text-align: right;\n",
       "    }\n",
       "</style>\n",
       "<table border=\"1\" class=\"dataframe\">\n",
       "  <thead>\n",
       "    <tr style=\"text-align: right;\">\n",
       "      <th></th>\n",
       "      <th>Quantity</th>\n",
       "      <th>UnitPrice</th>\n",
       "      <th>CustomerID</th>\n",
       "      <th>Sales</th>\n",
       "    </tr>\n",
       "  </thead>\n",
       "  <tbody>\n",
       "    <tr>\n",
       "      <th>count</th>\n",
       "      <td>406829.000000</td>\n",
       "      <td>406829.000000</td>\n",
       "      <td>406829.000000</td>\n",
       "      <td>406829.000000</td>\n",
       "    </tr>\n",
       "    <tr>\n",
       "      <th>mean</th>\n",
       "      <td>12.061303</td>\n",
       "      <td>3.460471</td>\n",
       "      <td>15287.690570</td>\n",
       "      <td>20.401854</td>\n",
       "    </tr>\n",
       "    <tr>\n",
       "      <th>std</th>\n",
       "      <td>248.693370</td>\n",
       "      <td>69.315162</td>\n",
       "      <td>1713.600303</td>\n",
       "      <td>427.591718</td>\n",
       "    </tr>\n",
       "    <tr>\n",
       "      <th>min</th>\n",
       "      <td>-80995.000000</td>\n",
       "      <td>0.000000</td>\n",
       "      <td>12346.000000</td>\n",
       "      <td>-168469.600000</td>\n",
       "    </tr>\n",
       "    <tr>\n",
       "      <th>25%</th>\n",
       "      <td>2.000000</td>\n",
       "      <td>1.250000</td>\n",
       "      <td>13953.000000</td>\n",
       "      <td>4.200000</td>\n",
       "    </tr>\n",
       "    <tr>\n",
       "      <th>50%</th>\n",
       "      <td>5.000000</td>\n",
       "      <td>1.950000</td>\n",
       "      <td>15152.000000</td>\n",
       "      <td>11.100000</td>\n",
       "    </tr>\n",
       "    <tr>\n",
       "      <th>75%</th>\n",
       "      <td>12.000000</td>\n",
       "      <td>3.750000</td>\n",
       "      <td>16791.000000</td>\n",
       "      <td>19.500000</td>\n",
       "    </tr>\n",
       "    <tr>\n",
       "      <th>max</th>\n",
       "      <td>80995.000000</td>\n",
       "      <td>38970.000000</td>\n",
       "      <td>18287.000000</td>\n",
       "      <td>168469.600000</td>\n",
       "    </tr>\n",
       "  </tbody>\n",
       "</table>\n",
       "</div>"
      ],
      "text/plain": [
       "            Quantity      UnitPrice     CustomerID          Sales\n",
       "count  406829.000000  406829.000000  406829.000000  406829.000000\n",
       "mean       12.061303       3.460471   15287.690570      20.401854\n",
       "std       248.693370      69.315162    1713.600303     427.591718\n",
       "min    -80995.000000       0.000000   12346.000000 -168469.600000\n",
       "25%         2.000000       1.250000   13953.000000       4.200000\n",
       "50%         5.000000       1.950000   15152.000000      11.100000\n",
       "75%        12.000000       3.750000   16791.000000      19.500000\n",
       "max     80995.000000   38970.000000   18287.000000  168469.600000"
      ]
     },
     "execution_count": 14,
     "metadata": {},
     "output_type": "execute_result"
    }
   ],
   "source": [
    "# Посмотрим на описательные статистики числовых переменных\n",
    "df.describe()"
   ]
  },
  {
   "cell_type": "markdown",
   "id": "db21c6f4-ae27-43b2-82b7-6a2de738e754",
   "metadata": {},
   "source": [
    "Стандартное отклонение по столбцу Sales достаточно высокое (427.59), что указывает на значительный разброс значений относительно среднего значения, что может говорить о наличии выбросов или различий в объеме продаж.\n",
    "\n",
    "Медиана(11.10) меньше среднего значения, это указывает на то, что распределение продаж, скорее всего, смещено вправо и содержит выбросы с высокими значениями.\n",
    "\n",
    "Минимальное отрицательное значение может говорить о наличии возвратов, при этом оно является взаимоисключающем с максимальным значением.\n",
    "\n",
    "Поэтому в виду специфики данных определим границы в датасете, чтобы исключить аномальные значения"
   ]
  },
  {
   "cell_type": "code",
   "execution_count": 15,
   "id": "0f047b48-5ab9-44c9-a6fc-83a4ed801d48",
   "metadata": {},
   "outputs": [],
   "source": [
    "# С помощью межквартильного размаха определяем границы для исключения выбросов и отрицательных значений продаж\n",
    "q1 = df.Sales.quantile(0.25)\n",
    "q3 = df.Sales.quantile(0.75)\n",
    "iqr = q3 - q1\n",
    "iqr_bottom = q1 - 0.2 * iqr\n",
    "iqr_up = q3 + 0.2 * iqr"
   ]
  },
  {
   "cell_type": "code",
   "execution_count": 16,
   "id": "3467f11a-57df-4f33-b555-6bd5772141ec",
   "metadata": {},
   "outputs": [
    {
     "data": {
      "text/html": [
       "<div>\n",
       "<style scoped>\n",
       "    .dataframe tbody tr th:only-of-type {\n",
       "        vertical-align: middle;\n",
       "    }\n",
       "\n",
       "    .dataframe tbody tr th {\n",
       "        vertical-align: top;\n",
       "    }\n",
       "\n",
       "    .dataframe thead th {\n",
       "        text-align: right;\n",
       "    }\n",
       "</style>\n",
       "<table border=\"1\" class=\"dataframe\">\n",
       "  <thead>\n",
       "    <tr style=\"text-align: right;\">\n",
       "      <th></th>\n",
       "      <th>Quantity</th>\n",
       "      <th>UnitPrice</th>\n",
       "      <th>CustomerID</th>\n",
       "      <th>Sales</th>\n",
       "    </tr>\n",
       "  </thead>\n",
       "  <tbody>\n",
       "    <tr>\n",
       "      <th>count</th>\n",
       "      <td>310002.000000</td>\n",
       "      <td>310002.000000</td>\n",
       "      <td>310002.000000</td>\n",
       "      <td>310002.000000</td>\n",
       "    </tr>\n",
       "    <tr>\n",
       "      <th>mean</th>\n",
       "      <td>7.080016</td>\n",
       "      <td>2.663974</td>\n",
       "      <td>15340.625731</td>\n",
       "      <td>10.026826</td>\n",
       "    </tr>\n",
       "    <tr>\n",
       "      <th>std</th>\n",
       "      <td>8.548679</td>\n",
       "      <td>2.550343</td>\n",
       "      <td>1700.747781</td>\n",
       "      <td>6.165727</td>\n",
       "    </tr>\n",
       "    <tr>\n",
       "      <th>min</th>\n",
       "      <td>1.000000</td>\n",
       "      <td>0.040000</td>\n",
       "      <td>12347.000000</td>\n",
       "      <td>1.140000</td>\n",
       "    </tr>\n",
       "    <tr>\n",
       "      <th>25%</th>\n",
       "      <td>2.000000</td>\n",
       "      <td>1.250000</td>\n",
       "      <td>14038.000000</td>\n",
       "      <td>4.200000</td>\n",
       "    </tr>\n",
       "    <tr>\n",
       "      <th>50%</th>\n",
       "      <td>4.000000</td>\n",
       "      <td>1.650000</td>\n",
       "      <td>15271.000000</td>\n",
       "      <td>9.900000</td>\n",
       "    </tr>\n",
       "    <tr>\n",
       "      <th>75%</th>\n",
       "      <td>10.000000</td>\n",
       "      <td>3.250000</td>\n",
       "      <td>16837.000000</td>\n",
       "      <td>15.300000</td>\n",
       "    </tr>\n",
       "    <tr>\n",
       "      <th>max</th>\n",
       "      <td>500.000000</td>\n",
       "      <td>21.950000</td>\n",
       "      <td>18287.000000</td>\n",
       "      <td>22.500000</td>\n",
       "    </tr>\n",
       "  </tbody>\n",
       "</table>\n",
       "</div>"
      ],
      "text/plain": [
       "            Quantity      UnitPrice     CustomerID          Sales\n",
       "count  310002.000000  310002.000000  310002.000000  310002.000000\n",
       "mean        7.080016       2.663974   15340.625731      10.026826\n",
       "std         8.548679       2.550343    1700.747781       6.165727\n",
       "min         1.000000       0.040000   12347.000000       1.140000\n",
       "25%         2.000000       1.250000   14038.000000       4.200000\n",
       "50%         4.000000       1.650000   15271.000000       9.900000\n",
       "75%        10.000000       3.250000   16837.000000      15.300000\n",
       "max       500.000000      21.950000   18287.000000      22.500000"
      ]
     },
     "execution_count": 16,
     "metadata": {},
     "output_type": "execute_result"
    }
   ],
   "source": [
    "# Отсортируем датафрейм в соответствии с новыми границаи и посмотрим на получившиеся статистики\n",
    "df_no_outliers = df[(df.Sales > iqr_bottom) & (df.Sales < iqr_up) ]\n",
    "df_no_outliers.describe()"
   ]
  },
  {
   "cell_type": "code",
   "execution_count": 17,
   "id": "ec15cbef-9d1f-4114-9f71-5e74dfe4846e",
   "metadata": {},
   "outputs": [],
   "source": [
    "# Для анализа будет использовать данные за период 12 месяцев\n",
    "min_date = max(df_no_outliers.InvoiceDate) - timedelta(days=365)"
   ]
  },
  {
   "cell_type": "code",
   "execution_count": 80,
   "id": "4b8ac399-59d1-46e9-a469-f8d76c0c0c45",
   "metadata": {},
   "outputs": [
    {
     "data": {
      "text/html": [
       "<div>\n",
       "<style scoped>\n",
       "    .dataframe tbody tr th:only-of-type {\n",
       "        vertical-align: middle;\n",
       "    }\n",
       "\n",
       "    .dataframe tbody tr th {\n",
       "        vertical-align: top;\n",
       "    }\n",
       "\n",
       "    .dataframe thead th {\n",
       "        text-align: right;\n",
       "    }\n",
       "</style>\n",
       "<table border=\"1\" class=\"dataframe\">\n",
       "  <thead>\n",
       "    <tr style=\"text-align: right;\">\n",
       "      <th></th>\n",
       "      <th>CustomerID</th>\n",
       "      <th>Quantity</th>\n",
       "      <th>Sales</th>\n",
       "      <th>InvoiceDate</th>\n",
       "      <th>days_since_last_purchase</th>\n",
       "    </tr>\n",
       "  </thead>\n",
       "  <tbody>\n",
       "    <tr>\n",
       "      <th>0</th>\n",
       "      <td>12347.0</td>\n",
       "      <td>103</td>\n",
       "      <td>1499.12</td>\n",
       "      <td>2011-12-07 15:52:00</td>\n",
       "      <td>1</td>\n",
       "    </tr>\n",
       "    <tr>\n",
       "      <th>1</th>\n",
       "      <td>12348.0</td>\n",
       "      <td>7</td>\n",
       "      <td>111.08</td>\n",
       "      <td>2011-04-05 10:47:00</td>\n",
       "      <td>248</td>\n",
       "    </tr>\n",
       "    <tr>\n",
       "      <th>2</th>\n",
       "      <td>12349.0</td>\n",
       "      <td>59</td>\n",
       "      <td>936.76</td>\n",
       "      <td>2011-11-21 09:51:00</td>\n",
       "      <td>18</td>\n",
       "    </tr>\n",
       "    <tr>\n",
       "      <th>3</th>\n",
       "      <td>12350.0</td>\n",
       "      <td>12</td>\n",
       "      <td>193.60</td>\n",
       "      <td>2011-02-02 16:01:00</td>\n",
       "      <td>309</td>\n",
       "    </tr>\n",
       "    <tr>\n",
       "      <th>4</th>\n",
       "      <td>12352.0</td>\n",
       "      <td>70</td>\n",
       "      <td>1175.64</td>\n",
       "      <td>2011-11-03 14:37:00</td>\n",
       "      <td>35</td>\n",
       "    </tr>\n",
       "    <tr>\n",
       "      <th>...</th>\n",
       "      <td>...</td>\n",
       "      <td>...</td>\n",
       "      <td>...</td>\n",
       "      <td>...</td>\n",
       "      <td>...</td>\n",
       "    </tr>\n",
       "    <tr>\n",
       "      <th>4061</th>\n",
       "      <td>18280.0</td>\n",
       "      <td>8</td>\n",
       "      <td>133.30</td>\n",
       "      <td>2011-03-07 09:52:00</td>\n",
       "      <td>277</td>\n",
       "    </tr>\n",
       "    <tr>\n",
       "      <th>4062</th>\n",
       "      <td>18281.0</td>\n",
       "      <td>7</td>\n",
       "      <td>80.82</td>\n",
       "      <td>2011-06-12 10:53:00</td>\n",
       "      <td>180</td>\n",
       "    </tr>\n",
       "    <tr>\n",
       "      <th>4063</th>\n",
       "      <td>18282.0</td>\n",
       "      <td>10</td>\n",
       "      <td>129.60</td>\n",
       "      <td>2011-12-02 11:43:00</td>\n",
       "      <td>7</td>\n",
       "    </tr>\n",
       "    <tr>\n",
       "      <th>4064</th>\n",
       "      <td>18283.0</td>\n",
       "      <td>611</td>\n",
       "      <td>1991.18</td>\n",
       "      <td>2011-12-06 12:02:00</td>\n",
       "      <td>3</td>\n",
       "    </tr>\n",
       "    <tr>\n",
       "      <th>4065</th>\n",
       "      <td>18287.0</td>\n",
       "      <td>43</td>\n",
       "      <td>613.26</td>\n",
       "      <td>2011-10-28 09:29:00</td>\n",
       "      <td>42</td>\n",
       "    </tr>\n",
       "  </tbody>\n",
       "</table>\n",
       "<p>4066 rows × 5 columns</p>\n",
       "</div>"
      ],
      "text/plain": [
       "      CustomerID  Quantity    Sales         InvoiceDate  \\\n",
       "0        12347.0       103  1499.12 2011-12-07 15:52:00   \n",
       "1        12348.0         7   111.08 2011-04-05 10:47:00   \n",
       "2        12349.0        59   936.76 2011-11-21 09:51:00   \n",
       "3        12350.0        12   193.60 2011-02-02 16:01:00   \n",
       "4        12352.0        70  1175.64 2011-11-03 14:37:00   \n",
       "...          ...       ...      ...                 ...   \n",
       "4061     18280.0         8   133.30 2011-03-07 09:52:00   \n",
       "4062     18281.0         7    80.82 2011-06-12 10:53:00   \n",
       "4063     18282.0        10   129.60 2011-12-02 11:43:00   \n",
       "4064     18283.0       611  1991.18 2011-12-06 12:02:00   \n",
       "4065     18287.0        43   613.26 2011-10-28 09:29:00   \n",
       "\n",
       "      days_since_last_purchase  \n",
       "0                            1  \n",
       "1                          248  \n",
       "2                           18  \n",
       "3                          309  \n",
       "4                           35  \n",
       "...                        ...  \n",
       "4061                       277  \n",
       "4062                       180  \n",
       "4063                         7  \n",
       "4064                         3  \n",
       "4065                        42  \n",
       "\n",
       "[4066 rows x 5 columns]"
      ]
     },
     "execution_count": 80,
     "metadata": {},
     "output_type": "execute_result"
    }
   ],
   "source": [
    "# Сгруппируем данные и посчитаем количество дней, прошедших с даты последней покупки\n",
    "gr_df = df_no_outliers[(df_no_outliers['Sales'] > 0)&(df_no_outliers['InvoiceDate'] >= min_date)] \\\n",
    "                .groupby('CustomerID') \\\n",
    "                .agg({'Quantity':'count', \n",
    "                      'Sales':'sum', \n",
    "                      'InvoiceDate':'last'}) \\\n",
    "                .reset_index()\n",
    "\n",
    "gr_df['days_since_last_purchase'] = (max(df_no_outliers.InvoiceDate) - gr_df.InvoiceDate).dt.days\n",
    "gr_df"
   ]
  },
  {
   "cell_type": "code",
   "execution_count": 81,
   "id": "f93dae61-199c-4c93-8673-d435ddeab33e",
   "metadata": {},
   "outputs": [
    {
     "data": {
      "text/html": [
       "<div>\n",
       "<style scoped>\n",
       "    .dataframe tbody tr th:only-of-type {\n",
       "        vertical-align: middle;\n",
       "    }\n",
       "\n",
       "    .dataframe tbody tr th {\n",
       "        vertical-align: top;\n",
       "    }\n",
       "\n",
       "    .dataframe thead th {\n",
       "        text-align: right;\n",
       "    }\n",
       "</style>\n",
       "<table border=\"1\" class=\"dataframe\">\n",
       "  <thead>\n",
       "    <tr style=\"text-align: right;\">\n",
       "      <th></th>\n",
       "      <th>Quantity</th>\n",
       "      <th>Sales</th>\n",
       "      <th>days_since_last_purchase</th>\n",
       "    </tr>\n",
       "  </thead>\n",
       "  <tbody>\n",
       "    <tr>\n",
       "      <th>0.1</th>\n",
       "      <td>6.0</td>\n",
       "      <td>73.800</td>\n",
       "      <td>4.0</td>\n",
       "    </tr>\n",
       "    <tr>\n",
       "      <th>0.2</th>\n",
       "      <td>11.0</td>\n",
       "      <td>126.150</td>\n",
       "      <td>14.0</td>\n",
       "    </tr>\n",
       "    <tr>\n",
       "      <th>0.3</th>\n",
       "      <td>17.0</td>\n",
       "      <td>190.920</td>\n",
       "      <td>22.0</td>\n",
       "    </tr>\n",
       "    <tr>\n",
       "      <th>0.4</th>\n",
       "      <td>24.0</td>\n",
       "      <td>268.800</td>\n",
       "      <td>32.0</td>\n",
       "    </tr>\n",
       "    <tr>\n",
       "      <th>0.5</th>\n",
       "      <td>34.0</td>\n",
       "      <td>356.060</td>\n",
       "      <td>49.0</td>\n",
       "    </tr>\n",
       "    <tr>\n",
       "      <th>0.6</th>\n",
       "      <td>47.0</td>\n",
       "      <td>502.980</td>\n",
       "      <td>69.0</td>\n",
       "    </tr>\n",
       "    <tr>\n",
       "      <th>0.7</th>\n",
       "      <td>65.0</td>\n",
       "      <td>706.935</td>\n",
       "      <td>105.0</td>\n",
       "    </tr>\n",
       "    <tr>\n",
       "      <th>0.8</th>\n",
       "      <td>96.0</td>\n",
       "      <td>1048.830</td>\n",
       "      <td>172.0</td>\n",
       "    </tr>\n",
       "    <tr>\n",
       "      <th>0.9</th>\n",
       "      <td>164.0</td>\n",
       "      <td>1736.855</td>\n",
       "      <td>252.0</td>\n",
       "    </tr>\n",
       "    <tr>\n",
       "      <th>1.0</th>\n",
       "      <td>6518.0</td>\n",
       "      <td>59172.660</td>\n",
       "      <td>364.0</td>\n",
       "    </tr>\n",
       "  </tbody>\n",
       "</table>\n",
       "</div>"
      ],
      "text/plain": [
       "     Quantity      Sales  days_since_last_purchase\n",
       "0.1       6.0     73.800                       4.0\n",
       "0.2      11.0    126.150                      14.0\n",
       "0.3      17.0    190.920                      22.0\n",
       "0.4      24.0    268.800                      32.0\n",
       "0.5      34.0    356.060                      49.0\n",
       "0.6      47.0    502.980                      69.0\n",
       "0.7      65.0    706.935                     105.0\n",
       "0.8      96.0   1048.830                     172.0\n",
       "0.9     164.0   1736.855                     252.0\n",
       "1.0    6518.0  59172.660                     364.0"
      ]
     },
     "execution_count": 81,
     "metadata": {},
     "output_type": "execute_result"
    }
   ],
   "source": [
    "# Для каждого столбца датафрейма посмотрим глазами на распределение значений по квантилям\n",
    "quantiles = [round(el, 2) for el in np.arange(0.1, 1.1, 0.1)]\n",
    "\n",
    "gr_df[['Quantity', 'Sales', 'days_since_last_purchase']].quantile(quantiles)"
   ]
  },
  {
   "cell_type": "code",
   "execution_count": 82,
   "id": "f633bd13-0564-4c85-af11-07a9f539e14a",
   "metadata": {},
   "outputs": [
    {
     "data": {
      "text/plain": [
       "Quantity                     73.702164\n",
       "Sales                       741.437651\n",
       "days_since_last_purchase     88.098377\n",
       "dtype: float64"
      ]
     },
     "execution_count": 82,
     "metadata": {},
     "output_type": "execute_result"
    }
   ],
   "source": [
    "gr_df[['Quantity', 'Sales', 'days_since_last_purchase']].mean()"
   ]
  },
  {
   "cell_type": "code",
   "execution_count": 83,
   "id": "29bc6674-0169-4765-863c-73984dd5ad63",
   "metadata": {},
   "outputs": [],
   "source": [
    "# Определяем квантили, по которым будем делить клиентов на группы. В данном случае будем использовать 33% и 66%. \n",
    "# Они позволяют поделить всех клиентов на три равных группы и при этом автоматически определить границы этих групп.\n",
    "quant = [0.33, 0.66]"
   ]
  },
  {
   "cell_type": "markdown",
   "id": "976e310f-2049-4a57-8809-17a6e5c42d8a",
   "metadata": {},
   "source": [
    "- Recency: Из распределения видно, что 30% покупателей совершали покупку 21 и менее дней назад, то есть это постоянные посетители супермаркета, а также новые, которые были совсем недавно, и мы хотим, чтобы они вернулись вновь. Определяем эту группу как 1. Медиана (49 дней) и среднее (88 дней) - средняя категорий, то есть группа 2. И в группу 3 попадают покупатели, которые посещали магазин почти 3 месяца назад (84 дня) - это могут быть ,например, случайные посетители, которые территориально оказались впервые в этом месте, или покупатели, ушедшие к конкурентами."
   ]
  },
  {
   "cell_type": "markdown",
   "id": "e54e1d57-58af-4def-9033-73c5ed6e9f4b",
   "metadata": {},
   "source": [
    "- Frequency: По даным наблюдается значительное количество клиентов, совершивших разовые покупки - 19 человек в течении 24 дней. Учитывая, что компания продает, преимущественно, товары для дома, а не продукты питания, то это очень хороший показатель. Тем не менее эта все равно наименее активная аудитория, поэтому мы определяем ее к 3 группе. Клиентов, которые посетили супермаркет 57 и более раз за почти 3 месяца, я отношу к 1 группе - они являются постоянными и лояльными к компании. Медианное количество посещений - 34, это средний сегмент, группа 2."
   ]
  },
  {
   "cell_type": "markdown",
   "id": "220cc79e-f540-4741-9a86-c4a321fbaf35",
   "metadata": {},
   "source": [
    "- Monetary: В группу 1 попадают покупатели, совершившую покупку на сумму более 600 денежных единиц. Средний сегмент (или группа 2) определяется в промежутке между 215 и 600 ден. единицами. В группу 3 попадают оставшиеся клиенты, совершившие покупку на сумму менее 215 ден. ед."
   ]
  },
  {
   "cell_type": "markdown",
   "id": "aaf5a565-14fd-45c9-9bc0-1f52c152701b",
   "metadata": {},
   "source": [
    "Таким образом, в результате деления пользователей на 3 группы, мы получили следующие характеристики границ сегментов:\n",
    "- Сегмент 1: Покупка 24 и менее дней назад (Recency), частота покупок (Frequency) 57 и более, сумма (Monetary) 599 и больше\n",
    "- Сегмент 2: Покупка 84 и менее дней назад (Recency), частота покупок (Frequency) 19-56, сумма (Monetary) 215-598\n",
    "- Сегмент 3: Покупка более 84 дней назад (Recency), частота покупок (Frequency) менее 19, сумма (Monetary) менее 215"
   ]
  },
  {
   "cell_type": "code",
   "execution_count": 84,
   "id": "42a67178-a4a5-4389-9067-0fd3eb38caee",
   "metadata": {},
   "outputs": [],
   "source": [
    "# Функция для определения позиции относительно показателей R,F,M и квантилей\n",
    "def set_score(val, var, perc33, perc66):\n",
    "    if val < perc33:\n",
    "        return 3 if var != 'R' else 1\n",
    "    elif val < perc66:\n",
    "        return 2\n",
    "    else:\n",
    "        return 1 if var!= 'R' else 3"
   ]
  },
  {
   "cell_type": "code",
   "execution_count": 85,
   "id": "67157434-5e90-4c46-b258-b8ab66cde624",
   "metadata": {},
   "outputs": [],
   "source": [
    "# Разбиваем данные по группам в соответствии с выбранными персентилями\n",
    "recency_quantiles = gr_df['days_since_last_purchase'].quantile(quant)\n",
    "gr_df['R'] = gr_df['days_since_last_purchase'].apply(set_score, args=('R', recency_quantiles.iloc[0], recency_quantiles.iloc[1]))\n",
    "\n",
    "frequency_quantiles = gr_df['Quantity'].quantile(quant)\n",
    "gr_df['F'] = gr_df['Quantity'].apply(set_score, args=('F', frequency_quantiles.iloc[0], frequency_quantiles.iloc[1]))\n",
    "\n",
    "monetary_quantiles = gr_df['Sales'].quantile(quant)\n",
    "gr_df['M'] = gr_df['Sales'].apply(set_score, args=('M', monetary_quantiles.iloc[0], monetary_quantiles.iloc[1]))"
   ]
  },
  {
   "cell_type": "code",
   "execution_count": 86,
   "id": "f5218095-7acd-49ff-8493-50e5a53793e7",
   "metadata": {},
   "outputs": [],
   "source": [
    "# Сформируем финальные группы\n",
    "gr_df['RFM'] = gr_df.apply(lambda row: f\"{row['R']}{row['F']}{row['M']}\", axis=1)"
   ]
  },
  {
   "cell_type": "code",
   "execution_count": 87,
   "id": "327c6d46-ed4a-4c06-b233-6c231e6315c9",
   "metadata": {},
   "outputs": [],
   "source": [
    "# Определим количество групп и количество клиентов в каждой из них\n",
    "df2 = gr_df.groupby('RFM')['RFM'].agg({'count'}).reset_index()"
   ]
  },
  {
   "cell_type": "code",
   "execution_count": 88,
   "id": "7cff1022-af9d-4440-a891-1817b8553638",
   "metadata": {},
   "outputs": [],
   "source": [
    "# Добавим новый столбец с числовым типом\n",
    "df2['RFM_int'] = df2['RFM'].astype(int)"
   ]
  },
  {
   "cell_type": "code",
   "execution_count": 89,
   "id": "6c998134-d1f2-4ab1-a2eb-efa849cd21ce",
   "metadata": {},
   "outputs": [
    {
     "data": {
      "image/png": "[encoded data removed]",
      "text/plain": [
       "<Figure size 640x480 with 1 Axes>"
      ]
     },
     "metadata": {},
     "output_type": "display_data"
    }
   ],
   "source": [
    "# Построим визуализацию получившихся групп и их значений\n",
    "ax = sns.barplot(data=df2, y='RFM', x='count')\n",
    "ax.set(ylabel='groups')\n",
    "sns.despine()\n",
    "plt.show()"
   ]
  },
  {
   "cell_type": "markdown",
   "id": "14a4b765-88f7-4847-b970-eeba1a301172",
   "metadata": {},
   "source": [
    "Получившиеся группы можем объединить в подгруппы и определить стратегию взаимодействия для каждой из них. Таким образом, получаем следующее распределение:"
   ]
  },
  {
   "cell_type": "code",
   "execution_count": 97,
   "id": "b970e192-5bb2-442c-910a-a38d55af0824",
   "metadata": {},
   "outputs": [],
   "source": [
    "rfm_types = {\n",
    "    111: 'best_clients',\n",
    "    112: 'best_clients',\n",
    "    121: 'pre_best',\n",
    "    113: 'potential_for_best',\n",
    "    122: 'potential_for_best',\n",
    "    123: 'potential_for_best',\n",
    "    212: 'inactive_clients',\n",
    "    213: 'inactive_clients',\n",
    "    221: 'inactive_clients',\n",
    "    222: 'inactive_clients',\n",
    "    223: 'inactive_clients',\n",
    "    232: 'inactive_clients',\n",
    "    233: 'inactive_clients',\n",
    "    132: 'beginners',\n",
    "    133: 'beginners',\n",
    "    211: 'try_to_reactivate',\n",
    "    311: 'try_to_reactivate',\n",
    "    312: 'try_to_reactivate',\n",
    "    313: 'try_to_reactivate',\n",
    "    321: 'try_to_reactivate',\n",
    "    322: 'try_to_reactivate',\n",
    "    323: 'leaving_clients',\n",
    "    332: 'leaving_clients',\n",
    "    333: 'leaving_clients'\n",
    "}\n",
    "\n",
    "df2['type'] = df2['RFM_int'].map(rfm_types).fillna('other')"
   ]
  },
  {
   "cell_type": "code",
   "execution_count": 98,
   "id": "0bed0da2-0a1e-4eeb-aecb-7b44875e741d",
   "metadata": {},
   "outputs": [
    {
     "data": {
      "text/html": [
       "<div>\n",
       "<style scoped>\n",
       "    .dataframe tbody tr th:only-of-type {\n",
       "        vertical-align: middle;\n",
       "    }\n",
       "\n",
       "    .dataframe tbody tr th {\n",
       "        vertical-align: top;\n",
       "    }\n",
       "\n",
       "    .dataframe thead th {\n",
       "        text-align: right;\n",
       "    }\n",
       "</style>\n",
       "<table border=\"1\" class=\"dataframe\">\n",
       "  <thead>\n",
       "    <tr style=\"text-align: right;\">\n",
       "      <th></th>\n",
       "      <th>type</th>\n",
       "      <th>quantity</th>\n",
       "      <th>share</th>\n",
       "    </tr>\n",
       "  </thead>\n",
       "  <tbody>\n",
       "    <tr>\n",
       "      <th>2</th>\n",
       "      <td>inactive_clients</td>\n",
       "      <td>993</td>\n",
       "      <td>24.42</td>\n",
       "    </tr>\n",
       "    <tr>\n",
       "      <th>6</th>\n",
       "      <td>try_to_reactivate</td>\n",
       "      <td>940</td>\n",
       "      <td>23.12</td>\n",
       "    </tr>\n",
       "    <tr>\n",
       "      <th>3</th>\n",
       "      <td>leaving_clients</td>\n",
       "      <td>828</td>\n",
       "      <td>20.36</td>\n",
       "    </tr>\n",
       "    <tr>\n",
       "      <th>1</th>\n",
       "      <td>best_clients</td>\n",
       "      <td>749</td>\n",
       "      <td>18.42</td>\n",
       "    </tr>\n",
       "    <tr>\n",
       "      <th>4</th>\n",
       "      <td>potential_for_best</td>\n",
       "      <td>281</td>\n",
       "      <td>6.91</td>\n",
       "    </tr>\n",
       "    <tr>\n",
       "      <th>0</th>\n",
       "      <td>beginners</td>\n",
       "      <td>203</td>\n",
       "      <td>4.99</td>\n",
       "    </tr>\n",
       "    <tr>\n",
       "      <th>5</th>\n",
       "      <td>pre_best</td>\n",
       "      <td>72</td>\n",
       "      <td>1.77</td>\n",
       "    </tr>\n",
       "  </tbody>\n",
       "</table>\n",
       "</div>"
      ],
      "text/plain": [
       "                 type  quantity  share\n",
       "2    inactive_clients       993  24.42\n",
       "6   try_to_reactivate       940  23.12\n",
       "3     leaving_clients       828  20.36\n",
       "1        best_clients       749  18.42\n",
       "4  potential_for_best       281   6.91\n",
       "0           beginners       203   4.99\n",
       "5            pre_best        72   1.77"
      ]
     },
     "execution_count": 98,
     "metadata": {},
     "output_type": "execute_result"
    }
   ],
   "source": [
    "segments = df2.groupby('type', as_index=False) \\\n",
    "              .agg(quantity=('count','sum')) \\\n",
    "              .sort_values('quantity', ascending=False)\n",
    "\n",
    "segments['share'] = round(segments['quantity'] * 100 / sum(segments['quantity']), 2)\n",
    "segments"
   ]
  },
  {
   "cell_type": "markdown",
   "id": "a41a9c66-896c-4470-acf3-ba3605af1fc1",
   "metadata": {},
   "source": [
    "По основе получившихся результатов предлагаю следующие мероприятия для сформированных групп:\n",
    "\n",
    "**1. 'try_to_reactivate'**\n",
    "\n",
    "Эти покупатели - бывшие постоянные клиенты, они покупали регулярно и на хороший чек, но уже давно не появлялись. Необходимо напомнить этим клиентам о себе, а также можно предложить поучаствовать в опросе об удовлетворенности продукцией, сервисом, компанией. Таким образом мы сможем узнать потенциальную причину уменьшения визитов и поработать над ее устранением.\n",
    "\n",
    "**2. 'beginners'**\n",
    "\n",
    "Это категория клиентов-новичков, либо случайных прохожих. Группа небольшая, всего 5% от общего объема покупателей, поэтому если бюджет позволяет, то с ней также можно провести дополнительное взаимодействие. Эта группа пользователей аккуратничает - тратит немного и нечастно. В этом случае можем поближе познакомить их с компанией - рассказать про акцию, пригласить в соц.сети.\n",
    "\n",
    "**3. 'inactive_clients'**\n",
    "\n",
    "Это покупатели, которые делали хороший чек, посещали супермаркет умеренно, но стали возвращаются  нерегулярно. Это самая крупная группа клиентов - 24% - которых важно реактивировать. Для них можно сформировать рассылку с актуальными акциями, а также обязательно указать сроки ее действия, чтобы покупатель вернулся как можно скорее, либо можно напомнить об имеющихся бонусах, которые вот-вот сгорят, если их не потратить.\n",
    "\n",
    "**4. 'potential_for_best'**\n",
    "\n",
    "Еще одна небольшая (7%), но с хорошим потенциалом группа. У них можно поработать над увеличением суммы покупок, например, путем предложения им более дорогих и брендовых товаров.\n",
    "\n",
    "**5. 'leaving_clients'**\n",
    "\n",
    "Если, опять же, позволяет бюджет, то можно попытаться вернуть клиентов из данной категории. Помимо информирования о текущих акциях или предоставления промокода, можно также повыяснять причины ухода, так как эта когорта достаточно крупная - 20%. Возможно компания чем-то отталкивает покупателей, необходимо опровергнуть эту гипотезу.\n",
    "\n",
    "**6. 'best_clients', 'pre_best'**\n",
    "\n",
    "Наши \"звездочки\", к ним лучше всего выходить с какими-то нестандартными предложениями, супер-промокодами либо вопросами из серии \"каких товаров вам еще не хватает\". При взаимодействии делаем акцент на повышении лояльности."
   ]
  }
 ],
 "metadata": {
  "kernelspec": {
   "display_name": "Python 3 (ipykernel)",
   "language": "python",
   "name": "python3"
  },
  "language_info": {
   "codemirror_mode": {
    "name": "ipython",
    "version": 3
   },
   "file_extension": ".py",
   "mimetype": "text/x-python",
   "name": "python",
   "nbconvert_exporter": "python",
   "pygments_lexer": "ipython3",
   "version": "3.9.13"
  }
 },
 "nbformat": 4,
 "nbformat_minor": 5
}
