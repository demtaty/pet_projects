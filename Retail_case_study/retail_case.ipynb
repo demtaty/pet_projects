{
 "cells": [
  {
   "cell_type": "code",
   "execution_count": 1,
   "id": "eea89588-f5d2-40eb-85ab-02dd86d13711",
   "metadata": {},
   "outputs": [],
   "source": [
    "# Импортируем библиотеки\n",
    "import pandas as pd\n",
    "import numpy as np\n",
    "import matplotlib.pyplot as plt\n",
    "import seaborn as sns\n",
    "import scipy.stats\n",
    "from scipy.stats import kstest\n",
    "from datetime import datetime, timedelta"
   ]
  },
  {
   "cell_type": "markdown",
   "id": "8bb0825f-97e5-4507-820f-593f9d085f71",
   "metadata": {},
   "source": [
    "1. Объединить данные из «Customer», «Prod_cat_info» и «Transactions» в единый датафрейм под названием customer_final. Проверить, что \"сохранены\" все клиенты, которые совершали транзакции"
   ]
  },
  {
   "cell_type": "code",
   "execution_count": 2,
   "id": "c94f29fe-f804-4d3d-aebd-16a39e1b0db8",
   "metadata": {},
   "outputs": [
    {
     "data": {
      "text/html": [
       "<div>\n",
       "<style scoped>\n",
       "    .dataframe tbody tr th:only-of-type {\n",
       "        vertical-align: middle;\n",
       "    }\n",
       "\n",
       "    .dataframe tbody tr th {\n",
       "        vertical-align: top;\n",
       "    }\n",
       "\n",
       "    .dataframe thead th {\n",
       "        text-align: right;\n",
       "    }\n",
       "</style>\n",
       "<table border=\"1\" class=\"dataframe\">\n",
       "  <thead>\n",
       "    <tr style=\"text-align: right;\">\n",
       "      <th></th>\n",
       "      <th>customer_Id</th>\n",
       "      <th>DOB</th>\n",
       "      <th>Gender</th>\n",
       "      <th>city_code</th>\n",
       "    </tr>\n",
       "  </thead>\n",
       "  <tbody>\n",
       "    <tr>\n",
       "      <th>0</th>\n",
       "      <td>268408</td>\n",
       "      <td>02-01-1970</td>\n",
       "      <td>M</td>\n",
       "      <td>4.0</td>\n",
       "    </tr>\n",
       "    <tr>\n",
       "      <th>1</th>\n",
       "      <td>269696</td>\n",
       "      <td>07-01-1970</td>\n",
       "      <td>F</td>\n",
       "      <td>8.0</td>\n",
       "    </tr>\n",
       "  </tbody>\n",
       "</table>\n",
       "</div>"
      ],
      "text/plain": [
       "   customer_Id         DOB Gender  city_code\n",
       "0       268408  02-01-1970      M        4.0\n",
       "1       269696  07-01-1970      F        8.0"
      ]
     },
     "execution_count": 2,
     "metadata": {},
     "output_type": "execute_result"
    }
   ],
   "source": [
    "customer = pd.read_csv('customer.csv', sep=',')\n",
    "customer.head(2)"
   ]
  },
  {
   "cell_type": "code",
   "execution_count": 3,
   "id": "5a40da44-6445-4040-b9b6-00cc24c534e9",
   "metadata": {},
   "outputs": [
    {
     "data": {
      "text/html": [
       "<div>\n",
       "<style scoped>\n",
       "    .dataframe tbody tr th:only-of-type {\n",
       "        vertical-align: middle;\n",
       "    }\n",
       "\n",
       "    .dataframe tbody tr th {\n",
       "        vertical-align: top;\n",
       "    }\n",
       "\n",
       "    .dataframe thead th {\n",
       "        text-align: right;\n",
       "    }\n",
       "</style>\n",
       "<table border=\"1\" class=\"dataframe\">\n",
       "  <thead>\n",
       "    <tr style=\"text-align: right;\">\n",
       "      <th></th>\n",
       "      <th>prod_cat_code</th>\n",
       "      <th>prod_cat</th>\n",
       "      <th>prod_sub_cat_code</th>\n",
       "      <th>prod_subcat</th>\n",
       "    </tr>\n",
       "  </thead>\n",
       "  <tbody>\n",
       "    <tr>\n",
       "      <th>0</th>\n",
       "      <td>1</td>\n",
       "      <td>Clothing</td>\n",
       "      <td>4</td>\n",
       "      <td>Mens</td>\n",
       "    </tr>\n",
       "    <tr>\n",
       "      <th>1</th>\n",
       "      <td>1</td>\n",
       "      <td>Clothing</td>\n",
       "      <td>1</td>\n",
       "      <td>Women</td>\n",
       "    </tr>\n",
       "  </tbody>\n",
       "</table>\n",
       "</div>"
      ],
      "text/plain": [
       "   prod_cat_code  prod_cat  prod_sub_cat_code prod_subcat\n",
       "0              1  Clothing                  4        Mens\n",
       "1              1  Clothing                  1       Women"
      ]
     },
     "execution_count": 3,
     "metadata": {},
     "output_type": "execute_result"
    }
   ],
   "source": [
    "prod_cat_info = pd.read_csv('prod_cat_info.csv', sep=',')\n",
    "prod_cat_info.head(2)"
   ]
  },
  {
   "cell_type": "code",
   "execution_count": 4,
   "id": "70bf760e-5f6c-4035-9a63-3b495ea2ffba",
   "metadata": {},
   "outputs": [
    {
     "data": {
      "text/html": [
       "<div>\n",
       "<style scoped>\n",
       "    .dataframe tbody tr th:only-of-type {\n",
       "        vertical-align: middle;\n",
       "    }\n",
       "\n",
       "    .dataframe tbody tr th {\n",
       "        vertical-align: top;\n",
       "    }\n",
       "\n",
       "    .dataframe thead th {\n",
       "        text-align: right;\n",
       "    }\n",
       "</style>\n",
       "<table border=\"1\" class=\"dataframe\">\n",
       "  <thead>\n",
       "    <tr style=\"text-align: right;\">\n",
       "      <th></th>\n",
       "      <th>transaction_id</th>\n",
       "      <th>cust_id</th>\n",
       "      <th>tran_date</th>\n",
       "      <th>prod_subcat_code</th>\n",
       "      <th>prod_cat_code</th>\n",
       "      <th>Qty</th>\n",
       "      <th>Rate</th>\n",
       "      <th>Tax</th>\n",
       "      <th>total_amt</th>\n",
       "      <th>Store_type</th>\n",
       "    </tr>\n",
       "  </thead>\n",
       "  <tbody>\n",
       "    <tr>\n",
       "      <th>0</th>\n",
       "      <td>80712190438</td>\n",
       "      <td>270351</td>\n",
       "      <td>28-02-2014</td>\n",
       "      <td>1</td>\n",
       "      <td>1</td>\n",
       "      <td>-5</td>\n",
       "      <td>-772</td>\n",
       "      <td>405.300</td>\n",
       "      <td>-4265.300</td>\n",
       "      <td>e-Shop</td>\n",
       "    </tr>\n",
       "    <tr>\n",
       "      <th>1</th>\n",
       "      <td>29258453508</td>\n",
       "      <td>270384</td>\n",
       "      <td>27-02-2014</td>\n",
       "      <td>5</td>\n",
       "      <td>3</td>\n",
       "      <td>-5</td>\n",
       "      <td>-1497</td>\n",
       "      <td>785.925</td>\n",
       "      <td>-8270.925</td>\n",
       "      <td>e-Shop</td>\n",
       "    </tr>\n",
       "  </tbody>\n",
       "</table>\n",
       "</div>"
      ],
      "text/plain": [
       "   transaction_id  cust_id   tran_date  prod_subcat_code  prod_cat_code  Qty  \\\n",
       "0     80712190438   270351  28-02-2014                 1              1   -5   \n",
       "1     29258453508   270384  27-02-2014                 5              3   -5   \n",
       "\n",
       "   Rate      Tax  total_amt Store_type  \n",
       "0  -772  405.300  -4265.300     e-Shop  \n",
       "1 -1497  785.925  -8270.925     e-Shop  "
      ]
     },
     "execution_count": 4,
     "metadata": {},
     "output_type": "execute_result"
    }
   ],
   "source": [
    "transactions = pd.read_csv('transactions.csv', sep=',')\n",
    "transactions.head(2)"
   ]
  },
  {
   "cell_type": "code",
   "execution_count": 5,
   "id": "d7cae3ba-5bd6-412b-904e-ae5caf7f6ec1",
   "metadata": {},
   "outputs": [
    {
     "name": "stdout",
     "output_type": "stream",
     "text": [
      "Количество строк: 23053\n",
      "Количество уникальных клиентов: 5506\n"
     ]
    }
   ],
   "source": [
    "# Проверяем первоначальное количество строк и уникальных пользователей в таблице\n",
    "print('Количество строк:', transactions.shape[0])\n",
    "print('Количество уникальных клиентов:', transactions['cust_id'].nunique())"
   ]
  },
  {
   "cell_type": "code",
   "execution_count": 6,
   "id": "3d15e908-7cb7-4672-b835-aeebd1db801a",
   "metadata": {},
   "outputs": [
    {
     "name": "stdout",
     "output_type": "stream",
     "text": [
      "<class 'pandas.core.frame.DataFrame'>\n",
      "RangeIndex: 23053 entries, 0 to 23052\n",
      "Data columns (total 10 columns):\n",
      " #   Column            Non-Null Count  Dtype  \n",
      "---  ------            --------------  -----  \n",
      " 0   transaction_id    23053 non-null  int64  \n",
      " 1   cust_id           23053 non-null  int64  \n",
      " 2   tran_date         23053 non-null  object \n",
      " 3   prod_subcat_code  23053 non-null  int64  \n",
      " 4   prod_cat_code     23053 non-null  int64  \n",
      " 5   Qty               23053 non-null  int64  \n",
      " 6   Rate              23053 non-null  int64  \n",
      " 7   Tax               23053 non-null  float64\n",
      " 8   total_amt         23053 non-null  float64\n",
      " 9   Store_type        23053 non-null  object \n",
      "dtypes: float64(2), int64(6), object(2)\n",
      "memory usage: 1.8+ MB\n"
     ]
    }
   ],
   "source": [
    "# Проверяем общую информацию о датафрейме\n",
    "transactions.info()"
   ]
  },
  {
   "cell_type": "code",
   "execution_count": 7,
   "id": "9659e705-52ce-4fa6-a15d-0bbbafae2d4a",
   "metadata": {},
   "outputs": [
    {
     "data": {
      "text/html": [
       "<div>\n",
       "<style scoped>\n",
       "    .dataframe tbody tr th:only-of-type {\n",
       "        vertical-align: middle;\n",
       "    }\n",
       "\n",
       "    .dataframe tbody tr th {\n",
       "        vertical-align: top;\n",
       "    }\n",
       "\n",
       "    .dataframe thead th {\n",
       "        text-align: right;\n",
       "    }\n",
       "</style>\n",
       "<table border=\"1\" class=\"dataframe\">\n",
       "  <thead>\n",
       "    <tr style=\"text-align: right;\">\n",
       "      <th></th>\n",
       "      <th>transaction_id</th>\n",
       "      <th>customer_id</th>\n",
       "      <th>tran_date</th>\n",
       "      <th>prod_sub_cat_code</th>\n",
       "      <th>prod_cat_code</th>\n",
       "      <th>quantity</th>\n",
       "      <th>rate</th>\n",
       "      <th>tax</th>\n",
       "      <th>total_amount</th>\n",
       "      <th>store_type</th>\n",
       "      <th>product_category</th>\n",
       "      <th>product_subcategory</th>\n",
       "      <th>dob</th>\n",
       "      <th>gender</th>\n",
       "      <th>city_code</th>\n",
       "    </tr>\n",
       "  </thead>\n",
       "  <tbody>\n",
       "    <tr>\n",
       "      <th>0</th>\n",
       "      <td>80712190438</td>\n",
       "      <td>270351</td>\n",
       "      <td>28-02-2014</td>\n",
       "      <td>1</td>\n",
       "      <td>1</td>\n",
       "      <td>-5</td>\n",
       "      <td>-772</td>\n",
       "      <td>405.300</td>\n",
       "      <td>-4265.300</td>\n",
       "      <td>e-Shop</td>\n",
       "      <td>Clothing</td>\n",
       "      <td>Women</td>\n",
       "      <td>26-09-1981</td>\n",
       "      <td>M</td>\n",
       "      <td>5.0</td>\n",
       "    </tr>\n",
       "    <tr>\n",
       "      <th>1</th>\n",
       "      <td>29258453508</td>\n",
       "      <td>270384</td>\n",
       "      <td>27-02-2014</td>\n",
       "      <td>5</td>\n",
       "      <td>3</td>\n",
       "      <td>-5</td>\n",
       "      <td>-1497</td>\n",
       "      <td>785.925</td>\n",
       "      <td>-8270.925</td>\n",
       "      <td>e-Shop</td>\n",
       "      <td>Electronics</td>\n",
       "      <td>Computers</td>\n",
       "      <td>11-05-1973</td>\n",
       "      <td>F</td>\n",
       "      <td>8.0</td>\n",
       "    </tr>\n",
       "  </tbody>\n",
       "</table>\n",
       "</div>"
      ],
      "text/plain": [
       "   transaction_id  customer_id   tran_date  prod_sub_cat_code  prod_cat_code  \\\n",
       "0     80712190438       270351  28-02-2014                  1              1   \n",
       "1     29258453508       270384  27-02-2014                  5              3   \n",
       "\n",
       "   quantity  rate      tax  total_amount store_type product_category  \\\n",
       "0        -5  -772  405.300     -4265.300     e-Shop         Clothing   \n",
       "1        -5 -1497  785.925     -8270.925     e-Shop      Electronics   \n",
       "\n",
       "  product_subcategory         dob gender  city_code  \n",
       "0               Women  26-09-1981      M        5.0  \n",
       "1           Computers  11-05-1973      F        8.0  "
      ]
     },
     "execution_count": 7,
     "metadata": {},
     "output_type": "execute_result"
    }
   ],
   "source": [
    "# Объединяем 3 датафрейма в один\n",
    "customer_final = transactions.rename(columns={'cust_id':'customer_Id', 'prod_subcat_code':'prod_sub_cat_code'}) \\\n",
    "                             .merge(prod_cat_info, how='left', on=['prod_sub_cat_code', 'prod_cat_code']) \\\n",
    "                             .merge(customer, how='left', on='customer_Id')\n",
    "\n",
    "customer_final = customer_final.rename(columns=lambda col: col.lower()) # Приводим наименования всех столбцов к единому виду\n",
    "customer_final = customer_final.rename(columns={'qty':'quantity', 'total_amt':'total_amount', 'prod_cat':'product_category', \n",
    "                                                'prod_subcat':'product_subcategory'})\n",
    "\n",
    "customer_final.head(2)"
   ]
  },
  {
   "cell_type": "code",
   "execution_count": 8,
   "id": "0f159b4d-7dee-49a1-8c5b-fb96bf98da39",
   "metadata": {},
   "outputs": [
    {
     "name": "stdout",
     "output_type": "stream",
     "text": [
      "Количество строк: 23053\n",
      "Количество уникальных клиентов: 5506\n"
     ]
    }
   ],
   "source": [
    "# Проверяем итоговую форму по кол-ву строк и клиентов\n",
    "print('Количество строк:', customer_final.shape[0])\n",
    "print('Количество уникальных клиентов:', customer_final.customer_id.nunique())"
   ]
  },
  {
   "cell_type": "markdown",
   "id": "6026f7ca-befa-4956-932b-8cead11b075a",
   "metadata": {},
   "source": [
    "2. Составить сводный отчет для объединенного набора данных:\n",
    "- Получить имена столбцов и соответствующие им типы данных\n",
    "- Посмотреть на основные описательные статистики непрервных переменных\n",
    "- Составить таблицы частот для всех категориальных переменных"
   ]
  },
  {
   "cell_type": "code",
   "execution_count": 9,
   "id": "7e29e5af-028b-4358-ba4a-ceec5b31d548",
   "metadata": {},
   "outputs": [
    {
     "data": {
      "text/plain": [
       "transaction_id           int64\n",
       "customer_id              int64\n",
       "tran_date               object\n",
       "prod_sub_cat_code        int64\n",
       "prod_cat_code            int64\n",
       "quantity                 int64\n",
       "rate                     int64\n",
       "tax                    float64\n",
       "total_amount           float64\n",
       "store_type              object\n",
       "product_category        object\n",
       "product_subcategory     object\n",
       "dob                     object\n",
       "gender                  object\n",
       "city_code              float64\n",
       "dtype: object"
      ]
     },
     "execution_count": 9,
     "metadata": {},
     "output_type": "execute_result"
    }
   ],
   "source": [
    "customer_final.dtypes"
   ]
  },
  {
   "cell_type": "code",
   "execution_count": 11,
   "id": "90b8e3d5-8a1e-4aad-a373-774e84b5f1f8",
   "metadata": {},
   "outputs": [],
   "source": [
    "# Приводим столбцы к соответствующему типу данных\n",
    "customer_final = customer_final.assign(tran_date=pd.to_datetime(customer_final.tran_date),\n",
    "                                        dob=pd.to_datetime(customer_final.dob),\n",
    "                                        store_type=pd.Categorical(customer_final.store_type),\n",
    "                                        product_category=pd.Categorical(customer_final.product_category),\n",
    "                                        product_subcategory=pd.Categorical(customer_final.product_subcategory),\n",
    "                                        gender=pd.Categorical(customer_final.gender),\n",
    "                                        city_code=pd.Categorical(customer_final.city_code));"
   ]
  },
  {
   "cell_type": "code",
   "execution_count": 12,
   "id": "affc1a44-1300-44ae-8e92-e5c754881024",
   "metadata": {},
   "outputs": [
    {
     "data": {
      "text/html": [
       "<div>\n",
       "<style scoped>\n",
       "    .dataframe tbody tr th:only-of-type {\n",
       "        vertical-align: middle;\n",
       "    }\n",
       "\n",
       "    .dataframe tbody tr th {\n",
       "        vertical-align: top;\n",
       "    }\n",
       "\n",
       "    .dataframe thead th {\n",
       "        text-align: right;\n",
       "    }\n",
       "</style>\n",
       "<table border=\"1\" class=\"dataframe\">\n",
       "  <thead>\n",
       "    <tr style=\"text-align: right;\">\n",
       "      <th></th>\n",
       "      <th>quantity</th>\n",
       "      <th>rate</th>\n",
       "      <th>tax</th>\n",
       "      <th>total_amount</th>\n",
       "    </tr>\n",
       "  </thead>\n",
       "  <tbody>\n",
       "    <tr>\n",
       "      <th>count</th>\n",
       "      <td>23053.000000</td>\n",
       "      <td>23053.000000</td>\n",
       "      <td>23053.000000</td>\n",
       "      <td>23053.000000</td>\n",
       "    </tr>\n",
       "    <tr>\n",
       "      <th>mean</th>\n",
       "      <td>2.432395</td>\n",
       "      <td>636.369713</td>\n",
       "      <td>248.667192</td>\n",
       "      <td>2107.308002</td>\n",
       "    </tr>\n",
       "    <tr>\n",
       "      <th>std</th>\n",
       "      <td>2.268406</td>\n",
       "      <td>622.363498</td>\n",
       "      <td>187.177773</td>\n",
       "      <td>2507.561264</td>\n",
       "    </tr>\n",
       "    <tr>\n",
       "      <th>min</th>\n",
       "      <td>-5.000000</td>\n",
       "      <td>-1499.000000</td>\n",
       "      <td>7.350000</td>\n",
       "      <td>-8270.925000</td>\n",
       "    </tr>\n",
       "    <tr>\n",
       "      <th>25%</th>\n",
       "      <td>1.000000</td>\n",
       "      <td>312.000000</td>\n",
       "      <td>98.280000</td>\n",
       "      <td>762.450000</td>\n",
       "    </tr>\n",
       "    <tr>\n",
       "      <th>50%</th>\n",
       "      <td>3.000000</td>\n",
       "      <td>710.000000</td>\n",
       "      <td>199.080000</td>\n",
       "      <td>1754.740000</td>\n",
       "    </tr>\n",
       "    <tr>\n",
       "      <th>75%</th>\n",
       "      <td>4.000000</td>\n",
       "      <td>1109.000000</td>\n",
       "      <td>365.715000</td>\n",
       "      <td>3569.150000</td>\n",
       "    </tr>\n",
       "    <tr>\n",
       "      <th>max</th>\n",
       "      <td>5.000000</td>\n",
       "      <td>1500.000000</td>\n",
       "      <td>787.500000</td>\n",
       "      <td>8287.500000</td>\n",
       "    </tr>\n",
       "  </tbody>\n",
       "</table>\n",
       "</div>"
      ],
      "text/plain": [
       "           quantity          rate           tax  total_amount\n",
       "count  23053.000000  23053.000000  23053.000000  23053.000000\n",
       "mean       2.432395    636.369713    248.667192   2107.308002\n",
       "std        2.268406    622.363498    187.177773   2507.561264\n",
       "min       -5.000000  -1499.000000      7.350000  -8270.925000\n",
       "25%        1.000000    312.000000     98.280000    762.450000\n",
       "50%        3.000000    710.000000    199.080000   1754.740000\n",
       "75%        4.000000   1109.000000    365.715000   3569.150000\n",
       "max        5.000000   1500.000000    787.500000   8287.500000"
      ]
     },
     "execution_count": 12,
     "metadata": {},
     "output_type": "execute_result"
    }
   ],
   "source": [
    "# Посмотрим на распределение количественных переменных\n",
    "customer_final[['quantity', 'rate', 'tax', 'total_amount']].describe()"
   ]
  },
  {
   "cell_type": "code",
   "execution_count": 13,
   "id": "a42ff55e-02f0-457d-86be-a4291e36e878",
   "metadata": {},
   "outputs": [
    {
     "data": {
      "text/html": [
       "<div>\n",
       "<style scoped>\n",
       "    .dataframe tbody tr th:only-of-type {\n",
       "        vertical-align: middle;\n",
       "    }\n",
       "\n",
       "    .dataframe tbody tr th {\n",
       "        vertical-align: top;\n",
       "    }\n",
       "\n",
       "    .dataframe thead th {\n",
       "        text-align: right;\n",
       "    }\n",
       "</style>\n",
       "<table border=\"1\" class=\"dataframe\">\n",
       "  <thead>\n",
       "    <tr style=\"text-align: right;\">\n",
       "      <th></th>\n",
       "      <th>store_type</th>\n",
       "      <th>count</th>\n",
       "    </tr>\n",
       "  </thead>\n",
       "  <tbody>\n",
       "    <tr>\n",
       "      <th>0</th>\n",
       "      <td>e-Shop</td>\n",
       "      <td>9311</td>\n",
       "    </tr>\n",
       "    <tr>\n",
       "      <th>1</th>\n",
       "      <td>MBR</td>\n",
       "      <td>4661</td>\n",
       "    </tr>\n",
       "    <tr>\n",
       "      <th>2</th>\n",
       "      <td>Flagship store</td>\n",
       "      <td>4577</td>\n",
       "    </tr>\n",
       "    <tr>\n",
       "      <th>3</th>\n",
       "      <td>TeleShop</td>\n",
       "      <td>4504</td>\n",
       "    </tr>\n",
       "  </tbody>\n",
       "</table>\n",
       "</div>"
      ],
      "text/plain": [
       "       store_type  count\n",
       "0          e-Shop   9311\n",
       "1             MBR   4661\n",
       "2  Flagship store   4577\n",
       "3        TeleShop   4504"
      ]
     },
     "execution_count": 13,
     "metadata": {},
     "output_type": "execute_result"
    }
   ],
   "source": [
    "# Далее посмотрим на содержимое категориальных переменных\n",
    "customer_final.groupby('store_type').agg(count=('customer_id', 'count')).sort_values(by='count', ascending=False).reset_index()"
   ]
  },
  {
   "cell_type": "code",
   "execution_count": 14,
   "id": "a55ce5fc-8532-4620-bda9-e38ff40ba436",
   "metadata": {},
   "outputs": [
    {
     "data": {
      "text/html": [
       "<div>\n",
       "<style scoped>\n",
       "    .dataframe tbody tr th:only-of-type {\n",
       "        vertical-align: middle;\n",
       "    }\n",
       "\n",
       "    .dataframe tbody tr th {\n",
       "        vertical-align: top;\n",
       "    }\n",
       "\n",
       "    .dataframe thead th {\n",
       "        text-align: right;\n",
       "    }\n",
       "</style>\n",
       "<table border=\"1\" class=\"dataframe\">\n",
       "  <thead>\n",
       "    <tr style=\"text-align: right;\">\n",
       "      <th></th>\n",
       "      <th>product_category</th>\n",
       "      <th>count</th>\n",
       "    </tr>\n",
       "  </thead>\n",
       "  <tbody>\n",
       "    <tr>\n",
       "      <th>0</th>\n",
       "      <td>Books</td>\n",
       "      <td>6069</td>\n",
       "    </tr>\n",
       "    <tr>\n",
       "      <th>1</th>\n",
       "      <td>Electronics</td>\n",
       "      <td>4898</td>\n",
       "    </tr>\n",
       "    <tr>\n",
       "      <th>2</th>\n",
       "      <td>Home and kitchen</td>\n",
       "      <td>4129</td>\n",
       "    </tr>\n",
       "    <tr>\n",
       "      <th>3</th>\n",
       "      <td>Footwear</td>\n",
       "      <td>2999</td>\n",
       "    </tr>\n",
       "    <tr>\n",
       "      <th>4</th>\n",
       "      <td>Clothing</td>\n",
       "      <td>2960</td>\n",
       "    </tr>\n",
       "    <tr>\n",
       "      <th>5</th>\n",
       "      <td>Bags</td>\n",
       "      <td>1998</td>\n",
       "    </tr>\n",
       "  </tbody>\n",
       "</table>\n",
       "</div>"
      ],
      "text/plain": [
       "   product_category  count\n",
       "0             Books   6069\n",
       "1       Electronics   4898\n",
       "2  Home and kitchen   4129\n",
       "3          Footwear   2999\n",
       "4          Clothing   2960\n",
       "5              Bags   1998"
      ]
     },
     "execution_count": 14,
     "metadata": {},
     "output_type": "execute_result"
    }
   ],
   "source": [
    "customer_final.groupby('product_category').agg(count=('customer_id', 'count')).sort_values(by='count', ascending=False).reset_index()"
   ]
  },
  {
   "cell_type": "code",
   "execution_count": 15,
   "id": "965e8d3b-5866-4abd-b4c7-ac39c9bfbcb4",
   "metadata": {},
   "outputs": [
    {
     "data": {
      "text/html": [
       "<div>\n",
       "<style scoped>\n",
       "    .dataframe tbody tr th:only-of-type {\n",
       "        vertical-align: middle;\n",
       "    }\n",
       "\n",
       "    .dataframe tbody tr th {\n",
       "        vertical-align: top;\n",
       "    }\n",
       "\n",
       "    .dataframe thead th {\n",
       "        text-align: right;\n",
       "    }\n",
       "</style>\n",
       "<table border=\"1\" class=\"dataframe\">\n",
       "  <thead>\n",
       "    <tr style=\"text-align: right;\">\n",
       "      <th></th>\n",
       "      <th>product_subcategory</th>\n",
       "      <th>count</th>\n",
       "    </tr>\n",
       "  </thead>\n",
       "  <tbody>\n",
       "    <tr>\n",
       "      <th>0</th>\n",
       "      <td>Women</td>\n",
       "      <td>3048</td>\n",
       "    </tr>\n",
       "    <tr>\n",
       "      <th>1</th>\n",
       "      <td>Mens</td>\n",
       "      <td>2912</td>\n",
       "    </tr>\n",
       "    <tr>\n",
       "      <th>2</th>\n",
       "      <td>Kids</td>\n",
       "      <td>1997</td>\n",
       "    </tr>\n",
       "    <tr>\n",
       "      <th>3</th>\n",
       "      <td>Tools</td>\n",
       "      <td>1062</td>\n",
       "    </tr>\n",
       "    <tr>\n",
       "      <th>4</th>\n",
       "      <td>Fiction</td>\n",
       "      <td>1043</td>\n",
       "    </tr>\n",
       "    <tr>\n",
       "      <th>5</th>\n",
       "      <td>Kitchen</td>\n",
       "      <td>1037</td>\n",
       "    </tr>\n",
       "    <tr>\n",
       "      <th>6</th>\n",
       "      <td>Children</td>\n",
       "      <td>1035</td>\n",
       "    </tr>\n",
       "    <tr>\n",
       "      <th>7</th>\n",
       "      <td>Comics</td>\n",
       "      <td>1031</td>\n",
       "    </tr>\n",
       "    <tr>\n",
       "      <th>8</th>\n",
       "      <td>Mobiles</td>\n",
       "      <td>1031</td>\n",
       "    </tr>\n",
       "    <tr>\n",
       "      <th>9</th>\n",
       "      <td>Bath</td>\n",
       "      <td>1023</td>\n",
       "    </tr>\n",
       "    <tr>\n",
       "      <th>10</th>\n",
       "      <td>Furnishing</td>\n",
       "      <td>1007</td>\n",
       "    </tr>\n",
       "    <tr>\n",
       "      <th>11</th>\n",
       "      <td>Non-Fiction</td>\n",
       "      <td>1004</td>\n",
       "    </tr>\n",
       "    <tr>\n",
       "      <th>12</th>\n",
       "      <td>DIY</td>\n",
       "      <td>989</td>\n",
       "    </tr>\n",
       "    <tr>\n",
       "      <th>13</th>\n",
       "      <td>Cameras</td>\n",
       "      <td>985</td>\n",
       "    </tr>\n",
       "    <tr>\n",
       "      <th>14</th>\n",
       "      <td>Personal Appliances</td>\n",
       "      <td>972</td>\n",
       "    </tr>\n",
       "    <tr>\n",
       "      <th>15</th>\n",
       "      <td>Academic</td>\n",
       "      <td>967</td>\n",
       "    </tr>\n",
       "    <tr>\n",
       "      <th>16</th>\n",
       "      <td>Computers</td>\n",
       "      <td>958</td>\n",
       "    </tr>\n",
       "    <tr>\n",
       "      <th>17</th>\n",
       "      <td>Audio and video</td>\n",
       "      <td>952</td>\n",
       "    </tr>\n",
       "  </tbody>\n",
       "</table>\n",
       "</div>"
      ],
      "text/plain": [
       "    product_subcategory  count\n",
       "0                 Women   3048\n",
       "1                  Mens   2912\n",
       "2                  Kids   1997\n",
       "3                 Tools   1062\n",
       "4               Fiction   1043\n",
       "5               Kitchen   1037\n",
       "6              Children   1035\n",
       "7                Comics   1031\n",
       "8               Mobiles   1031\n",
       "9                  Bath   1023\n",
       "10           Furnishing   1007\n",
       "11          Non-Fiction   1004\n",
       "12                  DIY    989\n",
       "13              Cameras    985\n",
       "14  Personal Appliances    972\n",
       "15             Academic    967\n",
       "16            Computers    958\n",
       "17      Audio and video    952"
      ]
     },
     "execution_count": 15,
     "metadata": {},
     "output_type": "execute_result"
    }
   ],
   "source": [
    "customer_final.groupby('product_subcategory').agg(count=('customer_id', 'count')).sort_values(by='count', ascending=False).reset_index()"
   ]
  },
  {
   "cell_type": "code",
   "execution_count": 16,
   "id": "430a4c2e-5f7f-4477-8dfe-2ccd35873802",
   "metadata": {},
   "outputs": [
    {
     "data": {
      "text/html": [
       "<div>\n",
       "<style scoped>\n",
       "    .dataframe tbody tr th:only-of-type {\n",
       "        vertical-align: middle;\n",
       "    }\n",
       "\n",
       "    .dataframe tbody tr th {\n",
       "        vertical-align: top;\n",
       "    }\n",
       "\n",
       "    .dataframe thead th {\n",
       "        text-align: right;\n",
       "    }\n",
       "</style>\n",
       "<table border=\"1\" class=\"dataframe\">\n",
       "  <thead>\n",
       "    <tr style=\"text-align: right;\">\n",
       "      <th></th>\n",
       "      <th>gender</th>\n",
       "      <th>count</th>\n",
       "    </tr>\n",
       "  </thead>\n",
       "  <tbody>\n",
       "    <tr>\n",
       "      <th>0</th>\n",
       "      <td>M</td>\n",
       "      <td>11811</td>\n",
       "    </tr>\n",
       "    <tr>\n",
       "      <th>1</th>\n",
       "      <td>F</td>\n",
       "      <td>11233</td>\n",
       "    </tr>\n",
       "  </tbody>\n",
       "</table>\n",
       "</div>"
      ],
      "text/plain": [
       "  gender  count\n",
       "0      M  11811\n",
       "1      F  11233"
      ]
     },
     "execution_count": 16,
     "metadata": {},
     "output_type": "execute_result"
    }
   ],
   "source": [
    "customer_final.groupby('gender').agg(count=('customer_id', 'count')).sort_values(by='count', ascending=False).reset_index()"
   ]
  },
  {
   "cell_type": "code",
   "execution_count": 17,
   "id": "7d54901a-f2cc-4eda-96a0-716e8771ab43",
   "metadata": {},
   "outputs": [
    {
     "data": {
      "text/html": [
       "<div>\n",
       "<style scoped>\n",
       "    .dataframe tbody tr th:only-of-type {\n",
       "        vertical-align: middle;\n",
       "    }\n",
       "\n",
       "    .dataframe tbody tr th {\n",
       "        vertical-align: top;\n",
       "    }\n",
       "\n",
       "    .dataframe thead th {\n",
       "        text-align: right;\n",
       "    }\n",
       "</style>\n",
       "<table border=\"1\" class=\"dataframe\">\n",
       "  <thead>\n",
       "    <tr style=\"text-align: right;\">\n",
       "      <th></th>\n",
       "      <th>city_code</th>\n",
       "      <th>count</th>\n",
       "    </tr>\n",
       "  </thead>\n",
       "  <tbody>\n",
       "    <tr>\n",
       "      <th>0</th>\n",
       "      <td>4.0</td>\n",
       "      <td>2422</td>\n",
       "    </tr>\n",
       "    <tr>\n",
       "      <th>1</th>\n",
       "      <td>3.0</td>\n",
       "      <td>2411</td>\n",
       "    </tr>\n",
       "    <tr>\n",
       "      <th>2</th>\n",
       "      <td>5.0</td>\n",
       "      <td>2360</td>\n",
       "    </tr>\n",
       "    <tr>\n",
       "      <th>3</th>\n",
       "      <td>7.0</td>\n",
       "      <td>2356</td>\n",
       "    </tr>\n",
       "    <tr>\n",
       "      <th>4</th>\n",
       "      <td>10.0</td>\n",
       "      <td>2333</td>\n",
       "    </tr>\n",
       "    <tr>\n",
       "      <th>5</th>\n",
       "      <td>8.0</td>\n",
       "      <td>2330</td>\n",
       "    </tr>\n",
       "    <tr>\n",
       "      <th>6</th>\n",
       "      <td>2.0</td>\n",
       "      <td>2270</td>\n",
       "    </tr>\n",
       "    <tr>\n",
       "      <th>7</th>\n",
       "      <td>1.0</td>\n",
       "      <td>2258</td>\n",
       "    </tr>\n",
       "    <tr>\n",
       "      <th>8</th>\n",
       "      <td>9.0</td>\n",
       "      <td>2178</td>\n",
       "    </tr>\n",
       "    <tr>\n",
       "      <th>9</th>\n",
       "      <td>6.0</td>\n",
       "      <td>2127</td>\n",
       "    </tr>\n",
       "  </tbody>\n",
       "</table>\n",
       "</div>"
      ],
      "text/plain": [
       "  city_code  count\n",
       "0       4.0   2422\n",
       "1       3.0   2411\n",
       "2       5.0   2360\n",
       "3       7.0   2356\n",
       "4      10.0   2333\n",
       "5       8.0   2330\n",
       "6       2.0   2270\n",
       "7       1.0   2258\n",
       "8       9.0   2178\n",
       "9       6.0   2127"
      ]
     },
     "execution_count": 17,
     "metadata": {},
     "output_type": "execute_result"
    }
   ],
   "source": [
    "customer_final.groupby('city_code').agg(count=('customer_id', 'count')).sort_values(by='count', ascending=False).reset_index()"
   ]
  },
  {
   "cell_type": "markdown",
   "id": "e11d18a9-739f-4fd1-aee9-586149cb9110",
   "metadata": {},
   "source": [
    "На основе полученных данных можем заключить следующее. \n",
    "\n",
    "В данном розничном магазине в среднем клиенты покупает по 3 шт. товаров, но не более 5 штук за раз. Минимальное кол-во проданных штук имеет отрицательное значение - можем предположить, что таким образом отражены возвраты товаров. Средний чек составляет 2107 руб. Больше половины клиентов в основном совершают покупки на сумму не превышающую 3570 руб. При этом видим, что максимальная сумма дохода за 1 заказ составляла более 8000 руб. Данная сумма значительно отличается от нашей средней, из чего можем сделать вывод, чек в 8000 руб будем считать выбросом, также как и минимальный чек с суммой - 8270 руб.\n",
    "\n",
    "Соотношение покупок сделанных мужчинами и женщинами различается незначительно (11811 против 11233, соответственно).  \n",
    "\n",
    "Наибольшее количество товаров приобретается через Интернет-магазины (e-Shop). Наиболее популярные категории - Книги, Электроника и Товары для дома и кухни, а подкатегории - Товары для женщин, для мужчин и для детей. Остальные подкатегории различаются между собой незначительно.\n",
    "\n",
    "Распределение по городам также похоже на равномерное и различается незначительно."
   ]
  },
  {
   "cell_type": "markdown",
   "id": "255ec53e-65d2-4c3f-a39f-fb91a2762b66",
   "metadata": {},
   "source": [
    "3. Сгенерировать гистограммы для основных числовых данных и барплоты для категориальных переменных."
   ]
  },
  {
   "cell_type": "code",
   "execution_count": 18,
   "id": "cbc8f1bb-f653-42bb-a4de-2eff07d0ef17",
   "metadata": {},
   "outputs": [
    {
     "data": {
      "image/png": "[encoded data removed]",
      "text/plain": [
       "<Figure size 640x480 with 1 Axes>"
      ]
     },
     "metadata": {},
     "output_type": "display_data"
    },
    {
     "data": {
      "image/png": "[encoded data removed]",
      "text/plain": [
       "<Figure size 640x480 with 1 Axes>"
      ]
     },
     "metadata": {},
     "output_type": "display_data"
    },
    {
     "data": {
      "image/png": "[encoded data removed]",
      "text/plain": [
       "<Figure size 640x480 with 1 Axes>"
      ]
     },
     "metadata": {},
     "output_type": "display_data"
    },
    {
     "data": {
      "image/png": "[encoded data removed]",
      "text/plain": [
       "<Figure size 640x480 with 1 Axes>"
      ]
     },
     "metadata": {},
     "output_type": "display_data"
    }
   ],
   "source": [
    "values = ['quantity', 'tax', 'rate', 'total_amount']\n",
    "\n",
    "sns.set_style(\"whitegrid\")\n",
    "\n",
    "for value in values:\n",
    "    sns.histplot(data=customer_final, x=value, bins=20)\n",
    "    plt.xlabel(value)\n",
    "    plt.ylabel('Frequency')\n",
    "    plt.title(f'Histogram of {value}')\n",
    "    plt.grid(True)\n",
    "    plt.show()"
   ]
  },
  {
   "cell_type": "code",
   "execution_count": 19,
   "id": "bacf3365-c263-4c50-9b4d-11f8eb291359",
   "metadata": {},
   "outputs": [
    {
     "data": {
      "image/png": "[encoded data removed]",
      "text/plain": [
       "<Figure size 800x600 with 1 Axes>"
      ]
     },
     "metadata": {},
     "output_type": "display_data"
    },
    {
     "data": {
      "image/png": "[encoded data removed]",
      "text/plain": [
       "<Figure size 800x600 with 1 Axes>"
      ]
     },
     "metadata": {},
     "output_type": "display_data"
    },
    {
     "data": {
      "image/png": "[encoded data removed]",
      "text/plain": [
       "<Figure size 800x600 with 1 Axes>"
      ]
     },
     "metadata": {},
     "output_type": "display_data"
    },
    {
     "data": {
      "image/png": "[encoded data removed]",
      "text/plain": [
       "<Figure size 800x600 with 1 Axes>"
      ]
     },
     "metadata": {},
     "output_type": "display_data"
    },
    {
     "data": {
      "image/png": "[encoded data removed]",
      "text/plain": [
       "<Figure size 800x600 with 1 Axes>"
      ]
     },
     "metadata": {},
     "output_type": "display_data"
    }
   ],
   "source": [
    "lists = ['store_type', 'product_category', 'product_subcategory', 'gender', 'city_code']\n",
    "\n",
    "sns.set_style(\"whitegrid\")\n",
    "\n",
    "for value in lists:\n",
    "    plt.figure(figsize=(8, 6))\n",
    "    ax = sns.barplot(data=customer_final[value].value_counts().reset_index(), y='index', x=value, palette='viridis')\n",
    "    ax.set(ylabel=value, xlabel='Count')\n",
    "    plt.title(f'Barplot of {value}')\n",
    "    \n",
    "    for p in ax.patches:\n",
    "        ax.annotate(f'{p.get_width():.0f}', (p.get_width() + 0.5, p.get_y() + p.get_height() / 2), ha='center', va='center', fontsize=10)  # Добавляем аннотации с числом наблюдений\n",
    "    \n",
    "    sns.despine()\n",
    "    plt.show()"
   ]
  },
  {
   "cell_type": "markdown",
   "id": "7da00ccf-dca5-4e04-a2d2-189828762963",
   "metadata": {},
   "source": [
    "Опеределить:\n",
    "\n",
    "4.1. Доступный временной период в данных о транзакциях\n",
    "\n",
    "4.2. Количество транзакций, в которых общая сумма транзакции была отрицательной"
   ]
  },
  {
   "cell_type": "code",
   "execution_count": 20,
   "id": "de5af404-861d-4576-894a-5c7f715205cb",
   "metadata": {},
   "outputs": [
    {
     "data": {
      "text/plain": [
       "count                            23053\n",
       "mean     2012-08-11 00:01:07.461935616\n",
       "min                2011-01-02 00:00:00\n",
       "25%                2011-10-31 00:00:00\n",
       "50%                2012-08-12 00:00:00\n",
       "75%                2013-05-18 00:00:00\n",
       "max                2014-12-02 00:00:00\n",
       "Name: tran_date, dtype: object"
      ]
     },
     "execution_count": 20,
     "metadata": {},
     "output_type": "execute_result"
    }
   ],
   "source": [
    "customer_final.tran_date.describe(datetime_is_numeric=True)"
   ]
  },
  {
   "cell_type": "code",
   "execution_count": 21,
   "id": "6dd06b3e-9088-457a-b48a-6bbf2951d81b",
   "metadata": {},
   "outputs": [
    {
     "name": "stdout",
     "output_type": "stream",
     "text": [
      "Данные отражены за период с 2011-01-02 по 2014-12-02\n",
      "Количество транзакций с отрицательной суммой - 2177\n"
     ]
    }
   ],
   "source": [
    "print(f'Данные отражены за период с {customer_final.tran_date.dt.date.min()} по {customer_final.tran_date.dt.date.max()}')\n",
    "print(f'Количество транзакций с отрицательной суммой - {customer_final[customer_final[\"total_amount\"] < 0].transaction_id.count()}')"
   ]
  },
  {
   "cell_type": "markdown",
   "id": "76f59a13-45fa-4b0c-bae2-894f67f29812",
   "metadata": {},
   "source": [
    "5. Проанализировать какие категории товаров более популярны среди женщин и мужчин"
   ]
  },
  {
   "cell_type": "code",
   "execution_count": 22,
   "id": "28e27440-d846-4c99-82c6-fa63a7e5f000",
   "metadata": {},
   "outputs": [
    {
     "data": {
      "text/html": [
       "<div>\n",
       "<style scoped>\n",
       "    .dataframe tbody tr th:only-of-type {\n",
       "        vertical-align: middle;\n",
       "    }\n",
       "\n",
       "    .dataframe tbody tr th {\n",
       "        vertical-align: top;\n",
       "    }\n",
       "\n",
       "    .dataframe thead th {\n",
       "        text-align: right;\n",
       "    }\n",
       "</style>\n",
       "<table border=\"1\" class=\"dataframe\">\n",
       "  <thead>\n",
       "    <tr style=\"text-align: right;\">\n",
       "      <th>gender</th>\n",
       "      <th>F</th>\n",
       "      <th>M</th>\n",
       "    </tr>\n",
       "    <tr>\n",
       "      <th>product_category</th>\n",
       "      <th></th>\n",
       "      <th></th>\n",
       "    </tr>\n",
       "  </thead>\n",
       "  <tbody>\n",
       "    <tr>\n",
       "      <th>Books</th>\n",
       "      <td>2949</td>\n",
       "      <td>3116</td>\n",
       "    </tr>\n",
       "    <tr>\n",
       "      <th>Electronics</th>\n",
       "      <td>2328</td>\n",
       "      <td>2570</td>\n",
       "    </tr>\n",
       "    <tr>\n",
       "      <th>Home and kitchen</th>\n",
       "      <td>1994</td>\n",
       "      <td>2134</td>\n",
       "    </tr>\n",
       "    <tr>\n",
       "      <th>Footwear</th>\n",
       "      <td>1529</td>\n",
       "      <td>1469</td>\n",
       "    </tr>\n",
       "    <tr>\n",
       "      <th>Clothing</th>\n",
       "      <td>1439</td>\n",
       "      <td>1518</td>\n",
       "    </tr>\n",
       "    <tr>\n",
       "      <th>Bags</th>\n",
       "      <td>994</td>\n",
       "      <td>1004</td>\n",
       "    </tr>\n",
       "  </tbody>\n",
       "</table>\n",
       "</div>"
      ],
      "text/plain": [
       "gender               F     M\n",
       "product_category            \n",
       "Books             2949  3116\n",
       "Electronics       2328  2570\n",
       "Home and kitchen  1994  2134\n",
       "Footwear          1529  1469\n",
       "Clothing          1439  1518\n",
       "Bags               994  1004"
      ]
     },
     "execution_count": 22,
     "metadata": {},
     "output_type": "execute_result"
    }
   ],
   "source": [
    "category = customer_final.groupby(['product_category', 'gender'])['customer_id'] \\\n",
    "                         .count().unstack() \\\n",
    "                         .sort_values(by=['F', 'M'], ascending=[False, False])\n",
    "category"
   ]
  },
  {
   "cell_type": "code",
   "execution_count": 23,
   "id": "d5b78cd2-2917-4230-90b9-02ee2c40372c",
   "metadata": {},
   "outputs": [
    {
     "data": {
      "image/png": "[encoded data removed]",
      "text/plain": [
       "<Figure size 640x480 with 1 Axes>"
      ]
     },
     "metadata": {},
     "output_type": "display_data"
    }
   ],
   "source": [
    "# Строим график покупок мужчин и женщин по различным категориям\n",
    "fig, ax = plt.subplots()\n",
    "bar_width = 0.35\n",
    "bar_positions = range(len(category.index))\n",
    "bar1 = ax.bar(bar_positions, category['M'], bar_width, label='Male')\n",
    "bar2 = ax.bar([pos + bar_width for pos in bar_positions], category['F'], bar_width, label='Female')\n",
    "\n",
    "ax.set_xlabel('Category')\n",
    "ax.set_ylabel('Count')\n",
    "ax.set_title('Distribution of categories by gender')\n",
    "ax.set_xticks([pos + bar_width/2 for pos in bar_positions])\n",
    "plt.xticks(rotation=30)\n",
    "ax.set_xticklabels(category.index)\n",
    "ax.legend()\n",
    "\n",
    "plt.show()"
   ]
  },
  {
   "cell_type": "markdown",
   "id": "3349598e-86c6-4523-afbf-6cfbb60ef255",
   "metadata": {},
   "source": [
    "По графику мы видим, что колебания между двумя полами внутри разных категорий различаются достаточно слабо. С помощью критерия хи-квадрат проверим гипотезу о том, что между предпочтениями мужчин и женщин нет различий, т.е. вне зависимости от категории соотношение мужской категории к женской будет 50 на 50.\n",
    "\n",
    "Итак, H0: M 50% = F 50%"
   ]
  },
  {
   "cell_type": "code",
   "execution_count": 24,
   "id": "d9daaea8-8a94-469f-88a9-04cb49cf8caf",
   "metadata": {},
   "outputs": [
    {
     "data": {
      "text/html": [
       "<div>\n",
       "<style scoped>\n",
       "    .dataframe tbody tr th:only-of-type {\n",
       "        vertical-align: middle;\n",
       "    }\n",
       "\n",
       "    .dataframe tbody tr th {\n",
       "        vertical-align: top;\n",
       "    }\n",
       "\n",
       "    .dataframe thead th {\n",
       "        text-align: right;\n",
       "    }\n",
       "</style>\n",
       "<table border=\"1\" class=\"dataframe\">\n",
       "  <thead>\n",
       "    <tr style=\"text-align: right;\">\n",
       "      <th></th>\n",
       "      <th>Bags</th>\n",
       "      <th>Books</th>\n",
       "      <th>Clothing</th>\n",
       "      <th>Electronics</th>\n",
       "      <th>Footwear</th>\n",
       "      <th>Home and kitchen</th>\n",
       "    </tr>\n",
       "    <tr>\n",
       "      <th>gender</th>\n",
       "      <th></th>\n",
       "      <th></th>\n",
       "      <th></th>\n",
       "      <th></th>\n",
       "      <th></th>\n",
       "      <th></th>\n",
       "    </tr>\n",
       "  </thead>\n",
       "  <tbody>\n",
       "    <tr>\n",
       "      <th>F</th>\n",
       "      <td>994</td>\n",
       "      <td>2949</td>\n",
       "      <td>1439</td>\n",
       "      <td>2328</td>\n",
       "      <td>1529</td>\n",
       "      <td>1994</td>\n",
       "    </tr>\n",
       "    <tr>\n",
       "      <th>M</th>\n",
       "      <td>1004</td>\n",
       "      <td>3116</td>\n",
       "      <td>1518</td>\n",
       "      <td>2570</td>\n",
       "      <td>1469</td>\n",
       "      <td>2134</td>\n",
       "    </tr>\n",
       "  </tbody>\n",
       "</table>\n",
       "</div>"
      ],
      "text/plain": [
       "        Bags  Books  Clothing  Electronics  Footwear  Home and kitchen\n",
       "gender                                                                \n",
       "F        994   2949      1439         2328      1529              1994\n",
       "M       1004   3116      1518         2570      1469              2134"
      ]
     },
     "execution_count": 24,
     "metadata": {},
     "output_type": "execute_result"
    }
   ],
   "source": [
    "# Построим таблицу сопряженности данных\n",
    "ct_o = customer_final.groupby('gender')['product_category'].value_counts().unstack()\n",
    "ct_o"
   ]
  },
  {
   "cell_type": "code",
   "execution_count": 25,
   "id": "bbb80e1d-6a29-4d1c-864a-d5fce90d73c7",
   "metadata": {},
   "outputs": [
    {
     "data": {
      "text/plain": [
       "5"
      ]
     },
     "execution_count": 25,
     "metadata": {},
     "output_type": "execute_result"
    }
   ],
   "source": [
    "# Установим уровень значимости и определим степени свободы и критическое значение\n",
    "alpha = 0.05\n",
    "critical_value = 11.07\n",
    "dof = (ct_o.shape[0] - 1) * (ct_o.shape[1] - 1)\n",
    "dof"
   ]
  },
  {
   "cell_type": "code",
   "execution_count": 26,
   "id": "3c47a846-4eb3-4205-bee0-93c3b3a619b7",
   "metadata": {},
   "outputs": [
    {
     "data": {
      "text/plain": [
       "(10.173309545156245,\n",
       " 0.07047091620345859,\n",
       " 5,\n",
       " array([[ 973.94263149, 2956.43746745, 1441.41559625, 2387.57307759,\n",
       "         1461.40140601, 2012.22982121],\n",
       "        [1024.05736851, 3108.56253255, 1515.58440375, 2510.42692241,\n",
       "         1536.59859399, 2115.77017879]]))"
      ]
     },
     "execution_count": 26,
     "metadata": {},
     "output_type": "execute_result"
    }
   ],
   "source": [
    "# Рассчитаем значение статистики хи-квадрат\n",
    "chi_square = scipy.stats.chi2_contingency(ct_o, correction=True)\n",
    "chi_square"
   ]
  },
  {
   "cell_type": "code",
   "execution_count": 27,
   "id": "5c0f740e-391c-47d8-ae35-e214e6176ff8",
   "metadata": {},
   "outputs": [
    {
     "data": {
      "text/plain": [
       "False"
      ]
     },
     "execution_count": 27,
     "metadata": {},
     "output_type": "execute_result"
    }
   ],
   "source": [
    "chi_square[0] > critical_value"
   ]
  },
  {
   "cell_type": "markdown",
   "id": "5bdff40c-3288-47e7-989e-d751164e32e3",
   "metadata": {},
   "source": [
    "Расчетное значение хи-квадрат меньше критического, и значение p-value > 0.05, соответственно, у нас недостаточно оснований отклонить нулевую гипотезу о том, что соотношение полов составляет 50 на 50.\n",
    "\n",
    "Таким образом, мы можем сказать, что наиболее популярные категории для обоих полов это: Книги, Электроника, Товары для дома и кухни. Однако также отметим, что численность мужчин в каждой категории немного больше, чем женщин."
   ]
  },
  {
   "cell_type": "code",
   "execution_count": 28,
   "id": "91e772df-6a7c-43ec-98ee-b7b718084f41",
   "metadata": {},
   "outputs": [
    {
     "data": {
      "text/html": [
       "<div>\n",
       "<style scoped>\n",
       "    .dataframe tbody tr th:only-of-type {\n",
       "        vertical-align: middle;\n",
       "    }\n",
       "\n",
       "    .dataframe tbody tr th {\n",
       "        vertical-align: top;\n",
       "    }\n",
       "\n",
       "    .dataframe thead th {\n",
       "        text-align: right;\n",
       "    }\n",
       "</style>\n",
       "<table border=\"1\" class=\"dataframe\">\n",
       "  <thead>\n",
       "    <tr style=\"text-align: right;\">\n",
       "      <th>gender</th>\n",
       "      <th>F</th>\n",
       "      <th>M</th>\n",
       "    </tr>\n",
       "    <tr>\n",
       "      <th>product_subcategory</th>\n",
       "      <th></th>\n",
       "      <th></th>\n",
       "    </tr>\n",
       "  </thead>\n",
       "  <tbody>\n",
       "    <tr>\n",
       "      <th>Women</th>\n",
       "      <td>1517</td>\n",
       "      <td>1529</td>\n",
       "    </tr>\n",
       "    <tr>\n",
       "      <th>Mens</th>\n",
       "      <td>1410</td>\n",
       "      <td>1502</td>\n",
       "    </tr>\n",
       "    <tr>\n",
       "      <th>Kids</th>\n",
       "      <td>1035</td>\n",
       "      <td>960</td>\n",
       "    </tr>\n",
       "    <tr>\n",
       "      <th>Academic</th>\n",
       "      <td>518</td>\n",
       "      <td>449</td>\n",
       "    </tr>\n",
       "    <tr>\n",
       "      <th>Tools</th>\n",
       "      <td>510</td>\n",
       "      <td>552</td>\n",
       "    </tr>\n",
       "    <tr>\n",
       "      <th>Bath</th>\n",
       "      <td>506</td>\n",
       "      <td>516</td>\n",
       "    </tr>\n",
       "    <tr>\n",
       "      <th>Kitchen</th>\n",
       "      <td>501</td>\n",
       "      <td>536</td>\n",
       "    </tr>\n",
       "    <tr>\n",
       "      <th>Non-Fiction</th>\n",
       "      <td>496</td>\n",
       "      <td>507</td>\n",
       "    </tr>\n",
       "    <tr>\n",
       "      <th>Fiction</th>\n",
       "      <td>485</td>\n",
       "      <td>557</td>\n",
       "    </tr>\n",
       "    <tr>\n",
       "      <th>Comics</th>\n",
       "      <td>485</td>\n",
       "      <td>546</td>\n",
       "    </tr>\n",
       "    <tr>\n",
       "      <th>DIY</th>\n",
       "      <td>484</td>\n",
       "      <td>504</td>\n",
       "    </tr>\n",
       "    <tr>\n",
       "      <th>Children</th>\n",
       "      <td>481</td>\n",
       "      <td>553</td>\n",
       "    </tr>\n",
       "    <tr>\n",
       "      <th>Furnishing</th>\n",
       "      <td>477</td>\n",
       "      <td>530</td>\n",
       "    </tr>\n",
       "    <tr>\n",
       "      <th>Personal Appliances</th>\n",
       "      <td>474</td>\n",
       "      <td>498</td>\n",
       "    </tr>\n",
       "    <tr>\n",
       "      <th>Audio and video</th>\n",
       "      <td>470</td>\n",
       "      <td>482</td>\n",
       "    </tr>\n",
       "    <tr>\n",
       "      <th>Mobiles</th>\n",
       "      <td>469</td>\n",
       "      <td>562</td>\n",
       "    </tr>\n",
       "    <tr>\n",
       "      <th>Computers</th>\n",
       "      <td>468</td>\n",
       "      <td>490</td>\n",
       "    </tr>\n",
       "    <tr>\n",
       "      <th>Cameras</th>\n",
       "      <td>447</td>\n",
       "      <td>538</td>\n",
       "    </tr>\n",
       "  </tbody>\n",
       "</table>\n",
       "</div>"
      ],
      "text/plain": [
       "gender                  F     M\n",
       "product_subcategory            \n",
       "Women                1517  1529\n",
       "Mens                 1410  1502\n",
       "Kids                 1035   960\n",
       "Academic              518   449\n",
       "Tools                 510   552\n",
       "Bath                  506   516\n",
       "Kitchen               501   536\n",
       "Non-Fiction           496   507\n",
       "Fiction               485   557\n",
       "Comics                485   546\n",
       "DIY                   484   504\n",
       "Children              481   553\n",
       "Furnishing            477   530\n",
       "Personal Appliances   474   498\n",
       "Audio and video       470   482\n",
       "Mobiles               469   562\n",
       "Computers             468   490\n",
       "Cameras               447   538"
      ]
     },
     "execution_count": 28,
     "metadata": {},
     "output_type": "execute_result"
    }
   ],
   "source": [
    "# Проведем аналогичную проверку распределения полов для подкатегорий\n",
    "subcategory = customer_final.groupby(['product_subcategory', 'gender'])['customer_id'] \\\n",
    "                            .count().unstack() \\\n",
    "                            .sort_values(by=['F', 'M'], ascending=[False, False])\n",
    "subcategory"
   ]
  },
  {
   "cell_type": "code",
   "execution_count": 29,
   "id": "1294152c-e46e-4150-a70e-344bec9c16ea",
   "metadata": {},
   "outputs": [
    {
     "data": {
      "image/png": "[encoded data removed]",
      "text/plain": [
       "<Figure size 640x480 with 1 Axes>"
      ]
     },
     "metadata": {},
     "output_type": "display_data"
    }
   ],
   "source": [
    "fig, ax = plt.subplots()\n",
    "bar_width = 0.35\n",
    "bar_positions = range(len(subcategory.index)) #  Создаем последовательность позиций для столбцов на графике\n",
    "bar1 = ax.bar(bar_positions, subcategory['M'], bar_width, label='Male') # Строим первый набор столбцов для мужчин ('M') \n",
    "bar2 = ax.bar([pos + bar_width for pos in bar_positions], subcategory['F'], bar_width, label='Female') # Строим такой же набор данных для женщин ('F')\n",
    "\n",
    "ax.set_xlabel('Subcategories')\n",
    "ax.set_ylabel('Count')\n",
    "ax.set_title('Distribution of subcategories by gender')\n",
    "ax.set_xticks([pos + bar_width/2 for pos in bar_positions]) # Устанавливаем метки на оси x в середине каждого столбца\n",
    "plt.xticks(rotation=90)\n",
    "ax.set_xticklabels(subcategory.index) # Устанавливаем наименования категорий на оси x\n",
    "ax.legend()\n",
    "\n",
    "plt.show()"
   ]
  },
  {
   "cell_type": "code",
   "execution_count": 30,
   "id": "b07a1478-3157-4838-82a0-d612c997cf63",
   "metadata": {},
   "outputs": [
    {
     "data": {
      "text/html": [
       "<div>\n",
       "<style scoped>\n",
       "    .dataframe tbody tr th:only-of-type {\n",
       "        vertical-align: middle;\n",
       "    }\n",
       "\n",
       "    .dataframe tbody tr th {\n",
       "        vertical-align: top;\n",
       "    }\n",
       "\n",
       "    .dataframe thead th {\n",
       "        text-align: right;\n",
       "    }\n",
       "</style>\n",
       "<table border=\"1\" class=\"dataframe\">\n",
       "  <thead>\n",
       "    <tr style=\"text-align: right;\">\n",
       "      <th></th>\n",
       "      <th>Academic</th>\n",
       "      <th>Audio and video</th>\n",
       "      <th>Bath</th>\n",
       "      <th>Cameras</th>\n",
       "      <th>Children</th>\n",
       "      <th>Comics</th>\n",
       "      <th>Computers</th>\n",
       "      <th>DIY</th>\n",
       "      <th>Fiction</th>\n",
       "      <th>Furnishing</th>\n",
       "      <th>Kids</th>\n",
       "      <th>Kitchen</th>\n",
       "      <th>Mens</th>\n",
       "      <th>Mobiles</th>\n",
       "      <th>Non-Fiction</th>\n",
       "      <th>Personal Appliances</th>\n",
       "      <th>Tools</th>\n",
       "      <th>Women</th>\n",
       "    </tr>\n",
       "    <tr>\n",
       "      <th>gender</th>\n",
       "      <th></th>\n",
       "      <th></th>\n",
       "      <th></th>\n",
       "      <th></th>\n",
       "      <th></th>\n",
       "      <th></th>\n",
       "      <th></th>\n",
       "      <th></th>\n",
       "      <th></th>\n",
       "      <th></th>\n",
       "      <th></th>\n",
       "      <th></th>\n",
       "      <th></th>\n",
       "      <th></th>\n",
       "      <th></th>\n",
       "      <th></th>\n",
       "      <th></th>\n",
       "      <th></th>\n",
       "    </tr>\n",
       "  </thead>\n",
       "  <tbody>\n",
       "    <tr>\n",
       "      <th>F</th>\n",
       "      <td>518</td>\n",
       "      <td>470</td>\n",
       "      <td>506</td>\n",
       "      <td>447</td>\n",
       "      <td>481</td>\n",
       "      <td>485</td>\n",
       "      <td>468</td>\n",
       "      <td>484</td>\n",
       "      <td>485</td>\n",
       "      <td>477</td>\n",
       "      <td>1035</td>\n",
       "      <td>501</td>\n",
       "      <td>1410</td>\n",
       "      <td>469</td>\n",
       "      <td>496</td>\n",
       "      <td>474</td>\n",
       "      <td>510</td>\n",
       "      <td>1517</td>\n",
       "    </tr>\n",
       "    <tr>\n",
       "      <th>M</th>\n",
       "      <td>449</td>\n",
       "      <td>482</td>\n",
       "      <td>516</td>\n",
       "      <td>538</td>\n",
       "      <td>553</td>\n",
       "      <td>546</td>\n",
       "      <td>490</td>\n",
       "      <td>504</td>\n",
       "      <td>557</td>\n",
       "      <td>530</td>\n",
       "      <td>960</td>\n",
       "      <td>536</td>\n",
       "      <td>1502</td>\n",
       "      <td>562</td>\n",
       "      <td>507</td>\n",
       "      <td>498</td>\n",
       "      <td>552</td>\n",
       "      <td>1529</td>\n",
       "    </tr>\n",
       "  </tbody>\n",
       "</table>\n",
       "</div>"
      ],
      "text/plain": [
       "        Academic  Audio and video  Bath  Cameras  Children  Comics  Computers  \\\n",
       "gender                                                                          \n",
       "F            518              470   506      447       481     485        468   \n",
       "M            449              482   516      538       553     546        490   \n",
       "\n",
       "        DIY  Fiction  Furnishing  Kids  Kitchen  Mens  Mobiles  Non-Fiction  \\\n",
       "gender                                                                        \n",
       "F       484      485         477  1035      501  1410      469          496   \n",
       "M       504      557         530   960      536  1502      562          507   \n",
       "\n",
       "        Personal Appliances  Tools  Women  \n",
       "gender                                     \n",
       "F                       474    510   1517  \n",
       "M                       498    552   1529  "
      ]
     },
     "execution_count": 30,
     "metadata": {},
     "output_type": "execute_result"
    }
   ],
   "source": [
    "# Построим таблицу сопряженности для подкатегорий\n",
    "ct_o_subcat = customer_final.groupby('gender')['product_subcategory'].value_counts().unstack()\n",
    "ct_o_subcat"
   ]
  },
  {
   "cell_type": "code",
   "execution_count": 31,
   "id": "ff693b52-5bfb-4b79-8a95-2f861ef3eebe",
   "metadata": {},
   "outputs": [
    {
     "data": {
      "text/plain": [
       "17"
      ]
     },
     "execution_count": 31,
     "metadata": {},
     "output_type": "execute_result"
    }
   ],
   "source": [
    "# Установим уровень значимости и определим степени свободы и критическое значение\n",
    "alpha = 0.05\n",
    "critical_value_sub = 27.587\n",
    "dof = (ct_o_subcat.shape[0] - 1) * (ct_o_subcat.shape[1] - 1)\n",
    "dof"
   ]
  },
  {
   "cell_type": "code",
   "execution_count": 32,
   "id": "12cd85ea-2177-4a3d-8f45-781c7fcab264",
   "metadata": {},
   "outputs": [
    {
     "data": {
      "text/plain": [
       "(34.11865368761099,\n",
       " 0.008104895635552304,\n",
       " 17,\n",
       " array([[ 471.37263496,  464.06075334,  498.18286756,  480.1468929 ,\n",
       "          504.03237285,  502.56999653,  466.98550599,  481.60926922,\n",
       "          507.93204305,  490.87098594,  972.48025516,  505.49474918,\n",
       "         1419.4799514 ,  502.56999653,  488.92115084,  473.80992883,\n",
       "          517.68121854, 1484.79942718],\n",
       "        [ 495.62736504,  487.93924666,  523.81713244,  504.8531071 ,\n",
       "          529.96762715,  528.43000347,  491.01449401,  506.39073078,\n",
       "          534.06795695,  516.12901406, 1022.51974484,  531.50525082,\n",
       "         1492.5200486 ,  528.43000347,  514.07884916,  498.19007117,\n",
       "          544.31878146, 1561.20057282]]))"
      ]
     },
     "execution_count": 32,
     "metadata": {},
     "output_type": "execute_result"
    }
   ],
   "source": [
    "# Рассчитаем значение статистики хи-квадрат\n",
    "chi_square_sub = scipy.stats.chi2_contingency(ct_o_subcat, correction=True)\n",
    "chi_square_sub"
   ]
  },
  {
   "cell_type": "code",
   "execution_count": 33,
   "id": "ff99fec0-d0f4-4856-868c-f3226c83663b",
   "metadata": {},
   "outputs": [
    {
     "data": {
      "text/plain": [
       "True"
      ]
     },
     "execution_count": 33,
     "metadata": {},
     "output_type": "execute_result"
    }
   ],
   "source": [
    "chi_square_sub[0] > critical_value_sub"
   ]
  },
  {
   "cell_type": "markdown",
   "id": "cfe6b023-09ad-4991-a1cc-d19db323fd0d",
   "metadata": {},
   "source": [
    "Значение хи-квадрат оказалось больше критического значения и p-value < 0.05, соответственно мы можем отклонить нулевую гипотезу о равном соотношении полов в подкатегориях.\n",
    "\n",
    "Тем не менее по графику мы видим, что наиболее популярные подкатегории для обоих - Женщины, Мужчины, Дети. Но соотношение мужчин и женщин внутри данных подкатегорий различаются уже значительно."
   ]
  },
  {
   "cell_type": "markdown",
   "id": "d290752f-0db6-4d81-aa0a-01a36e9f4665",
   "metadata": {},
   "source": [
    "6. Определить в каком городе (коде города) наибольшее количество клиентов и процент клиентов из этого города?"
   ]
  },
  {
   "cell_type": "code",
   "execution_count": 34,
   "id": "dfa994e6-22fb-460f-9df7-1ec1441ff81e",
   "metadata": {},
   "outputs": [
    {
     "data": {
      "text/html": [
       "<div>\n",
       "<style scoped>\n",
       "    .dataframe tbody tr th:only-of-type {\n",
       "        vertical-align: middle;\n",
       "    }\n",
       "\n",
       "    .dataframe tbody tr th {\n",
       "        vertical-align: top;\n",
       "    }\n",
       "\n",
       "    .dataframe thead th {\n",
       "        text-align: right;\n",
       "    }\n",
       "</style>\n",
       "<table border=\"1\" class=\"dataframe\">\n",
       "  <thead>\n",
       "    <tr style=\"text-align: right;\">\n",
       "      <th></th>\n",
       "      <th>city_code</th>\n",
       "      <th>customer_count</th>\n",
       "      <th>city_persent</th>\n",
       "    </tr>\n",
       "  </thead>\n",
       "  <tbody>\n",
       "    <tr>\n",
       "      <th>0</th>\n",
       "      <td>1.0</td>\n",
       "      <td>2258</td>\n",
       "      <td>9.80</td>\n",
       "    </tr>\n",
       "    <tr>\n",
       "      <th>1</th>\n",
       "      <td>2.0</td>\n",
       "      <td>2270</td>\n",
       "      <td>9.85</td>\n",
       "    </tr>\n",
       "    <tr>\n",
       "      <th>2</th>\n",
       "      <td>3.0</td>\n",
       "      <td>2411</td>\n",
       "      <td>10.46</td>\n",
       "    </tr>\n",
       "    <tr>\n",
       "      <th>3</th>\n",
       "      <td>4.0</td>\n",
       "      <td>2422</td>\n",
       "      <td>10.51</td>\n",
       "    </tr>\n",
       "    <tr>\n",
       "      <th>4</th>\n",
       "      <td>5.0</td>\n",
       "      <td>2360</td>\n",
       "      <td>10.24</td>\n",
       "    </tr>\n",
       "    <tr>\n",
       "      <th>5</th>\n",
       "      <td>6.0</td>\n",
       "      <td>2127</td>\n",
       "      <td>9.23</td>\n",
       "    </tr>\n",
       "    <tr>\n",
       "      <th>6</th>\n",
       "      <td>7.0</td>\n",
       "      <td>2356</td>\n",
       "      <td>10.22</td>\n",
       "    </tr>\n",
       "    <tr>\n",
       "      <th>7</th>\n",
       "      <td>8.0</td>\n",
       "      <td>2330</td>\n",
       "      <td>10.11</td>\n",
       "    </tr>\n",
       "    <tr>\n",
       "      <th>8</th>\n",
       "      <td>9.0</td>\n",
       "      <td>2178</td>\n",
       "      <td>9.45</td>\n",
       "    </tr>\n",
       "    <tr>\n",
       "      <th>9</th>\n",
       "      <td>10.0</td>\n",
       "      <td>2333</td>\n",
       "      <td>10.12</td>\n",
       "    </tr>\n",
       "  </tbody>\n",
       "</table>\n",
       "</div>"
      ],
      "text/plain": [
       "  city_code  customer_count  city_persent\n",
       "0       1.0            2258          9.80\n",
       "1       2.0            2270          9.85\n",
       "2       3.0            2411         10.46\n",
       "3       4.0            2422         10.51\n",
       "4       5.0            2360         10.24\n",
       "5       6.0            2127          9.23\n",
       "6       7.0            2356         10.22\n",
       "7       8.0            2330         10.11\n",
       "8       9.0            2178          9.45\n",
       "9      10.0            2333         10.12"
      ]
     },
     "execution_count": 34,
     "metadata": {},
     "output_type": "execute_result"
    }
   ],
   "source": [
    "city_customers = customer_final.groupby('city_code').agg(customer_count=('customer_id', 'count')).reset_index()\n",
    "\n",
    "city_customers['city_persent'] = round(city_customers.customer_count / city_customers.customer_count.sum() * 100, 2)\n",
    "\n",
    "city_customers"
   ]
  },
  {
   "cell_type": "code",
   "execution_count": 35,
   "id": "c06412d1-4a39-4e20-a1a3-92f2a7da71f1",
   "metadata": {},
   "outputs": [
    {
     "data": {
      "image/png": "[encoded data removed]",
      "text/plain": [
       "<Figure size 800x600 with 1 Axes>"
      ]
     },
     "metadata": {},
     "output_type": "display_data"
    }
   ],
   "source": [
    "plt.figure(figsize=(8, 6))  # Задаем размер графика\n",
    "ax = sns.barplot(data=city_customers, y='customer_count', x='city_code', palette='viridis')\n",
    "ax.set(ylabel='count', xlabel='city_code')  # Подписываем оси\n",
    "plt.title('Distribution by city code')\n",
    "    \n",
    "sns.despine()\n",
    "plt.show()"
   ]
  },
  {
   "cell_type": "code",
   "execution_count": 36,
   "id": "4c988a8d-0ae9-44d0-93d4-e992b43efc6a",
   "metadata": {},
   "outputs": [
    {
     "name": "stdout",
     "output_type": "stream",
     "text": [
      "city_code            4.00\n",
      "customer_count    2422.00\n",
      "city_persent        10.51\n",
      "Name: 3, dtype: float64\n"
     ]
    }
   ],
   "source": [
    "# Находим максимальный процент\n",
    "max_customer = city_customers.city_persent.idxmax()\n",
    "\n",
    "# Выводим строку с наибольшим кол-вом клиентов\n",
    "print(city_customers.loc[max_customer])"
   ]
  },
  {
   "cell_type": "markdown",
   "id": "a4778e66-2177-4fbb-aaa5-cfbced3b2660",
   "metadata": {},
   "source": [
    "7. Какой тип магазина продает максимальное количество товаров по стоимости и количеству?"
   ]
  },
  {
   "cell_type": "code",
   "execution_count": 37,
   "id": "fd713a31-d007-4a54-a9c2-4e9133340430",
   "metadata": {},
   "outputs": [
    {
     "name": "stdout",
     "output_type": "stream",
     "text": [
      "  store_type  quantity      revenue\n",
      "3     e-Shop     22763  19824816.05\n",
      "3     e-Shop     22763  19824816.05\n"
     ]
    }
   ],
   "source": [
    "store_type = customer_final.groupby('store_type', as_index=False) \\\n",
    "                            .agg(quantity=('quantity', 'sum'), \n",
    "                                 revenue=('total_amount', 'sum')) \\\n",
    "                            .round(2)\n",
    "\n",
    "# Находим индексы максимальных значений по колонкам quantity и revenue\n",
    "max_quantity_index = store_type['quantity'].idxmax()\n",
    "max_revenue_index = store_type['revenue'].idxmax()\n",
    "\n",
    "# Выводим строки с максимальными значениями\n",
    "print(store_type.loc[[max_quantity_index, max_revenue_index]])"
   ]
  },
  {
   "cell_type": "markdown",
   "id": "eb6e2296-23e7-4aa5-8364-0652c0eab4e4",
   "metadata": {},
   "source": [
    "E-Shop продает наибольшее число товаров и по количеству, и по стоимости"
   ]
  },
  {
   "cell_type": "markdown",
   "id": "f881add5-2ba2-4f76-ab28-79299eb8cfa5",
   "metadata": {},
   "source": [
    "8. Определить общую сумму доходов по категориям «Электроника» и «Одежда» от Флагманских магазинов."
   ]
  },
  {
   "cell_type": "code",
   "execution_count": 38,
   "id": "8b43ca90-65b1-4d5c-ac4f-e7dce849458e",
   "metadata": {},
   "outputs": [
    {
     "data": {
      "text/html": [
       "<div>\n",
       "<style scoped>\n",
       "    .dataframe tbody tr th:only-of-type {\n",
       "        vertical-align: middle;\n",
       "    }\n",
       "\n",
       "    .dataframe tbody tr th {\n",
       "        vertical-align: top;\n",
       "    }\n",
       "\n",
       "    .dataframe thead th {\n",
       "        text-align: right;\n",
       "    }\n",
       "</style>\n",
       "<table border=\"1\" class=\"dataframe\">\n",
       "  <thead>\n",
       "    <tr style=\"text-align: right;\">\n",
       "      <th></th>\n",
       "      <th>product_category</th>\n",
       "      <th>total_amount</th>\n",
       "    </tr>\n",
       "  </thead>\n",
       "  <tbody>\n",
       "    <tr>\n",
       "      <th>0</th>\n",
       "      <td>Clothing</td>\n",
       "      <td>1194423.23</td>\n",
       "    </tr>\n",
       "    <tr>\n",
       "      <th>1</th>\n",
       "      <td>Electronics</td>\n",
       "      <td>2215136.04</td>\n",
       "    </tr>\n",
       "  </tbody>\n",
       "</table>\n",
       "</div>"
      ],
      "text/plain": [
       "  product_category  total_amount\n",
       "0         Clothing    1194423.23\n",
       "1      Electronics    2215136.04"
      ]
     },
     "execution_count": 38,
     "metadata": {},
     "output_type": "execute_result"
    }
   ],
   "source": [
    "flagship_revenue = customer_final[(customer_final['store_type'] == 'Flagship store')] \\\n",
    "                    .query('product_category == \"Electronics\" | product_category == \"Clothing\"') \\\n",
    "                    .groupby('product_category') \\\n",
    "                    .agg({'total_amount':'sum'}) \\\n",
    "                    .query('total_amount > 0') \\\n",
    "                    .reset_index()\n",
    "flagship_revenue"
   ]
  },
  {
   "cell_type": "markdown",
   "id": "57d8488b-8e3a-4574-a708-d0d1f9009494",
   "metadata": {},
   "source": [
    "9. Определить общую сумму доходов от мужчин-клиентов в категории «Электроника»?"
   ]
  },
  {
   "cell_type": "code",
   "execution_count": 39,
   "id": "5efd8e36-9100-4998-9f4d-e43514b60fe0",
   "metadata": {},
   "outputs": [
    {
     "data": {
      "text/html": [
       "<div>\n",
       "<style scoped>\n",
       "    .dataframe tbody tr th:only-of-type {\n",
       "        vertical-align: middle;\n",
       "    }\n",
       "\n",
       "    .dataframe tbody tr th {\n",
       "        vertical-align: top;\n",
       "    }\n",
       "\n",
       "    .dataframe thead th {\n",
       "        text-align: right;\n",
       "    }\n",
       "</style>\n",
       "<table border=\"1\" class=\"dataframe\">\n",
       "  <thead>\n",
       "    <tr style=\"text-align: right;\">\n",
       "      <th></th>\n",
       "      <th>product_category</th>\n",
       "      <th>total_amount</th>\n",
       "    </tr>\n",
       "  </thead>\n",
       "  <tbody>\n",
       "    <tr>\n",
       "      <th>3</th>\n",
       "      <td>Electronics</td>\n",
       "      <td>5703109.425</td>\n",
       "    </tr>\n",
       "  </tbody>\n",
       "</table>\n",
       "</div>"
      ],
      "text/plain": [
       "  product_category  total_amount\n",
       "3      Electronics   5703109.425"
      ]
     },
     "execution_count": 39,
     "metadata": {},
     "output_type": "execute_result"
    }
   ],
   "source": [
    "male_revenue = customer_final[(customer_final['gender'] == 'M')] \\\n",
    "                    .groupby('product_category', as_index=False) \\\n",
    "                    .agg({'total_amount':'sum'}) \\\n",
    "                    .query('product_category == \"Electronics\"')\n",
    "male_revenue"
   ]
  },
  {
   "cell_type": "markdown",
   "id": "cfc497d6-7de9-479b-a444-6bf817b7a9c0",
   "metadata": {},
   "source": [
    "10. Сколько клиентов имеют более 10 уникальных транзакций (без учета отрицательных транзакций)?"
   ]
  },
  {
   "cell_type": "code",
   "execution_count": 40,
   "id": "b508dea5-763a-4a42-b08a-3e393123e0ef",
   "metadata": {},
   "outputs": [],
   "source": [
    "# Определим клиентов, с отрицательной выручкой\n",
    "negative_amount = customer_final[customer_final['total_amount'] < 0].customer_id.unique()"
   ]
  },
  {
   "cell_type": "code",
   "execution_count": 41,
   "id": "22cdf9a9-3941-43be-9129-780efec2c06a",
   "metadata": {},
   "outputs": [
    {
     "data": {
      "text/html": [
       "<div>\n",
       "<style scoped>\n",
       "    .dataframe tbody tr th:only-of-type {\n",
       "        vertical-align: middle;\n",
       "    }\n",
       "\n",
       "    .dataframe tbody tr th {\n",
       "        vertical-align: top;\n",
       "    }\n",
       "\n",
       "    .dataframe thead th {\n",
       "        text-align: right;\n",
       "    }\n",
       "</style>\n",
       "<table border=\"1\" class=\"dataframe\">\n",
       "  <thead>\n",
       "    <tr style=\"text-align: right;\">\n",
       "      <th></th>\n",
       "      <th>customer_id</th>\n",
       "      <th>cnt_transactions</th>\n",
       "    </tr>\n",
       "  </thead>\n",
       "  <tbody>\n",
       "    <tr>\n",
       "      <th>0</th>\n",
       "      <td>270535</td>\n",
       "      <td>11</td>\n",
       "    </tr>\n",
       "    <tr>\n",
       "      <th>1</th>\n",
       "      <td>270803</td>\n",
       "      <td>11</td>\n",
       "    </tr>\n",
       "    <tr>\n",
       "      <th>2</th>\n",
       "      <td>272741</td>\n",
       "      <td>11</td>\n",
       "    </tr>\n",
       "  </tbody>\n",
       "</table>\n",
       "</div>"
      ],
      "text/plain": [
       "   customer_id  cnt_transactions\n",
       "0       270535                11\n",
       "1       270803                11\n",
       "2       272741                11"
      ]
     },
     "execution_count": 41,
     "metadata": {},
     "output_type": "execute_result"
    }
   ],
   "source": [
    "# С помощью инверсии определим необходимых по условию клиентов (выбираем всех клиентов, где id НЕ находятся в списке negative_amount)\n",
    "customer_final[~customer_final['customer_id'].isin(negative_amount)].groupby('customer_id') \\\n",
    "                                             .agg(cnt_transactions = ('transaction_id','count')) \\\n",
    "                                             .query('cnt_transactions > 10') \\\n",
    "                                             .reset_index()"
   ]
  },
  {
   "cell_type": "markdown",
   "id": "063b1084-4665-4763-91c7-87c37411fc4d",
   "metadata": {},
   "source": [
    "Проверим какое количество клиентов совершали продажи на протяжении всех лет"
   ]
  },
  {
   "cell_type": "code",
   "execution_count": 42,
   "id": "6f2652a1-369b-4faa-9e0d-170538f96e45",
   "metadata": {},
   "outputs": [
    {
     "data": {
      "text/plain": [
       "3783"
      ]
     },
     "execution_count": 42,
     "metadata": {},
     "output_type": "execute_result"
    }
   ],
   "source": [
    "# Выбираем данные для каждого года\n",
    "data_2011 = customer_final.query('(tran_date >= \"2011-01-01\") & (tran_date <= \"2012-12-31\")').groupby('customer_id').transaction_id.count()\n",
    "data_2012 = customer_final.query('(tran_date >= \"2012-01-01\") & (tran_date <= \"2013-12-31\")').groupby('customer_id').transaction_id.count()\n",
    "data_2013 = customer_final.query('(tran_date >= \"2013-01-01\") & (tran_date <= \"2014-12-31\")').groupby('customer_id').transaction_id.count()\n",
    "\n",
    "# Объединяем данные по клиентам и находим пересечения\n",
    "common_customers = set(data_2011.index) & set(data_2012.index) & set(data_2013.index)\n",
    "\n",
    "# Подсчитываем общее количество клиентов\n",
    "total_customers = len(common_customers)\n",
    "total_customers"
   ]
  },
  {
   "cell_type": "markdown",
   "id": "d760afa7-5206-4b82-ace4-8f29a6434928",
   "metadata": {},
   "source": [
    "11. Определить для всех клиентов в возрасте от 25 до 35 лет: \n",
    "    \n",
    "    11.1. Общую сумму расходов по категориям «Электроника» и «Книги» \n",
    "    \n",
    "    11.2. Общую сумму расходов для данной категории клиентов за период с 1 января 2014 г. по 1 марта 2014 г.?"
   ]
  },
  {
   "cell_type": "code",
   "execution_count": 43,
   "id": "5fe30380-dc8e-4b06-bd92-576e29ba1a73",
   "metadata": {},
   "outputs": [],
   "source": [
    "# Добавим в датафрейм расчетный столбец с возрастом клиентов\n",
    "customer_final['age'] = (pd.to_datetime('today') - customer_final['dob']).dt.days // 365"
   ]
  },
  {
   "cell_type": "code",
   "execution_count": 44,
   "id": "a8a3880e-42fc-4ab9-a3bb-acdbd81266be",
   "metadata": {},
   "outputs": [
    {
     "data": {
      "text/html": [
       "<div>\n",
       "<style scoped>\n",
       "    .dataframe tbody tr th:only-of-type {\n",
       "        vertical-align: middle;\n",
       "    }\n",
       "\n",
       "    .dataframe tbody tr th {\n",
       "        vertical-align: top;\n",
       "    }\n",
       "\n",
       "    .dataframe thead th {\n",
       "        text-align: right;\n",
       "    }\n",
       "</style>\n",
       "<table border=\"1\" class=\"dataframe\">\n",
       "  <thead>\n",
       "    <tr style=\"text-align: right;\">\n",
       "      <th></th>\n",
       "      <th>product_category</th>\n",
       "      <th>total_amount</th>\n",
       "    </tr>\n",
       "  </thead>\n",
       "  <tbody>\n",
       "    <tr>\n",
       "      <th>0</th>\n",
       "      <td>Books</td>\n",
       "      <td>2591081.35</td>\n",
       "    </tr>\n",
       "    <tr>\n",
       "      <th>1</th>\n",
       "      <td>Electronics</td>\n",
       "      <td>2216119.49</td>\n",
       "    </tr>\n",
       "  </tbody>\n",
       "</table>\n",
       "</div>"
      ],
      "text/plain": [
       "  product_category  total_amount\n",
       "0            Books    2591081.35\n",
       "1      Electronics    2216119.49"
      ]
     },
     "execution_count": 44,
     "metadata": {},
     "output_type": "execute_result"
    }
   ],
   "source": [
    "total_cost_for_category = customer_final.query('age >= 25 & age <= 35') \\\n",
    "                                 .groupby('product_category') \\\n",
    "                                 .agg({'total_amount':'sum'}) \\\n",
    "                                 .query('product_category == \"Electronics\" | product_category == \"Books\"') \\\n",
    "                                 .reset_index()\n",
    "total_cost_for_category"
   ]
  },
  {
   "cell_type": "code",
   "execution_count": 45,
   "id": "34b6498a-b4e0-4332-8406-53df950fe1a9",
   "metadata": {},
   "outputs": [
    {
     "data": {
      "text/plain": [
       "370336.33"
      ]
     },
     "execution_count": 45,
     "metadata": {},
     "output_type": "execute_result"
    }
   ],
   "source": [
    "total_cost_for_period = customer_final.query('(age >= 25 & age <= 35) \\\n",
    "                                             &(tran_date >= \"2014-01-01\") \\\n",
    "                                             &(tran_date <= \"2014-03-01\")')['total_amount'].sum().round(2)\n",
    "total_cost_for_period"
   ]
  },
  {
   "cell_type": "code",
   "execution_count": 46,
   "id": "c1723ebf-c5db-4cc2-ab6c-abfd0e63301a",
   "metadata": {},
   "outputs": [
    {
     "data": {
      "image/png": "[encoded data removed]",
      "text/plain": [
       "<Figure size 640x480 with 1 Axes>"
      ]
     },
     "metadata": {},
     "output_type": "display_data"
    }
   ],
   "source": [
    "ax = sns.barplot(data=customer_final.groupby('age').customer_id.count().reset_index(), x='age', y='customer_id')\n",
    "ax.set(ylabel='count', xlabel='age')\n",
    "plt.title('Distribution by age')\n",
    "    \n",
    "sns.despine()\n",
    "plt.show()"
   ]
  },
  {
   "cell_type": "markdown",
   "id": "9ac9d9d4-7e00-4b3d-bce3-38b03e8b2d02",
   "metadata": {},
   "source": [
    "По результатам анализа данных могу сделать следующие выводы.\n",
    "\n",
    "Анализировались данные по продажам в ритейле за период с 2011-01-02 по 2014-12-02. За это время было произведено более 23000 транзакций для 5506 уникальных клиентов. Средний чек составляет 2107 руб., медианное значение 1754 руб. Показатели различаются значительно, это говорит о наличии в данных выбросов, которые смещают среднюю (в данном случае, транзакции с отрицательной суммой уменьшают нашу выручку). Это также подтверждается min и max значениями по колонке с total_amount (-8270 и 8287, соответственно).\n",
    "\n",
    "Среднее количество товаров в одном чеке - 2, медианное - 3. Данные схожи, разницу опять же можем объяснить наличием аномалии с отрицательными значениями и широкий разброс (наименьшее значение -5, наибольшее 5).\n",
    "\n",
    "В структуре данных представлено 4 типа магазинов. Самый крупный из них по количеству продаж - e-Shop, типы MBR, Flagship store и TeleShop представлены примерно в равном количестве. Соотношение мужской и женской аудитории различается незначительно (но покупателей-мужчин больше на 2,5%). e-Shop лидирует также и по количеству продаваемых товаров (22,763 шт против ~ 11,000 по каждому из оставшихся типов магазинов) и по выручке (19,8 млн денежных единиц против ~ 9,3 млн по каждому из магазинов).\n",
    "\n",
    "По категориям товаров самые частопродаваемые категории - Книги (пользуются одинаково большой популярностью у обоих полов), Элекроника и Товары для дома и кухни. На основании анализа хи-квадрат было установлено, что колебания между разными гендерами внутри данных групп различаются незначительно, и можно говорить о сохранении пропорции в 50/50 (М/Ж).\n",
    "\n",
    "Среди подкатегорий наиболее популярны - Women, Mens, Kids. Однако на основе того же исследования хи-квадрат в этом случае, мы уже не можем говорить о том, что соотношение мужчин и женщин в них одинаковое (гипотеза о равном соотношении была отклонена).\n",
    "\n",
    "Распределении клиентов по городам (интерпретирую это через данные по city_code) имеет схожие значения, ~ по 10% на каждый город. Таким образом привлечение клиентов осуществляется без явного преимущества по какому-то городу, и можно сделать вывод о корректно определенной целевой аудитории, так как спрос на продукцию одинаковый.\n",
    "\n",
    "Не менее 90% всех клиентов совершали, как минимум, одну повторную покупку (5043 чел.), более 5 раз покупку совершили 25% (1393 чел.) пользователей, и более 10 - 0,65% (36 чел.). При этом помним, что это данные за 4 года (с 2011 по 2014). В исходных файлах нет информации о том, данные по какой(им) стране(ам) приведены, но отмечу, что даже для того периода времени и с учетом того, что еще не случился рост популярности онлайн-продаж, показатели крайне малы. Предположу, что это данные по совсем небольшому ритейлу, где есть постоянные покупатели, которые совершают по несколько (до 5) продаж в год: кол-во клиентов совершавших покупки из года в год - 3783 чел.\n",
    "\n",
    "Текущий возраст аудитории ритейла 31+, и совсем отсутствуют школьники, студенты, \"молодежь\". Но, опять же можем списать это на погрешность расчетов, т.к. возраст вычислялся от текущей даты (2024 год) и сами данные достаточно старые, за вычетом разницы между текущей датой и датой последней транзакции мы получим молодую аудиторию (20+), которая периодически совершала продажи в данном ритейле в период с 2011 по 2014 гг."
   ]
  },
  {
   "cell_type": "code",
   "execution_count": null,
   "id": "20ec527c-c1d5-4ee2-a281-6ba30b9689ca",
   "metadata": {},
   "outputs": [],
   "source": []
  }
 ],
 "metadata": {
  "kernelspec": {
   "display_name": "Python 3 (ipykernel)",
   "language": "python",
   "name": "python3"
  },
  "language_info": {
   "codemirror_mode": {
    "name": "ipython",
    "version": 3
   },
   "file_extension": ".py",
   "mimetype": "text/x-python",
   "name": "python",
   "nbconvert_exporter": "python",
   "pygments_lexer": "ipython3",
   "version": "3.9.13"
  }
 },
 "nbformat": 4,
 "nbformat_minor": 5
}
